{
 "cells": [
  {
   "cell_type": "markdown",
   "metadata": {
    "application/vnd.databricks.v1+cell": {
     "cellMetadata": {},
     "inputWidgets": {},
     "nuid": "7a5776cc-1da2-46c2-82fc-a3db8e5a04c4",
     "showTitle": false,
     "tableResultSettingsMap": {},
     "title": ""
    }
   },
   "source": [
    "# Structured Streaming using the Python DataFrames API\n",
    "\n",
    "Apache Spark includes a high-level stream processing API, [Structured Streaming](http://spark.apache.org/docs/latest/structured-streaming-programming-guide.html). In this notebook we take a quick look at how to use the DataFrame API to build Structured Streaming applications. We want to compute real-time metrics like running counts and windowed counts on a stream of timestamped actions (e.g. Open, Close, etc).\n",
    "\n",
    "To run this notebook, import it and attach it to a Spark cluster."
   ]
  },
  {
   "cell_type": "markdown",
   "metadata": {
    "application/vnd.databricks.v1+cell": {
     "cellMetadata": {},
     "inputWidgets": {},
     "nuid": "39eb54e7-59e7-4217-9619-79e4bf885027",
     "showTitle": false,
     "tableResultSettingsMap": {},
     "title": ""
    }
   },
   "source": [
    "## Sample Data\n",
    "We have some sample action data as files in `/databricks-datasets/structured-streaming/events/` which we are going to use to build this appication. Let's take a look at the contents of this directory."
   ]
  },
  {
   "cell_type": "code",
   "execution_count": 0,
   "metadata": {
    "application/vnd.databricks.v1+cell": {
     "cellMetadata": {},
     "inputWidgets": {},
     "nuid": "5a9ba90c-2b0d-4385-ab09-1b21179c000d",
     "showTitle": false,
     "tableResultSettingsMap": {},
     "title": ""
    }
   },
   "outputs": [
    {
     "output_type": "display_data",
     "data": {
      "text/html": [
       "<style scoped>\n",
       "  .ansiout {\n",
       "    display: block;\n",
       "    unicode-bidi: embed;\n",
       "    white-space: pre-wrap;\n",
       "    word-wrap: break-word;\n",
       "    word-break: break-all;\n",
       "    font-family: \"Menlo\", \"Monaco\", \"Consolas\", \"Ubuntu Mono\", \"Source Code Pro\", monospace;\n",
       "    font-size: 13px;\n",
       "    color: #555;\n",
       "    margin-left: 4px;\n",
       "    line-height: 19px;\n",
       "  }\n",
       "</style>"
      ]
     },
     "metadata": {
      "application/vnd.databricks.v1+output": {
       "arguments": {},
       "data": "",
       "errorSummary": "",
       "errorTraceType": null,
       "metadata": {},
       "type": "ipynbError"
      }
     },
     "output_type": "display_data"
    }
   ],
   "source": [
    "# Look at the content of the following folder: /databricks-datasets/structured-streaming/events/\n",
    "# What do you see?"
   ]
  },
  {
   "cell_type": "markdown",
   "metadata": {
    "application/vnd.databricks.v1+cell": {
     "cellMetadata": {},
     "inputWidgets": {},
     "nuid": "52af76d1-2f83-4856-bd51-3f4fd840d03c",
     "showTitle": false,
     "tableResultSettingsMap": {},
     "title": ""
    }
   },
   "source": [
    "Importing Required libraries"
   ]
  },
  {
   "cell_type": "code",
   "execution_count": 0,
   "metadata": {
    "application/vnd.databricks.v1+cell": {
     "cellMetadata": {
      "byteLimit": 2048000,
      "rowLimit": 10000
     },
     "inputWidgets": {},
     "nuid": "9fb3962d-78d6-4be6-b179-3991029a1093",
     "showTitle": false,
     "tableResultSettingsMap": {},
     "title": ""
    }
   },
   "outputs": [],
   "source": [
    "from pyspark.sql import SparkSession\n",
    "from pyspark.sql.types import StructType, StructField, TimestampType, StringType, DoubleType\n",
    "from pyspark.sql.functions import col, window, count, min, max"
   ]
  },
  {
   "cell_type": "markdown",
   "metadata": {
    "application/vnd.databricks.v1+cell": {
     "cellMetadata": {},
     "inputWidgets": {},
     "nuid": "79f7c2e4-2c4a-4aa2-9059-caf321370913",
     "showTitle": false,
     "tableResultSettingsMap": {},
     "title": ""
    }
   },
   "source": [
    "Initializing the spark session"
   ]
  },
  {
   "cell_type": "markdown",
   "metadata": {
    "application/vnd.databricks.v1+cell": {
     "cellMetadata": {},
     "inputWidgets": {},
     "nuid": "2dcf2acd-6ffe-4497-b1aa-615051192d45",
     "showTitle": false,
     "tableResultSettingsMap": {},
     "title": ""
    }
   },
   "source": [
    "Look at the functions head in dbutils\n",
    "Open one file"
   ]
  },
  {
   "cell_type": "code",
   "execution_count": 0,
   "metadata": {
    "application/vnd.databricks.v1+cell": {
     "cellMetadata": {
      "byteLimit": 2048000,
      "rowLimit": 10000
     },
     "inputWidgets": {},
     "nuid": "1516f725-7d85-43aa-854c-a80f02910153",
     "showTitle": false,
     "tableResultSettingsMap": {},
     "title": ""
    }
   },
   "outputs": [],
   "source": [
    "# Initialize Spark session\n",
    "spark = SparkSession.builder.appName(\"StructuredStreamingExample\").getOrCreate()"
   ]
  },
  {
   "cell_type": "code",
   "execution_count": 0,
   "metadata": {
    "application/vnd.databricks.v1+cell": {
     "cellMetadata": {
      "byteLimit": 2048000,
      "rowLimit": 10000
     },
     "inputWidgets": {},
     "nuid": "236f58a3-0883-41fc-bb4b-cdf2b133d028",
     "showTitle": false,
     "tableResultSettingsMap": {},
     "title": ""
    }
   },
   "outputs": [],
   "source": [
    "data_path = \"/databricks-datasets/structured-streaming/events/\""
   ]
  },
  {
   "cell_type": "code",
   "execution_count": 0,
   "metadata": {
    "application/vnd.databricks.v1+cell": {
     "cellMetadata": {
      "byteLimit": 2048000,
      "rowLimit": 10000
     },
     "inputWidgets": {},
     "nuid": "8c817c58-dcc2-465f-8e8f-79e56b2d5ab3",
     "showTitle": false,
     "tableResultSettingsMap": {},
     "title": ""
    }
   },
   "outputs": [],
   "source": [
    "json_schema = StructType([\n",
    "    StructField(\"time\", TimestampType(), True),\n",
    "    StructField(\"action\", StringType(), True)\n",
    "])"
   ]
  },
  {
   "cell_type": "markdown",
   "metadata": {
    "application/vnd.databricks.v1+cell": {
     "cellMetadata": {},
     "inputWidgets": {},
     "nuid": "804bc3ee-1437-461b-8395-e9d18b32a8f3",
     "showTitle": false,
     "tableResultSettingsMap": {},
     "title": ""
    }
   },
   "source": [
    "## Batch/Interactive Processing\n",
    "The usual first step in attempting to process the data is to interactively query the data. Let's define a static DataFrame on the files, and give it a table name."
   ]
  },
  {
   "cell_type": "markdown",
   "metadata": {
    "application/vnd.databricks.v1+cell": {
     "cellMetadata": {},
     "inputWidgets": {},
     "nuid": "21dcb478-9b10-486f-a88e-e56aec27e84c",
     "showTitle": false,
     "tableResultSettingsMap": {},
     "title": ""
    }
   },
   "source": [
    "Read all json files, taking into account the defined schema, and display the content "
   ]
  },
  {
   "cell_type": "markdown",
   "metadata": {
    "application/vnd.databricks.v1+cell": {
     "cellMetadata": {},
     "inputWidgets": {},
     "nuid": "473a6faa-75e9-43d1-8cdc-e16431e44a13",
     "showTitle": false,
     "tableResultSettingsMap": {},
     "title": ""
    }
   },
   "source": [
    "Each line in the file contains JSON record with two fields - `time` and `action`. Let's try to analyze these files interactively."
   ]
  },
  {
   "cell_type": "markdown",
   "metadata": {
    "application/vnd.databricks.v1+cell": {
     "cellMetadata": {},
     "inputWidgets": {},
     "nuid": "f4b333bd-50e7-43d5-af62-5a5fa699770a",
     "showTitle": false,
     "tableResultSettingsMap": {},
     "title": ""
    }
   },
   "source": [
    "There are about 50 JSON files in the directory. Let's see what each JSON file contains."
   ]
  },
  {
   "cell_type": "markdown",
   "metadata": {
    "application/vnd.databricks.v1+cell": {
     "cellMetadata": {},
     "inputWidgets": {},
     "nuid": "abb08013-56a6-4c6c-ab26-ba21e3d5984e",
     "showTitle": false,
     "tableResultSettingsMap": {},
     "title": ""
    }
   },
   "source": [
    "- Compare the dates from the output without schema and with it. \n",
    "- Did you notice that inputPath is a folder?"
   ]
  },
  {
   "cell_type": "code",
   "execution_count": 0,
   "metadata": {
    "application/vnd.databricks.v1+cell": {
     "cellMetadata": {
      "byteLimit": 2048000,
      "rowLimit": 10000
     },
     "inputWidgets": {},
     "nuid": "127d448c-e803-4d12-b5cb-5a5fae553783",
     "showTitle": false,
     "tableResultSettingsMap": {},
     "title": ""
    }
   },
   "outputs": [
    {
     "output_type": "stream",
     "name": "stdout",
     "output_type": "stream",
     "text": [
      "+-------------------+------+\n|time               |action|\n+-------------------+------+\n|2016-07-28 04:19:28|Close |\n|2016-07-28 04:19:28|Close |\n|2016-07-28 04:19:29|Open  |\n|2016-07-28 04:19:31|Close |\n|2016-07-28 04:19:31|Open  |\n|2016-07-28 04:19:31|Open  |\n|2016-07-28 04:19:32|Close |\n|2016-07-28 04:19:33|Close |\n|2016-07-28 04:19:35|Close |\n|2016-07-28 04:19:36|Open  |\n|2016-07-28 04:19:38|Close |\n|2016-07-28 04:19:40|Open  |\n|2016-07-28 04:19:41|Close |\n|2016-07-28 04:19:42|Open  |\n|2016-07-28 04:19:45|Open  |\n|2016-07-28 04:19:47|Open  |\n|2016-07-28 04:19:48|Open  |\n|2016-07-28 04:19:49|Open  |\n|2016-07-28 04:19:55|Open  |\n|2016-07-28 04:20:00|Close |\n+-------------------+------+\nonly showing top 20 rows\n\n"
     ]
    }
   ],
   "source": [
    "static_df = spark.read.schema(json_schema).json(data_path)\n",
    "static_df.show(truncate=False)"
   ]
  },
  {
   "cell_type": "code",
   "execution_count": 0,
   "metadata": {
    "application/vnd.databricks.v1+cell": {
     "cellMetadata": {
      "byteLimit": 2048000,
      "rowLimit": 10000
     },
     "inputWidgets": {},
     "nuid": "18a9800b-dd5b-40bb-9ab7-bda139dba1ae",
     "showTitle": false,
     "tableResultSettingsMap": {},
     "title": ""
    }
   },
   "outputs": [],
   "source": [
    "streaming_df = spark.readStream.schema(json_schema).json(data_path)"
   ]
  },
  {
   "cell_type": "code",
   "execution_count": 0,
   "metadata": {
    "application/vnd.databricks.v1+cell": {
     "cellMetadata": {
      "byteLimit": 2048000,
      "rowLimit": 10000
     },
     "inputWidgets": {},
     "nuid": "9c93228f-98f4-45b6-a1fb-1481d73aea10",
     "showTitle": false,
     "tableResultSettingsMap": {},
     "title": ""
    }
   },
   "outputs": [],
   "source": [
    "action_counts = streaming_df.groupBy(\"action\").count()"
   ]
  },
  {
   "cell_type": "markdown",
   "metadata": {
    "application/vnd.databricks.v1+cell": {
     "cellMetadata": {},
     "inputWidgets": {},
     "nuid": "ec2b1d65-6284-49ad-a9b4-a2fce4de00f3",
     "showTitle": false,
     "tableResultSettingsMap": {},
     "title": ""
    }
   },
   "source": [
    "Calculate the total number of 'Open' and 'Close' actions"
   ]
  },
  {
   "cell_type": "code",
   "execution_count": 0,
   "metadata": {
    "application/vnd.databricks.v1+cell": {
     "cellMetadata": {
      "byteLimit": 2048000,
      "rowLimit": 10000
     },
     "inputWidgets": {},
     "nuid": "72996770-1643-4a50-8773-1556dd0d8b20",
     "showTitle": false,
     "tableResultSettingsMap": {},
     "title": ""
    }
   },
   "outputs": [
    {
     "output_type": "stream",
     "name": "stdout",
     "output_type": "stream",
     "text": [
      "+------+-----------+\n|action|total_count|\n+------+-----------+\n|  Open|      50000|\n| Close|      50000|\n+------+-----------+\n\n"
     ]
    }
   ],
   "source": [
    "total_action_counts = static_df.groupBy(\"action\").agg(count(\"action\").alias(\"total_count\"))\n",
    "total_action_counts.show()"
   ]
  },
  {
   "cell_type": "markdown",
   "metadata": {
    "application/vnd.databricks.v1+cell": {
     "cellMetadata": {},
     "inputWidgets": {},
     "nuid": "906d27c9-5303-43fb-a222-4ed57f4daee0",
     "showTitle": false,
     "tableResultSettingsMap": {},
     "title": ""
    }
   },
   "source": [
    "Determine min and max time"
   ]
  },
  {
   "cell_type": "code",
   "execution_count": 0,
   "metadata": {
    "application/vnd.databricks.v1+cell": {
     "cellMetadata": {
      "byteLimit": 2048000,
      "rowLimit": 10000
     },
     "inputWidgets": {},
     "nuid": "a607c9d1-1ef0-43a8-aee8-e9d2fee6262c",
     "showTitle": false,
     "tableResultSettingsMap": {},
     "title": ""
    }
   },
   "outputs": [
    {
     "output_type": "stream",
     "name": "stdout",
     "output_type": "stream",
     "text": [
      "+-------------------+-------------------+\n|           min_time|           max_time|\n+-------------------+-------------------+\n|2016-07-26 02:45:07|2016-07-28 06:48:19|\n+-------------------+-------------------+\n\n"
     ]
    }
   ],
   "source": [
    "min_max_time = static_df.agg(min(\"time\").alias(\"min_time\"), max(\"time\").alias(\"max_time\"))\n",
    "min_max_time.show()"
   ]
  },
  {
   "cell_type": "code",
   "execution_count": 0,
   "metadata": {
    "application/vnd.databricks.v1+cell": {
     "cellMetadata": {
      "byteLimit": 2048000,
      "rowLimit": 10000
     },
     "inputWidgets": {},
     "nuid": "0d5b179e-2575-4d6e-a05f-30949e5c9806",
     "showTitle": false,
     "tableResultSettingsMap": {},
     "title": ""
    }
   },
   "outputs": [],
   "source": [
    "# Calculate the number of \"open\" and \"close\" actions with one hour windows: staticCountsDF\n",
    "# Look at groupBy(..., window) function\n",
    "action_counts = streaming_df.groupBy(\"action\").count()\n",
    "windowed_counts = streaming_df.groupBy(window(col(\"time\"), \"1 hour\"), col(\"action\")).count()"
   ]
  },
  {
   "cell_type": "code",
   "execution_count": 0,
   "metadata": {
    "application/vnd.databricks.v1+cell": {
     "cellMetadata": {
      "byteLimit": 2048000,
      "rowLimit": 10000
     },
     "inputWidgets": {},
     "nuid": "51a1f785-d6ab-4e96-8089-174686eb63be",
     "showTitle": false,
     "tableResultSettingsMap": {},
     "title": ""
    }
   },
   "outputs": [],
   "source": [
    "# Make this window a sliding window (30 minutes overlap): staticCountsSW\n",
    "\n",
    "sliding_windowed_counts = streaming_df.groupBy(window(col(\"time\"), \"1 hour\", \"30 minutes\"), col(\"action\")).count()"
   ]
  },
  {
   "cell_type": "code",
   "execution_count": 0,
   "metadata": {
    "application/vnd.databricks.v1+cell": {
     "cellMetadata": {},
     "inputWidgets": {},
     "nuid": "d856da4a-d352-42c0-9701-fe91a7eef5e2",
     "showTitle": false,
     "tableResultSettingsMap": {},
     "title": ""
    }
   },
   "outputs": [
    {
     "output_type": "display_data",
     "data": {
      "text/html": [
       "<style scoped>\n",
       "  .ansiout {\n",
       "    display: block;\n",
       "    unicode-bidi: embed;\n",
       "    white-space: pre-wrap;\n",
       "    word-wrap: break-word;\n",
       "    word-break: break-all;\n",
       "    font-family: \"Menlo\", \"Monaco\", \"Consolas\", \"Ubuntu Mono\", \"Source Code Pro\", monospace;\n",
       "    font-size: 13px;\n",
       "    color: #555;\n",
       "    margin-left: 4px;\n",
       "    line-height: 19px;\n",
       "  }\n",
       "</style>"
      ]
     },
     "metadata": {
      "application/vnd.databricks.v1+output": {
       "arguments": {},
       "data": "",
       "errorSummary": "",
       "errorTraceType": null,
       "metadata": {},
       "type": "ipynbError"
      }
     },
     "output_type": "display_data"
    }
   ],
   "source": [
    "# Register staticCountsDF (createOrReplaceTempView) as table 'static_counts'\n"
   ]
  },
  {
   "cell_type": "markdown",
   "metadata": {
    "application/vnd.databricks.v1+cell": {
     "cellMetadata": {},
     "inputWidgets": {},
     "nuid": "b3627362-e104-40da-b0f9-b764cb0388d1",
     "showTitle": false,
     "tableResultSettingsMap": {},
     "title": ""
    }
   },
   "source": [
    "Now we can directly use SQL to query the table."
   ]
  },
  {
   "cell_type": "code",
   "execution_count": 0,
   "metadata": {
    "application/vnd.databricks.v1+cell": {
     "cellMetadata": {
      "byteLimit": 2048000,
      "rowLimit": 10000
     },
     "inputWidgets": {},
     "nuid": "a9846312-306a-45d8-84ac-de7657ae4e77",
     "showTitle": false,
     "tableResultSettingsMap": {},
     "title": ""
    }
   },
   "outputs": [],
   "source": [
    "\n",
    "#-- Count all Open and Close actions in the table static_counts  \n",
    "query = sliding_windowed_counts.writeStream.outputMode(\"complete\").format(\"console\").start()"
   ]
  },
  {
   "cell_type": "code",
   "execution_count": 0,
   "metadata": {
    "application/vnd.databricks.v1+cell": {
     "cellMetadata": {
      "byteLimit": 2048000,
      "rowLimit": 10000
     },
     "inputWidgets": {},
     "nuid": "cd179e37-1f5d-4393-83ca-e432043c7b1c",
     "showTitle": false,
     "tableResultSettingsMap": {},
     "title": ""
    }
   },
   "outputs": [],
   "source": [
    "query.stop()"
   ]
  },
  {
   "cell_type": "code",
   "execution_count": 0,
   "metadata": {
    "application/vnd.databricks.v1+cell": {
     "cellMetadata": {
      "byteLimit": 2048000,
      "rowLimit": 10000
     },
     "inputWidgets": {},
     "nuid": "b4e4f221-8a30-4959-bf75-05be79c8ee19",
     "showTitle": false,
     "tableResultSettingsMap": {},
     "title": ""
    }
   },
   "outputs": [],
   "source": [
    "query.awaitTermination()"
   ]
  },
  {
   "cell_type": "markdown",
   "metadata": {
    "application/vnd.databricks.v1+cell": {
     "cellMetadata": {},
     "inputWidgets": {},
     "nuid": "617e1996-8950-419f-a829-b1f815af2d83",
     "showTitle": false,
     "tableResultSettingsMap": {},
     "title": ""
    }
   },
   "source": [
    "Note the two ends of the graph. The close actions are generated such that they are after the corresponding open actions, so there are more \"opens\" in the beginning and more \"closes\" in the end."
   ]
  },
  {
   "cell_type": "markdown",
   "metadata": {
    "application/vnd.databricks.v1+cell": {
     "cellMetadata": {},
     "inputWidgets": {},
     "nuid": "fda2a865-86b6-4963-af5f-385bd2334e25",
     "showTitle": false,
     "tableResultSettingsMap": {},
     "title": ""
    }
   },
   "source": [
    "## Demo: Stream Processing \n",
    "Now that we have analyzed the data interactively, let's convert this to a streaming query that continuously updates as data comes. Since we just have a static set of files, we are going to emulate a stream from them by reading one file at a time, in the chronological order they were created. The query we have to write is pretty much the same as the interactive query above."
   ]
  },
  {
   "cell_type": "code",
   "execution_count": 0,
   "metadata": {
    "application/vnd.databricks.v1+cell": {
     "cellMetadata": {
      "byteLimit": 2048000,
      "rowLimit": 10000
     },
     "inputWidgets": {},
     "nuid": "1a940eea-2d4d-431c-ad2e-d9cedcb068d3",
     "showTitle": false,
     "tableResultSettingsMap": {},
     "title": ""
    }
   },
   "outputs": [
    {
     "output_type": "stream",
     "name": "stdout",
     "output_type": "stream",
     "text": [
      "Out[21]: True"
     ]
    }
   ],
   "source": [
    "from pyspark.sql.functions import *\n",
    "\n",
    "# Read data from a file\n",
    "# Similar to definition of staticInputDF above, just using `readStream` instead of `read`\n",
    "streamingInputDF = (\n",
    "  spark\n",
    "    .readStream                       \n",
    "    .schema(json_schema)               # Set the schema of the JSON data\n",
    "    .option(\"maxFilesPerTrigger\", 1)  # Treat a sequence of files as a stream by picking one file at a time\n",
    "    .json(data_path)\n",
    ")\n",
    "\n",
    "# Do some transformations\n",
    "# Same query as staticInputDF\n",
    "streamingCountsDF = (                 \n",
    "  streamingInputDF\n",
    "    .groupBy(\n",
    "      streamingInputDF.action, \n",
    "      window(streamingInputDF.time, \"1 hour\"))\n",
    "    .count()\n",
    ")\n",
    "\n",
    "# Is this DF actually a streaming DF?\n",
    "streamingCountsDF.isStreaming"
   ]
  },
  {
   "cell_type": "code",
   "execution_count": 0,
   "metadata": {
    "application/vnd.databricks.v1+cell": {
     "cellMetadata": {
      "byteLimit": 2048000,
      "rowLimit": 10000
     },
     "inputWidgets": {},
     "nuid": "9bfa19d6-36ac-4039-824d-5f2459850e75",
     "showTitle": false,
     "tableResultSettingsMap": {},
     "title": ""
    }
   },
   "outputs": [
    {
     "output_type": "display_data",
     "data": {
      "text/html": [
       "<style scoped>\n",
       "  .table-result-container {\n",
       "    max-height: 300px;\n",
       "    overflow: auto;\n",
       "  }\n",
       "  table, th, td {\n",
       "    border: 1px solid black;\n",
       "    border-collapse: collapse;\n",
       "  }\n",
       "  th, td {\n",
       "    padding: 5px;\n",
       "  }\n",
       "  th {\n",
       "    text-align: left;\n",
       "  }\n",
       "</style><div class='table-result-container'><table class='table-result'><thead style='background-color: white'><tr><th>time</th><th>action</th></tr></thead><tbody><tr><td>2016-07-26T02:45:07.000+0000</td><td>Open</td></tr><tr><td>2016-07-26T02:45:47.000+0000</td><td>Open</td></tr><tr><td>2016-07-26T02:46:42.000+0000</td><td>Open</td></tr><tr><td>2016-07-26T02:46:59.000+0000</td><td>Open</td></tr><tr><td>2016-07-26T02:47:05.000+0000</td><td>Open</td></tr><tr><td>2016-07-26T02:47:14.000+0000</td><td>Open</td></tr><tr><td>2016-07-26T02:47:25.000+0000</td><td>Open</td></tr><tr><td>2016-07-26T02:47:26.000+0000</td><td>Open</td></tr><tr><td>2016-07-26T02:47:28.000+0000</td><td>Open</td></tr><tr><td>2016-07-26T02:47:36.000+0000</td><td>Open</td></tr><tr><td>2016-07-26T02:47:44.000+0000</td><td>Open</td></tr><tr><td>2016-07-26T02:47:46.000+0000</td><td>Open</td></tr><tr><td>2016-07-26T02:47:47.000+0000</td><td>Open</td></tr><tr><td>2016-07-26T02:47:49.000+0000</td><td>Open</td></tr><tr><td>2016-07-26T02:47:51.000+0000</td><td>Open</td></tr><tr><td>2016-07-26T02:48:02.000+0000</td><td>Open</td></tr><tr><td>2016-07-26T02:48:05.000+0000</td><td>Open</td></tr><tr><td>2016-07-26T02:48:11.000+0000</td><td>Open</td></tr><tr><td>2016-07-26T02:48:17.000+0000</td><td>Open</td></tr><tr><td>2016-07-26T02:48:23.000+0000</td><td>Open</td></tr><tr><td>2016-07-26T02:48:42.000+0000</td><td>Open</td></tr><tr><td>2016-07-26T02:48:55.000+0000</td><td>Open</td></tr><tr><td>2016-07-26T02:49:04.000+0000</td><td>Open</td></tr><tr><td>2016-07-26T02:49:06.000+0000</td><td>Open</td></tr><tr><td>2016-07-26T02:49:09.000+0000</td><td>Open</td></tr><tr><td>2016-07-26T02:49:17.000+0000</td><td>Open</td></tr><tr><td>2016-07-26T02:49:26.000+0000</td><td>Open</td></tr><tr><td>2016-07-26T02:49:31.000+0000</td><td>Open</td></tr><tr><td>2016-07-26T02:49:35.000+0000</td><td>Open</td></tr><tr><td>2016-07-26T02:49:35.000+0000</td><td>Open</td></tr><tr><td>2016-07-26T02:49:41.000+0000</td><td>Open</td></tr><tr><td>2016-07-26T02:49:52.000+0000</td><td>Open</td></tr><tr><td>2016-07-26T02:50:02.000+0000</td><td>Open</td></tr><tr><td>2016-07-26T02:50:07.000+0000</td><td>Open</td></tr><tr><td>2016-07-26T02:50:10.000+0000</td><td>Open</td></tr><tr><td>2016-07-26T02:50:20.000+0000</td><td>Open</td></tr><tr><td>2016-07-26T02:50:24.000+0000</td><td>Open</td></tr><tr><td>2016-07-26T02:50:38.000+0000</td><td>Open</td></tr><tr><td>2016-07-26T02:50:42.000+0000</td><td>Close</td></tr><tr><td>2016-07-26T02:51:02.000+0000</td><td>Open</td></tr><tr><td>2016-07-26T02:51:20.000+0000</td><td>Open</td></tr><tr><td>2016-07-26T02:51:28.000+0000</td><td>Open</td></tr><tr><td>2016-07-26T02:51:29.000+0000</td><td>Open</td></tr><tr><td>2016-07-26T02:51:31.000+0000</td><td>Open</td></tr><tr><td>2016-07-26T02:51:43.000+0000</td><td>Open</td></tr><tr><td>2016-07-26T02:51:45.000+0000</td><td>Open</td></tr><tr><td>2016-07-26T02:51:49.000+0000</td><td>Open</td></tr><tr><td>2016-07-26T02:51:53.000+0000</td><td>Open</td></tr><tr><td>2016-07-26T02:51:57.000+0000</td><td>Open</td></tr><tr><td>2016-07-26T02:52:00.000+0000</td><td>Open</td></tr><tr><td>2016-07-26T02:52:05.000+0000</td><td>Open</td></tr><tr><td>2016-07-26T02:52:13.000+0000</td><td>Open</td></tr><tr><td>2016-07-26T02:52:19.000+0000</td><td>Open</td></tr><tr><td>2016-07-26T02:52:20.000+0000</td><td>Open</td></tr><tr><td>2016-07-26T02:52:21.000+0000</td><td>Open</td></tr><tr><td>2016-07-26T02:52:23.000+0000</td><td>Open</td></tr><tr><td>2016-07-26T02:52:24.000+0000</td><td>Open</td></tr><tr><td>2016-07-26T02:52:25.000+0000</td><td>Close</td></tr><tr><td>2016-07-26T02:52:25.000+0000</td><td>Open</td></tr><tr><td>2016-07-26T02:52:27.000+0000</td><td>Open</td></tr><tr><td>2016-07-26T02:52:32.000+0000</td><td>Open</td></tr><tr><td>2016-07-26T02:52:37.000+0000</td><td>Open</td></tr><tr><td>2016-07-26T02:52:39.000+0000</td><td>Open</td></tr><tr><td>2016-07-26T02:52:40.000+0000</td><td>Open</td></tr><tr><td>2016-07-26T02:52:40.000+0000</td><td>Open</td></tr><tr><td>2016-07-26T02:52:45.000+0000</td><td>Open</td></tr><tr><td>2016-07-26T02:52:46.000+0000</td><td>Open</td></tr><tr><td>2016-07-26T02:52:54.000+0000</td><td>Open</td></tr><tr><td>2016-07-26T02:52:55.000+0000</td><td>Open</td></tr><tr><td>2016-07-26T02:52:55.000+0000</td><td>Open</td></tr><tr><td>2016-07-26T02:52:58.000+0000</td><td>Open</td></tr><tr><td>2016-07-26T02:53:01.000+0000</td><td>Open</td></tr><tr><td>2016-07-26T02:53:04.000+0000</td><td>Open</td></tr><tr><td>2016-07-26T02:53:20.000+0000</td><td>Open</td></tr><tr><td>2016-07-26T02:53:21.000+0000</td><td>Open</td></tr><tr><td>2016-07-26T02:53:23.000+0000</td><td>Open</td></tr><tr><td>2016-07-26T02:53:30.000+0000</td><td>Open</td></tr><tr><td>2016-07-26T02:53:40.000+0000</td><td>Open</td></tr><tr><td>2016-07-26T02:53:41.000+0000</td><td>Open</td></tr><tr><td>2016-07-26T02:53:45.000+0000</td><td>Open</td></tr><tr><td>2016-07-26T02:53:45.000+0000</td><td>Close</td></tr><tr><td>2016-07-26T02:53:46.000+0000</td><td>Open</td></tr><tr><td>2016-07-26T02:53:51.000+0000</td><td>Open</td></tr><tr><td>2016-07-26T02:53:52.000+0000</td><td>Open</td></tr><tr><td>2016-07-26T02:53:52.000+0000</td><td>Open</td></tr><tr><td>2016-07-26T02:53:58.000+0000</td><td>Open</td></tr><tr><td>2016-07-26T02:54:03.000+0000</td><td>Open</td></tr><tr><td>2016-07-26T02:54:06.000+0000</td><td>Open</td></tr><tr><td>2016-07-26T02:54:22.000+0000</td><td>Open</td></tr><tr><td>2016-07-26T02:54:22.000+0000</td><td>Open</td></tr><tr><td>2016-07-26T02:54:22.000+0000</td><td>Open</td></tr><tr><td>2016-07-26T02:54:23.000+0000</td><td>Open</td></tr><tr><td>2016-07-26T02:54:27.000+0000</td><td>Open</td></tr><tr><td>2016-07-26T02:54:34.000+0000</td><td>Open</td></tr><tr><td>2016-07-26T02:54:35.000+0000</td><td>Open</td></tr><tr><td>2016-07-26T02:54:38.000+0000</td><td>Close</td></tr><tr><td>2016-07-26T02:54:40.000+0000</td><td>Open</td></tr><tr><td>2016-07-26T02:54:45.000+0000</td><td>Open</td></tr><tr><td>2016-07-26T02:54:46.000+0000</td><td>Open</td></tr><tr><td>2016-07-26T02:54:49.000+0000</td><td>Open</td></tr><tr><td>2016-07-26T02:54:51.000+0000</td><td>Open</td></tr><tr><td>2016-07-26T02:54:54.000+0000</td><td>Open</td></tr><tr><td>2016-07-26T02:54:56.000+0000</td><td>Close</td></tr><tr><td>2016-07-26T02:55:02.000+0000</td><td>Open</td></tr><tr><td>2016-07-26T02:55:03.000+0000</td><td>Open</td></tr><tr><td>2016-07-26T02:55:04.000+0000</td><td>Open</td></tr><tr><td>2016-07-26T02:55:06.000+0000</td><td>Open</td></tr><tr><td>2016-07-26T02:55:06.000+0000</td><td>Open</td></tr><tr><td>2016-07-26T02:55:10.000+0000</td><td>Open</td></tr><tr><td>2016-07-26T02:55:15.000+0000</td><td>Open</td></tr><tr><td>2016-07-26T02:55:17.000+0000</td><td>Open</td></tr><tr><td>2016-07-26T02:55:19.000+0000</td><td>Open</td></tr><tr><td>2016-07-26T02:55:19.000+0000</td><td>Open</td></tr><tr><td>2016-07-26T02:55:34.000+0000</td><td>Open</td></tr><tr><td>2016-07-26T02:55:39.000+0000</td><td>Open</td></tr><tr><td>2016-07-26T02:55:40.000+0000</td><td>Open</td></tr><tr><td>2016-07-26T02:55:47.000+0000</td><td>Open</td></tr><tr><td>2016-07-26T02:55:49.000+0000</td><td>Open</td></tr><tr><td>2016-07-26T02:55:49.000+0000</td><td>Close</td></tr><tr><td>2016-07-26T02:55:54.000+0000</td><td>Open</td></tr><tr><td>2016-07-26T02:55:55.000+0000</td><td>Open</td></tr><tr><td>2016-07-26T02:55:56.000+0000</td><td>Open</td></tr><tr><td>2016-07-26T02:55:56.000+0000</td><td>Open</td></tr><tr><td>2016-07-26T02:55:57.000+0000</td><td>Open</td></tr><tr><td>2016-07-26T02:55:58.000+0000</td><td>Open</td></tr><tr><td>2016-07-26T02:55:59.000+0000</td><td>Open</td></tr><tr><td>2016-07-26T02:56:01.000+0000</td><td>Open</td></tr><tr><td>2016-07-26T02:56:04.000+0000</td><td>Open</td></tr><tr><td>2016-07-26T02:56:12.000+0000</td><td>Open</td></tr><tr><td>2016-07-26T02:56:12.000+0000</td><td>Open</td></tr><tr><td>2016-07-26T02:56:16.000+0000</td><td>Close</td></tr><tr><td>2016-07-26T02:56:20.000+0000</td><td>Open</td></tr><tr><td>2016-07-26T02:56:22.000+0000</td><td>Open</td></tr><tr><td>2016-07-26T02:56:23.000+0000</td><td>Open</td></tr><tr><td>2016-07-26T02:56:25.000+0000</td><td>Open</td></tr><tr><td>2016-07-26T02:56:29.000+0000</td><td>Open</td></tr><tr><td>2016-07-26T02:56:35.000+0000</td><td>Open</td></tr><tr><td>2016-07-26T02:56:42.000+0000</td><td>Open</td></tr><tr><td>2016-07-26T02:56:42.000+0000</td><td>Open</td></tr><tr><td>2016-07-26T02:56:46.000+0000</td><td>Open</td></tr><tr><td>2016-07-26T02:56:53.000+0000</td><td>Open</td></tr><tr><td>2016-07-26T02:56:57.000+0000</td><td>Open</td></tr><tr><td>2016-07-26T02:56:58.000+0000</td><td>Open</td></tr><tr><td>2016-07-26T02:56:59.000+0000</td><td>Close</td></tr><tr><td>2016-07-26T02:57:08.000+0000</td><td>Open</td></tr><tr><td>2016-07-26T02:57:09.000+0000</td><td>Open</td></tr><tr><td>2016-07-26T02:57:10.000+0000</td><td>Open</td></tr><tr><td>2016-07-26T02:57:13.000+0000</td><td>Open</td></tr><tr><td>2016-07-26T02:57:15.000+0000</td><td>Open</td></tr><tr><td>2016-07-26T02:57:17.000+0000</td><td>Open</td></tr><tr><td>2016-07-26T02:57:18.000+0000</td><td>Open</td></tr><tr><td>2016-07-26T02:57:20.000+0000</td><td>Open</td></tr><tr><td>2016-07-26T02:57:25.000+0000</td><td>Open</td></tr><tr><td>2016-07-26T02:57:28.000+0000</td><td>Open</td></tr><tr><td>2016-07-26T02:57:33.000+0000</td><td>Open</td></tr><tr><td>2016-07-26T02:57:35.000+0000</td><td>Open</td></tr><tr><td>2016-07-26T02:57:41.000+0000</td><td>Close</td></tr><tr><td>2016-07-26T02:57:41.000+0000</td><td>Open</td></tr><tr><td>2016-07-26T02:57:42.000+0000</td><td>Open</td></tr><tr><td>2016-07-26T02:57:43.000+0000</td><td>Open</td></tr><tr><td>2016-07-26T02:57:45.000+0000</td><td>Open</td></tr><tr><td>2016-07-26T02:57:53.000+0000</td><td>Open</td></tr><tr><td>2016-07-26T02:58:04.000+0000</td><td>Open</td></tr><tr><td>2016-07-26T02:58:15.000+0000</td><td>Open</td></tr><tr><td>2016-07-26T02:58:24.000+0000</td><td>Open</td></tr><tr><td>2016-07-26T02:58:27.000+0000</td><td>Open</td></tr><tr><td>2016-07-26T02:58:29.000+0000</td><td>Close</td></tr><tr><td>2016-07-26T02:58:29.000+0000</td><td>Open</td></tr><tr><td>2016-07-26T02:58:31.000+0000</td><td>Open</td></tr><tr><td>2016-07-26T02:58:49.000+0000</td><td>Open</td></tr><tr><td>2016-07-26T02:58:50.000+0000</td><td>Open</td></tr><tr><td>2016-07-26T02:58:50.000+0000</td><td>Open</td></tr><tr><td>2016-07-26T02:58:51.000+0000</td><td>Open</td></tr><tr><td>2016-07-26T02:58:55.000+0000</td><td>Open</td></tr><tr><td>2016-07-26T02:58:55.000+0000</td><td>Open</td></tr><tr><td>2016-07-26T02:59:06.000+0000</td><td>Open</td></tr><tr><td>2016-07-26T02:59:06.000+0000</td><td>Open</td></tr><tr><td>2016-07-26T02:59:19.000+0000</td><td>Open</td></tr><tr><td>2016-07-26T02:59:27.000+0000</td><td>Open</td></tr><tr><td>2016-07-26T02:59:32.000+0000</td><td>Close</td></tr><tr><td>2016-07-26T02:59:36.000+0000</td><td>Open</td></tr><tr><td>2016-07-26T02:59:38.000+0000</td><td>Open</td></tr><tr><td>2016-07-26T02:59:38.000+0000</td><td>Open</td></tr><tr><td>2016-07-26T02:59:38.000+0000</td><td>Open</td></tr><tr><td>2016-07-26T02:59:40.000+0000</td><td>Open</td></tr><tr><td>2016-07-26T02:59:40.000+0000</td><td>Open</td></tr><tr><td>2016-07-26T02:59:45.000+0000</td><td>Open</td></tr><tr><td>2016-07-26T02:59:48.000+0000</td><td>Open</td></tr><tr><td>2016-07-26T02:59:52.000+0000</td><td>Open</td></tr><tr><td>2016-07-26T02:59:56.000+0000</td><td>Open</td></tr><tr><td>2016-07-26T03:00:05.000+0000</td><td>Open</td></tr><tr><td>2016-07-26T03:00:10.000+0000</td><td>Open</td></tr><tr><td>2016-07-26T03:00:14.000+0000</td><td>Close</td></tr><tr><td>2016-07-26T03:00:20.000+0000</td><td>Open</td></tr><tr><td>2016-07-26T03:00:22.000+0000</td><td>Open</td></tr><tr><td>2016-07-26T03:00:22.000+0000</td><td>Open</td></tr><tr><td>2016-07-26T03:00:31.000+0000</td><td>Open</td></tr><tr><td>2016-07-26T03:00:31.000+0000</td><td>Open</td></tr><tr><td>2016-07-26T03:00:33.000+0000</td><td>Open</td></tr><tr><td>2016-07-26T03:00:35.000+0000</td><td>Open</td></tr><tr><td>2016-07-26T03:00:38.000+0000</td><td>Open</td></tr><tr><td>2016-07-26T03:00:44.000+0000</td><td>Open</td></tr><tr><td>2016-07-26T03:00:54.000+0000</td><td>Open</td></tr><tr><td>2016-07-26T03:00:54.000+0000</td><td>Open</td></tr><tr><td>2016-07-26T03:00:54.000+0000</td><td>Open</td></tr><tr><td>2016-07-26T03:00:57.000+0000</td><td>Open</td></tr><tr><td>2016-07-26T03:01:00.000+0000</td><td>Open</td></tr><tr><td>2016-07-26T03:01:05.000+0000</td><td>Open</td></tr><tr><td>2016-07-26T03:01:07.000+0000</td><td>Open</td></tr><tr><td>2016-07-26T03:01:11.000+0000</td><td>Open</td></tr><tr><td>2016-07-26T03:01:11.000+0000</td><td>Open</td></tr><tr><td>2016-07-26T03:01:12.000+0000</td><td>Close</td></tr><tr><td>2016-07-26T03:01:13.000+0000</td><td>Open</td></tr><tr><td>2016-07-26T03:01:17.000+0000</td><td>Open</td></tr><tr><td>2016-07-26T03:01:20.000+0000</td><td>Open</td></tr><tr><td>2016-07-26T03:01:32.000+0000</td><td>Open</td></tr><tr><td>2016-07-26T03:01:37.000+0000</td><td>Open</td></tr><tr><td>2016-07-26T03:01:45.000+0000</td><td>Open</td></tr><tr><td>2016-07-26T03:01:49.000+0000</td><td>Open</td></tr><tr><td>2016-07-26T03:01:58.000+0000</td><td>Open</td></tr><tr><td>2016-07-26T03:02:06.000+0000</td><td>Open</td></tr><tr><td>2016-07-26T03:02:07.000+0000</td><td>Open</td></tr><tr><td>2016-07-26T03:02:10.000+0000</td><td>Open</td></tr><tr><td>2016-07-26T03:02:10.000+0000</td><td>Open</td></tr><tr><td>2016-07-26T03:02:12.000+0000</td><td>Open</td></tr><tr><td>2016-07-26T03:02:15.000+0000</td><td>Open</td></tr><tr><td>2016-07-26T03:02:24.000+0000</td><td>Open</td></tr><tr><td>2016-07-26T03:02:25.000+0000</td><td>Open</td></tr><tr><td>2016-07-26T03:02:27.000+0000</td><td>Open</td></tr><tr><td>2016-07-26T03:02:28.000+0000</td><td>Close</td></tr><tr><td>2016-07-26T03:02:34.000+0000</td><td>Open</td></tr><tr><td>2016-07-26T03:02:37.000+0000</td><td>Open</td></tr><tr><td>2016-07-26T03:02:45.000+0000</td><td>Open</td></tr><tr><td>2016-07-26T03:02:57.000+0000</td><td>Open</td></tr><tr><td>2016-07-26T03:03:01.000+0000</td><td>Open</td></tr><tr><td>2016-07-26T03:03:01.000+0000</td><td>Open</td></tr><tr><td>2016-07-26T03:03:02.000+0000</td><td>Open</td></tr><tr><td>2016-07-26T03:03:04.000+0000</td><td>Open</td></tr><tr><td>2016-07-26T03:03:04.000+0000</td><td>Open</td></tr><tr><td>2016-07-26T03:03:10.000+0000</td><td>Open</td></tr><tr><td>2016-07-26T03:03:14.000+0000</td><td>Open</td></tr><tr><td>2016-07-26T03:03:21.000+0000</td><td>Open</td></tr><tr><td>2016-07-26T03:03:22.000+0000</td><td>Open</td></tr><tr><td>2016-07-26T03:03:25.000+0000</td><td>Open</td></tr><tr><td>2016-07-26T03:03:26.000+0000</td><td>Open</td></tr><tr><td>2016-07-26T03:03:31.000+0000</td><td>Open</td></tr><tr><td>2016-07-26T03:03:37.000+0000</td><td>Open</td></tr><tr><td>2016-07-26T03:03:38.000+0000</td><td>Open</td></tr><tr><td>2016-07-26T03:03:49.000+0000</td><td>Open</td></tr><tr><td>2016-07-26T03:03:51.000+0000</td><td>Open</td></tr><tr><td>2016-07-26T03:03:51.000+0000</td><td>Open</td></tr><tr><td>2016-07-26T03:03:54.000+0000</td><td>Open</td></tr><tr><td>2016-07-26T03:03:56.000+0000</td><td>Open</td></tr><tr><td>2016-07-26T03:04:01.000+0000</td><td>Open</td></tr><tr><td>2016-07-26T03:04:04.000+0000</td><td>Open</td></tr><tr><td>2016-07-26T03:04:05.000+0000</td><td>Open</td></tr><tr><td>2016-07-26T03:04:06.000+0000</td><td>Open</td></tr><tr><td>2016-07-26T03:04:13.000+0000</td><td>Open</td></tr><tr><td>2016-07-26T03:04:17.000+0000</td><td>Open</td></tr><tr><td>2016-07-26T03:04:18.000+0000</td><td>Open</td></tr><tr><td>2016-07-26T03:04:19.000+0000</td><td>Open</td></tr><tr><td>2016-07-26T03:04:19.000+0000</td><td>Open</td></tr><tr><td>2016-07-26T03:04:21.000+0000</td><td>Close</td></tr><tr><td>2016-07-26T03:04:27.000+0000</td><td>Open</td></tr><tr><td>2016-07-26T03:04:29.000+0000</td><td>Open</td></tr><tr><td>2016-07-26T03:04:29.000+0000</td><td>Open</td></tr><tr><td>2016-07-26T03:04:30.000+0000</td><td>Open</td></tr><tr><td>2016-07-26T03:04:32.000+0000</td><td>Open</td></tr><tr><td>2016-07-26T03:04:32.000+0000</td><td>Open</td></tr><tr><td>2016-07-26T03:04:33.000+0000</td><td>Open</td></tr><tr><td>2016-07-26T03:04:33.000+0000</td><td>Open</td></tr><tr><td>2016-07-26T03:04:35.000+0000</td><td>Open</td></tr><tr><td>2016-07-26T03:04:37.000+0000</td><td>Open</td></tr><tr><td>2016-07-26T03:04:39.000+0000</td><td>Open</td></tr><tr><td>2016-07-26T03:04:39.000+0000</td><td>Open</td></tr><tr><td>2016-07-26T03:04:42.000+0000</td><td>Close</td></tr><tr><td>2016-07-26T03:04:45.000+0000</td><td>Open</td></tr><tr><td>2016-07-26T03:04:46.000+0000</td><td>Open</td></tr><tr><td>2016-07-26T03:04:52.000+0000</td><td>Open</td></tr><tr><td>2016-07-26T03:04:54.000+0000</td><td>Open</td></tr><tr><td>2016-07-26T03:04:58.000+0000</td><td>Open</td></tr><tr><td>2016-07-26T03:05:01.000+0000</td><td>Open</td></tr><tr><td>2016-07-26T03:05:02.000+0000</td><td>Open</td></tr><tr><td>2016-07-26T03:05:04.000+0000</td><td>Open</td></tr><tr><td>2016-07-26T03:05:08.000+0000</td><td>Open</td></tr><tr><td>2016-07-26T03:05:18.000+0000</td><td>Open</td></tr><tr><td>2016-07-26T03:05:23.000+0000</td><td>Open</td></tr><tr><td>2016-07-26T03:05:28.000+0000</td><td>Open</td></tr><tr><td>2016-07-26T03:05:33.000+0000</td><td>Open</td></tr><tr><td>2016-07-26T03:05:36.000+0000</td><td>Close</td></tr><tr><td>2016-07-26T03:05:38.000+0000</td><td>Close</td></tr><tr><td>2016-07-26T03:05:46.000+0000</td><td>Open</td></tr><tr><td>2016-07-26T03:05:48.000+0000</td><td>Open</td></tr><tr><td>2016-07-26T03:05:50.000+0000</td><td>Open</td></tr><tr><td>2016-07-26T03:05:51.000+0000</td><td>Close</td></tr><tr><td>2016-07-26T03:05:57.000+0000</td><td>Close</td></tr><tr><td>2016-07-26T03:06:01.000+0000</td><td>Open</td></tr><tr><td>2016-07-26T03:06:01.000+0000</td><td>Open</td></tr><tr><td>2016-07-26T03:06:04.000+0000</td><td>Open</td></tr><tr><td>2016-07-26T03:06:05.000+0000</td><td>Open</td></tr><tr><td>2016-07-26T03:06:07.000+0000</td><td>Open</td></tr><tr><td>2016-07-26T03:06:09.000+0000</td><td>Open</td></tr><tr><td>2016-07-26T03:06:12.000+0000</td><td>Open</td></tr><tr><td>2016-07-26T03:06:14.000+0000</td><td>Open</td></tr><tr><td>2016-07-26T03:06:17.000+0000</td><td>Open</td></tr><tr><td>2016-07-26T03:06:19.000+0000</td><td>Close</td></tr><tr><td>2016-07-26T03:06:19.000+0000</td><td>Open</td></tr><tr><td>2016-07-26T03:06:22.000+0000</td><td>Open</td></tr><tr><td>2016-07-26T03:06:25.000+0000</td><td>Open</td></tr><tr><td>2016-07-26T03:06:28.000+0000</td><td>Open</td></tr><tr><td>2016-07-26T03:06:44.000+0000</td><td>Open</td></tr><tr><td>2016-07-26T03:06:51.000+0000</td><td>Open</td></tr><tr><td>2016-07-26T03:06:56.000+0000</td><td>Open</td></tr><tr><td>2016-07-26T03:06:56.000+0000</td><td>Open</td></tr><tr><td>2016-07-26T03:06:57.000+0000</td><td>Close</td></tr><tr><td>2016-07-26T03:07:02.000+0000</td><td>Open</td></tr><tr><td>2016-07-26T03:07:09.000+0000</td><td>Open</td></tr><tr><td>2016-07-26T03:07:10.000+0000</td><td>Open</td></tr><tr><td>2016-07-26T03:07:10.000+0000</td><td>Open</td></tr><tr><td>2016-07-26T03:07:12.000+0000</td><td>Open</td></tr><tr><td>2016-07-26T03:07:12.000+0000</td><td>Open</td></tr><tr><td>2016-07-26T03:07:13.000+0000</td><td>Open</td></tr><tr><td>2016-07-26T03:07:24.000+0000</td><td>Open</td></tr><tr><td>2016-07-26T03:07:25.000+0000</td><td>Open</td></tr><tr><td>2016-07-26T03:07:26.000+0000</td><td>Open</td></tr><tr><td>2016-07-26T03:07:26.000+0000</td><td>Open</td></tr><tr><td>2016-07-26T03:07:33.000+0000</td><td>Open</td></tr><tr><td>2016-07-26T03:07:36.000+0000</td><td>Close</td></tr><tr><td>2016-07-26T03:07:44.000+0000</td><td>Open</td></tr><tr><td>2016-07-26T03:07:50.000+0000</td><td>Open</td></tr><tr><td>2016-07-26T03:07:51.000+0000</td><td>Open</td></tr><tr><td>2016-07-26T03:07:52.000+0000</td><td>Open</td></tr><tr><td>2016-07-26T03:07:54.000+0000</td><td>Open</td></tr><tr><td>2016-07-26T03:07:55.000+0000</td><td>Open</td></tr><tr><td>2016-07-26T03:08:00.000+0000</td><td>Open</td></tr><tr><td>2016-07-26T03:08:01.000+0000</td><td>Open</td></tr><tr><td>2016-07-26T03:08:10.000+0000</td><td>Open</td></tr><tr><td>2016-07-26T03:08:17.000+0000</td><td>Close</td></tr><tr><td>2016-07-26T03:08:17.000+0000</td><td>Open</td></tr><tr><td>2016-07-26T03:08:17.000+0000</td><td>Close</td></tr><tr><td>2016-07-26T03:08:20.000+0000</td><td>Close</td></tr><tr><td>2016-07-26T03:08:20.000+0000</td><td>Open</td></tr><tr><td>2016-07-26T03:08:21.000+0000</td><td>Open</td></tr><tr><td>2016-07-26T03:08:27.000+0000</td><td>Close</td></tr><tr><td>2016-07-26T03:08:27.000+0000</td><td>Open</td></tr><tr><td>2016-07-26T03:08:28.000+0000</td><td>Open</td></tr><tr><td>2016-07-26T03:08:32.000+0000</td><td>Open</td></tr><tr><td>2016-07-26T03:08:34.000+0000</td><td>Open</td></tr><tr><td>2016-07-26T03:08:35.000+0000</td><td>Open</td></tr><tr><td>2016-07-26T03:08:37.000+0000</td><td>Close</td></tr><tr><td>2016-07-26T03:08:47.000+0000</td><td>Open</td></tr><tr><td>2016-07-26T03:08:47.000+0000</td><td>Open</td></tr><tr><td>2016-07-26T03:08:49.000+0000</td><td>Open</td></tr><tr><td>2016-07-26T03:08:58.000+0000</td><td>Open</td></tr><tr><td>2016-07-26T03:09:09.000+0000</td><td>Open</td></tr><tr><td>2016-07-26T03:09:13.000+0000</td><td>Open</td></tr><tr><td>2016-07-26T03:09:15.000+0000</td><td>Open</td></tr><tr><td>2016-07-26T03:09:20.000+0000</td><td>Open</td></tr><tr><td>2016-07-26T03:09:21.000+0000</td><td>Open</td></tr><tr><td>2016-07-26T03:09:21.000+0000</td><td>Open</td></tr><tr><td>2016-07-26T03:09:22.000+0000</td><td>Open</td></tr><tr><td>2016-07-26T03:09:24.000+0000</td><td>Close</td></tr><tr><td>2016-07-26T03:09:33.000+0000</td><td>Open</td></tr><tr><td>2016-07-26T03:09:35.000+0000</td><td>Open</td></tr><tr><td>2016-07-26T03:09:43.000+0000</td><td>Open</td></tr><tr><td>2016-07-26T03:09:45.000+0000</td><td>Open</td></tr><tr><td>2016-07-26T03:09:47.000+0000</td><td>Open</td></tr><tr><td>2016-07-26T03:09:50.000+0000</td><td>Open</td></tr><tr><td>2016-07-26T03:09:53.000+0000</td><td>Open</td></tr><tr><td>2016-07-26T03:09:55.000+0000</td><td>Close</td></tr><tr><td>2016-07-26T03:09:56.000+0000</td><td>Open</td></tr><tr><td>2016-07-26T03:10:09.000+0000</td><td>Open</td></tr><tr><td>2016-07-26T03:10:09.000+0000</td><td>Open</td></tr><tr><td>2016-07-26T03:10:11.000+0000</td><td>Open</td></tr><tr><td>2016-07-26T03:10:12.000+0000</td><td>Open</td></tr><tr><td>2016-07-26T03:10:13.000+0000</td><td>Open</td></tr><tr><td>2016-07-26T03:10:14.000+0000</td><td>Open</td></tr><tr><td>2016-07-26T03:10:19.000+0000</td><td>Open</td></tr><tr><td>2016-07-26T03:10:26.000+0000</td><td>Close</td></tr><tr><td>2016-07-26T03:10:26.000+0000</td><td>Open</td></tr><tr><td>2016-07-26T03:10:27.000+0000</td><td>Open</td></tr><tr><td>2016-07-26T03:10:29.000+0000</td><td>Open</td></tr><tr><td>2016-07-26T03:10:35.000+0000</td><td>Open</td></tr><tr><td>2016-07-26T03:10:41.000+0000</td><td>Open</td></tr><tr><td>2016-07-26T03:10:41.000+0000</td><td>Open</td></tr><tr><td>2016-07-26T03:10:43.000+0000</td><td>Close</td></tr><tr><td>2016-07-26T03:10:47.000+0000</td><td>Open</td></tr><tr><td>2016-07-26T03:10:49.000+0000</td><td>Open</td></tr><tr><td>2016-07-26T03:10:54.000+0000</td><td>Open</td></tr><tr><td>2016-07-26T03:10:55.000+0000</td><td>Open</td></tr><tr><td>2016-07-26T03:10:56.000+0000</td><td>Open</td></tr><tr><td>2016-07-26T03:11:00.000+0000</td><td>Close</td></tr><tr><td>2016-07-26T03:11:01.000+0000</td><td>Close</td></tr><tr><td>2016-07-26T03:11:03.000+0000</td><td>Open</td></tr><tr><td>2016-07-26T03:11:08.000+0000</td><td>Open</td></tr><tr><td>2016-07-26T03:11:15.000+0000</td><td>Open</td></tr><tr><td>2016-07-26T03:11:18.000+0000</td><td>Open</td></tr><tr><td>2016-07-26T03:11:23.000+0000</td><td>Open</td></tr><tr><td>2016-07-26T03:11:26.000+0000</td><td>Open</td></tr><tr><td>2016-07-26T03:11:27.000+0000</td><td>Open</td></tr><tr><td>2016-07-26T03:11:28.000+0000</td><td>Open</td></tr><tr><td>2016-07-26T03:11:33.000+0000</td><td>Open</td></tr><tr><td>2016-07-26T03:11:35.000+0000</td><td>Open</td></tr><tr><td>2016-07-26T03:11:44.000+0000</td><td>Open</td></tr><tr><td>2016-07-26T03:11:48.000+0000</td><td>Close</td></tr><tr><td>2016-07-26T03:11:56.000+0000</td><td>Open</td></tr><tr><td>2016-07-26T03:11:57.000+0000</td><td>Open</td></tr><tr><td>2016-07-26T03:12:06.000+0000</td><td>Open</td></tr><tr><td>2016-07-26T03:12:07.000+0000</td><td>Open</td></tr><tr><td>2016-07-26T03:12:09.000+0000</td><td>Open</td></tr><tr><td>2016-07-26T03:12:12.000+0000</td><td>Open</td></tr><tr><td>2016-07-26T03:12:13.000+0000</td><td>Open</td></tr><tr><td>2016-07-26T03:12:15.000+0000</td><td>Open</td></tr><tr><td>2016-07-26T03:12:16.000+0000</td><td>Open</td></tr><tr><td>2016-07-26T03:12:22.000+0000</td><td>Open</td></tr><tr><td>2016-07-26T03:12:25.000+0000</td><td>Open</td></tr><tr><td>2016-07-26T03:12:26.000+0000</td><td>Open</td></tr><tr><td>2016-07-26T03:12:32.000+0000</td><td>Open</td></tr><tr><td>2016-07-26T03:12:33.000+0000</td><td>Open</td></tr><tr><td>2016-07-26T03:12:34.000+0000</td><td>Open</td></tr><tr><td>2016-07-26T03:12:37.000+0000</td><td>Open</td></tr><tr><td>2016-07-26T03:12:37.000+0000</td><td>Open</td></tr><tr><td>2016-07-26T03:12:51.000+0000</td><td>Open</td></tr><tr><td>2016-07-26T03:12:58.000+0000</td><td>Open</td></tr><tr><td>2016-07-26T03:13:02.000+0000</td><td>Open</td></tr><tr><td>2016-07-26T03:13:03.000+0000</td><td>Close</td></tr><tr><td>2016-07-26T03:13:03.000+0000</td><td>Open</td></tr><tr><td>2016-07-26T03:13:09.000+0000</td><td>Open</td></tr><tr><td>2016-07-26T03:13:20.000+0000</td><td>Open</td></tr><tr><td>2016-07-26T03:13:20.000+0000</td><td>Open</td></tr><tr><td>2016-07-26T03:13:21.000+0000</td><td>Open</td></tr><tr><td>2016-07-26T03:13:29.000+0000</td><td>Close</td></tr><tr><td>2016-07-26T03:13:31.000+0000</td><td>Open</td></tr><tr><td>2016-07-26T03:13:33.000+0000</td><td>Close</td></tr><tr><td>2016-07-26T03:13:34.000+0000</td><td>Open</td></tr><tr><td>2016-07-26T03:13:37.000+0000</td><td>Open</td></tr><tr><td>2016-07-26T03:13:40.000+0000</td><td>Open</td></tr><tr><td>2016-07-26T03:13:42.000+0000</td><td>Close</td></tr><tr><td>2016-07-26T03:13:42.000+0000</td><td>Open</td></tr><tr><td>2016-07-26T03:13:51.000+0000</td><td>Close</td></tr><tr><td>2016-07-26T03:13:51.000+0000</td><td>Open</td></tr><tr><td>2016-07-26T03:13:52.000+0000</td><td>Close</td></tr><tr><td>2016-07-26T03:13:53.000+0000</td><td>Open</td></tr><tr><td>2016-07-26T03:13:59.000+0000</td><td>Open</td></tr><tr><td>2016-07-26T03:14:02.000+0000</td><td>Close</td></tr><tr><td>2016-07-26T03:14:04.000+0000</td><td>Open</td></tr><tr><td>2016-07-26T03:14:09.000+0000</td><td>Open</td></tr><tr><td>2016-07-26T03:14:10.000+0000</td><td>Open</td></tr><tr><td>2016-07-26T03:14:11.000+0000</td><td>Open</td></tr><tr><td>2016-07-26T03:14:11.000+0000</td><td>Open</td></tr><tr><td>2016-07-26T03:14:12.000+0000</td><td>Open</td></tr><tr><td>2016-07-26T03:14:13.000+0000</td><td>Open</td></tr><tr><td>2016-07-26T03:14:15.000+0000</td><td>Open</td></tr><tr><td>2016-07-26T03:14:16.000+0000</td><td>Open</td></tr><tr><td>2016-07-26T03:14:17.000+0000</td><td>Open</td></tr><tr><td>2016-07-26T03:14:17.000+0000</td><td>Open</td></tr><tr><td>2016-07-26T03:14:18.000+0000</td><td>Open</td></tr><tr><td>2016-07-26T03:14:21.000+0000</td><td>Open</td></tr><tr><td>2016-07-26T03:14:21.000+0000</td><td>Open</td></tr><tr><td>2016-07-26T03:14:23.000+0000</td><td>Close</td></tr><tr><td>2016-07-26T03:14:25.000+0000</td><td>Open</td></tr><tr><td>2016-07-26T03:14:27.000+0000</td><td>Open</td></tr><tr><td>2016-07-26T03:14:27.000+0000</td><td>Open</td></tr><tr><td>2016-07-26T03:14:28.000+0000</td><td>Open</td></tr><tr><td>2016-07-26T03:14:33.000+0000</td><td>Open</td></tr><tr><td>2016-07-26T03:14:40.000+0000</td><td>Close</td></tr><tr><td>2016-07-26T03:14:41.000+0000</td><td>Close</td></tr><tr><td>2016-07-26T03:14:46.000+0000</td><td>Open</td></tr><tr><td>2016-07-26T03:14:47.000+0000</td><td>Open</td></tr><tr><td>2016-07-26T03:14:47.000+0000</td><td>Open</td></tr><tr><td>2016-07-26T03:14:53.000+0000</td><td>Close</td></tr><tr><td>2016-07-26T03:14:57.000+0000</td><td>Open</td></tr><tr><td>2016-07-26T03:15:07.000+0000</td><td>Open</td></tr><tr><td>2016-07-26T03:15:07.000+0000</td><td>Open</td></tr><tr><td>2016-07-26T03:15:11.000+0000</td><td>Close</td></tr><tr><td>2016-07-26T03:15:12.000+0000</td><td>Open</td></tr><tr><td>2016-07-26T03:15:13.000+0000</td><td>Open</td></tr><tr><td>2016-07-26T03:15:19.000+0000</td><td>Open</td></tr><tr><td>2016-07-26T03:15:20.000+0000</td><td>Open</td></tr><tr><td>2016-07-26T03:15:22.000+0000</td><td>Open</td></tr><tr><td>2016-07-26T03:15:22.000+0000</td><td>Open</td></tr><tr><td>2016-07-26T03:15:25.000+0000</td><td>Open</td></tr><tr><td>2016-07-26T03:15:27.000+0000</td><td>Open</td></tr><tr><td>2016-07-26T03:15:31.000+0000</td><td>Open</td></tr><tr><td>2016-07-26T03:15:32.000+0000</td><td>Open</td></tr><tr><td>2016-07-26T03:15:41.000+0000</td><td>Open</td></tr><tr><td>2016-07-26T03:15:41.000+0000</td><td>Open</td></tr><tr><td>2016-07-26T03:15:42.000+0000</td><td>Open</td></tr><tr><td>2016-07-26T03:15:45.000+0000</td><td>Close</td></tr><tr><td>2016-07-26T03:15:46.000+0000</td><td>Close</td></tr><tr><td>2016-07-26T03:15:47.000+0000</td><td>Open</td></tr><tr><td>2016-07-26T03:15:54.000+0000</td><td>Close</td></tr><tr><td>2016-07-26T03:15:59.000+0000</td><td>Open</td></tr><tr><td>2016-07-26T03:16:04.000+0000</td><td>Close</td></tr><tr><td>2016-07-26T03:16:04.000+0000</td><td>Open</td></tr><tr><td>2016-07-26T03:16:09.000+0000</td><td>Close</td></tr><tr><td>2016-07-26T03:16:12.000+0000</td><td>Close</td></tr><tr><td>2016-07-26T03:16:13.000+0000</td><td>Close</td></tr><tr><td>2016-07-26T03:16:13.000+0000</td><td>Open</td></tr><tr><td>2016-07-26T03:16:14.000+0000</td><td>Open</td></tr><tr><td>2016-07-26T03:16:15.000+0000</td><td>Close</td></tr><tr><td>2016-07-26T03:16:24.000+0000</td><td>Open</td></tr><tr><td>2016-07-26T03:16:25.000+0000</td><td>Open</td></tr><tr><td>2016-07-26T03:16:26.000+0000</td><td>Close</td></tr><tr><td>2016-07-26T03:16:28.000+0000</td><td>Open</td></tr><tr><td>2016-07-26T03:16:28.000+0000</td><td>Open</td></tr><tr><td>2016-07-26T03:16:32.000+0000</td><td>Open</td></tr><tr><td>2016-07-26T03:16:37.000+0000</td><td>Open</td></tr><tr><td>2016-07-26T03:16:40.000+0000</td><td>Open</td></tr><tr><td>2016-07-26T03:16:45.000+0000</td><td>Open</td></tr><tr><td>2016-07-26T03:16:47.000+0000</td><td>Open</td></tr><tr><td>2016-07-26T03:16:54.000+0000</td><td>Open</td></tr><tr><td>2016-07-26T03:16:54.000+0000</td><td>Open</td></tr><tr><td>2016-07-26T03:17:01.000+0000</td><td>Open</td></tr><tr><td>2016-07-26T03:17:04.000+0000</td><td>Open</td></tr><tr><td>2016-07-26T03:17:05.000+0000</td><td>Open</td></tr><tr><td>2016-07-26T03:17:05.000+0000</td><td>Open</td></tr><tr><td>2016-07-26T03:17:10.000+0000</td><td>Open</td></tr><tr><td>2016-07-26T03:17:16.000+0000</td><td>Open</td></tr><tr><td>2016-07-26T03:17:19.000+0000</td><td>Open</td></tr><tr><td>2016-07-26T03:17:19.000+0000</td><td>Open</td></tr><tr><td>2016-07-26T03:17:22.000+0000</td><td>Open</td></tr><tr><td>2016-07-26T03:17:23.000+0000</td><td>Open</td></tr><tr><td>2016-07-26T03:17:28.000+0000</td><td>Open</td></tr><tr><td>2016-07-26T03:17:40.000+0000</td><td>Open</td></tr><tr><td>2016-07-26T03:17:45.000+0000</td><td>Close</td></tr><tr><td>2016-07-26T03:17:45.000+0000</td><td>Open</td></tr><tr><td>2016-07-26T03:17:46.000+0000</td><td>Open</td></tr><tr><td>2016-07-26T03:17:47.000+0000</td><td>Open</td></tr><tr><td>2016-07-26T03:17:51.000+0000</td><td>Open</td></tr><tr><td>2016-07-26T03:17:54.000+0000</td><td>Open</td></tr><tr><td>2016-07-26T03:17:55.000+0000</td><td>Open</td></tr><tr><td>2016-07-26T03:17:55.000+0000</td><td>Open</td></tr><tr><td>2016-07-26T03:18:02.000+0000</td><td>Close</td></tr><tr><td>2016-07-26T03:18:02.000+0000</td><td>Open</td></tr><tr><td>2016-07-26T03:18:06.000+0000</td><td>Open</td></tr><tr><td>2016-07-26T03:18:08.000+0000</td><td>Close</td></tr><tr><td>2016-07-26T03:18:08.000+0000</td><td>Open</td></tr><tr><td>2016-07-26T03:18:08.000+0000</td><td>Open</td></tr><tr><td>2016-07-26T03:18:17.000+0000</td><td>Open</td></tr><tr><td>2016-07-26T03:18:25.000+0000</td><td>Open</td></tr><tr><td>2016-07-26T03:18:26.000+0000</td><td>Close</td></tr><tr><td>2016-07-26T03:18:29.000+0000</td><td>Open</td></tr><tr><td>2016-07-26T03:18:29.000+0000</td><td>Open</td></tr><tr><td>2016-07-26T03:18:30.000+0000</td><td>Close</td></tr><tr><td>2016-07-26T03:18:36.000+0000</td><td>Close</td></tr><tr><td>2016-07-26T03:18:40.000+0000</td><td>Open</td></tr><tr><td>2016-07-26T03:18:45.000+0000</td><td>Open</td></tr><tr><td>2016-07-26T03:18:45.000+0000</td><td>Open</td></tr><tr><td>2016-07-26T03:18:46.000+0000</td><td>Close</td></tr><tr><td>2016-07-26T03:18:48.000+0000</td><td>Open</td></tr><tr><td>2016-07-26T03:18:48.000+0000</td><td>Open</td></tr><tr><td>2016-07-26T03:18:50.000+0000</td><td>Open</td></tr><tr><td>2016-07-26T03:18:53.000+0000</td><td>Open</td></tr><tr><td>2016-07-26T03:18:55.000+0000</td><td>Open</td></tr><tr><td>2016-07-26T03:18:56.000+0000</td><td>Close</td></tr><tr><td>2016-07-26T03:18:56.000+0000</td><td>Open</td></tr><tr><td>2016-07-26T03:18:59.000+0000</td><td>Open</td></tr><tr><td>2016-07-26T03:19:00.000+0000</td><td>Close</td></tr><tr><td>2016-07-26T03:19:00.000+0000</td><td>Close</td></tr><tr><td>2016-07-26T03:19:00.000+0000</td><td>Open</td></tr><tr><td>2016-07-26T03:19:03.000+0000</td><td>Open</td></tr><tr><td>2016-07-26T03:19:10.000+0000</td><td>Open</td></tr><tr><td>2016-07-26T03:19:11.000+0000</td><td>Close</td></tr><tr><td>2016-07-26T03:19:14.000+0000</td><td>Close</td></tr><tr><td>2016-07-26T03:19:18.000+0000</td><td>Open</td></tr><tr><td>2016-07-26T03:19:19.000+0000</td><td>Open</td></tr><tr><td>2016-07-26T03:19:20.000+0000</td><td>Close</td></tr><tr><td>2016-07-26T03:19:20.000+0000</td><td>Close</td></tr><tr><td>2016-07-26T03:19:21.000+0000</td><td>Open</td></tr><tr><td>2016-07-26T03:19:22.000+0000</td><td>Open</td></tr><tr><td>2016-07-26T03:19:26.000+0000</td><td>Open</td></tr><tr><td>2016-07-26T03:19:29.000+0000</td><td>Open</td></tr><tr><td>2016-07-26T03:19:33.000+0000</td><td>Open</td></tr><tr><td>2016-07-26T03:19:36.000+0000</td><td>Open</td></tr><tr><td>2016-07-26T03:19:44.000+0000</td><td>Open</td></tr><tr><td>2016-07-26T03:19:50.000+0000</td><td>Close</td></tr><tr><td>2016-07-26T03:19:50.000+0000</td><td>Open</td></tr><tr><td>2016-07-26T03:19:55.000+0000</td><td>Close</td></tr><tr><td>2016-07-26T03:19:55.000+0000</td><td>Open</td></tr><tr><td>2016-07-26T03:19:56.000+0000</td><td>Open</td></tr><tr><td>2016-07-26T03:19:58.000+0000</td><td>Open</td></tr><tr><td>2016-07-26T03:20:03.000+0000</td><td>Open</td></tr><tr><td>2016-07-26T03:20:06.000+0000</td><td>Open</td></tr><tr><td>2016-07-26T03:20:09.000+0000</td><td>Open</td></tr><tr><td>2016-07-26T03:20:11.000+0000</td><td>Open</td></tr><tr><td>2016-07-26T03:20:15.000+0000</td><td>Open</td></tr><tr><td>2016-07-26T03:20:24.000+0000</td><td>Close</td></tr><tr><td>2016-07-26T03:20:29.000+0000</td><td>Open</td></tr><tr><td>2016-07-26T03:20:31.000+0000</td><td>Close</td></tr><tr><td>2016-07-26T03:20:31.000+0000</td><td>Open</td></tr><tr><td>2016-07-26T03:20:31.000+0000</td><td>Open</td></tr><tr><td>2016-07-26T03:20:31.000+0000</td><td>Open</td></tr><tr><td>2016-07-26T03:20:34.000+0000</td><td>Open</td></tr><tr><td>2016-07-26T03:20:36.000+0000</td><td>Open</td></tr><tr><td>2016-07-26T03:20:46.000+0000</td><td>Close</td></tr><tr><td>2016-07-26T03:20:46.000+0000</td><td>Open</td></tr><tr><td>2016-07-26T03:20:48.000+0000</td><td>Open</td></tr><tr><td>2016-07-26T03:20:50.000+0000</td><td>Close</td></tr><tr><td>2016-07-26T03:20:55.000+0000</td><td>Open</td></tr><tr><td>2016-07-26T03:20:55.000+0000</td><td>Open</td></tr><tr><td>2016-07-26T03:20:59.000+0000</td><td>Open</td></tr><tr><td>2016-07-26T03:21:01.000+0000</td><td>Open</td></tr><tr><td>2016-07-26T03:21:02.000+0000</td><td>Open</td></tr><tr><td>2016-07-26T03:21:10.000+0000</td><td>Open</td></tr><tr><td>2016-07-26T03:21:17.000+0000</td><td>Open</td></tr><tr><td>2016-07-26T03:21:20.000+0000</td><td>Close</td></tr><tr><td>2016-07-26T03:21:21.000+0000</td><td>Open</td></tr><tr><td>2016-07-26T03:21:23.000+0000</td><td>Open</td></tr><tr><td>2016-07-26T03:21:27.000+0000</td><td>Open</td></tr><tr><td>2016-07-26T03:21:31.000+0000</td><td>Close</td></tr><tr><td>2016-07-26T03:21:31.000+0000</td><td>Open</td></tr><tr><td>2016-07-26T03:21:31.000+0000</td><td>Open</td></tr><tr><td>2016-07-26T03:21:32.000+0000</td><td>Open</td></tr><tr><td>2016-07-26T03:21:39.000+0000</td><td>Open</td></tr><tr><td>2016-07-26T03:21:41.000+0000</td><td>Open</td></tr><tr><td>2016-07-26T03:21:42.000+0000</td><td>Close</td></tr><tr><td>2016-07-26T03:21:45.000+0000</td><td>Open</td></tr><tr><td>2016-07-26T03:21:49.000+0000</td><td>Open</td></tr><tr><td>2016-07-26T03:21:56.000+0000</td><td>Open</td></tr><tr><td>2016-07-26T03:21:59.000+0000</td><td>Open</td></tr><tr><td>2016-07-26T03:21:59.000+0000</td><td>Open</td></tr><tr><td>2016-07-26T03:22:01.000+0000</td><td>Open</td></tr><tr><td>2016-07-26T03:22:05.000+0000</td><td>Close</td></tr><tr><td>2016-07-26T03:22:05.000+0000</td><td>Open</td></tr><tr><td>2016-07-26T03:22:08.000+0000</td><td>Open</td></tr><tr><td>2016-07-26T03:22:10.000+0000</td><td>Open</td></tr><tr><td>2016-07-26T03:22:14.000+0000</td><td>Open</td></tr><tr><td>2016-07-26T03:22:15.000+0000</td><td>Close</td></tr><tr><td>2016-07-26T03:22:15.000+0000</td><td>Open</td></tr><tr><td>2016-07-26T03:22:17.000+0000</td><td>Open</td></tr><tr><td>2016-07-26T03:22:24.000+0000</td><td>Close</td></tr><tr><td>2016-07-26T03:22:27.000+0000</td><td>Open</td></tr><tr><td>2016-07-26T03:22:28.000+0000</td><td>Open</td></tr><tr><td>2016-07-26T03:22:35.000+0000</td><td>Open</td></tr><tr><td>2016-07-26T03:22:36.000+0000</td><td>Close</td></tr><tr><td>2016-07-26T03:22:37.000+0000</td><td>Close</td></tr><tr><td>2016-07-26T03:22:39.000+0000</td><td>Open</td></tr><tr><td>2016-07-26T03:22:42.000+0000</td><td>Close</td></tr><tr><td>2016-07-26T03:22:42.000+0000</td><td>Open</td></tr><tr><td>2016-07-26T03:22:43.000+0000</td><td>Close</td></tr><tr><td>2016-07-26T03:22:45.000+0000</td><td>Open</td></tr><tr><td>2016-07-26T03:22:54.000+0000</td><td>Open</td></tr><tr><td>2016-07-26T03:22:57.000+0000</td><td>Open</td></tr><tr><td>2016-07-26T03:22:58.000+0000</td><td>Open</td></tr><tr><td>2016-07-26T03:22:58.000+0000</td><td>Open</td></tr><tr><td>2016-07-26T03:23:02.000+0000</td><td>Open</td></tr><tr><td>2016-07-26T03:23:03.000+0000</td><td>Open</td></tr><tr><td>2016-07-26T03:23:05.000+0000</td><td>Close</td></tr><tr><td>2016-07-26T03:23:06.000+0000</td><td>Open</td></tr><tr><td>2016-07-26T03:23:07.000+0000</td><td>Open</td></tr><tr><td>2016-07-26T03:23:12.000+0000</td><td>Open</td></tr><tr><td>2016-07-26T03:23:13.000+0000</td><td>Open</td></tr><tr><td>2016-07-26T03:23:18.000+0000</td><td>Open</td></tr><tr><td>2016-07-26T03:23:23.000+0000</td><td>Close</td></tr><tr><td>2016-07-26T03:23:26.000+0000</td><td>Close</td></tr><tr><td>2016-07-26T03:23:26.000+0000</td><td>Open</td></tr><tr><td>2016-07-26T03:23:27.000+0000</td><td>Open</td></tr><tr><td>2016-07-26T03:23:27.000+0000</td><td>Open</td></tr><tr><td>2016-07-26T03:23:28.000+0000</td><td>Open</td></tr><tr><td>2016-07-26T03:23:29.000+0000</td><td>Open</td></tr><tr><td>2016-07-26T03:23:31.000+0000</td><td>Open</td></tr><tr><td>2016-07-26T03:23:31.000+0000</td><td>Open</td></tr><tr><td>2016-07-26T03:23:35.000+0000</td><td>Open</td></tr><tr><td>2016-07-26T03:23:38.000+0000</td><td>Close</td></tr><tr><td>2016-07-26T03:23:38.000+0000</td><td>Open</td></tr><tr><td>2016-07-26T03:23:45.000+0000</td><td>Close</td></tr><tr><td>2016-07-26T03:23:46.000+0000</td><td>Close</td></tr><tr><td>2016-07-26T03:23:49.000+0000</td><td>Open</td></tr><tr><td>2016-07-26T03:23:50.000+0000</td><td>Open</td></tr><tr><td>2016-07-26T03:23:52.000+0000</td><td>Open</td></tr><tr><td>2016-07-26T03:23:57.000+0000</td><td>Close</td></tr><tr><td>2016-07-26T03:23:58.000+0000</td><td>Open</td></tr><tr><td>2016-07-26T03:24:05.000+0000</td><td>Open</td></tr><tr><td>2016-07-26T03:24:08.000+0000</td><td>Open</td></tr><tr><td>2016-07-26T03:24:09.000+0000</td><td>Close</td></tr><tr><td>2016-07-26T03:24:10.000+0000</td><td>Open</td></tr><tr><td>2016-07-26T03:24:15.000+0000</td><td>Open</td></tr><tr><td>2016-07-26T03:24:20.000+0000</td><td>Open</td></tr><tr><td>2016-07-26T03:24:23.000+0000</td><td>Open</td></tr><tr><td>2016-07-26T03:24:23.000+0000</td><td>Open</td></tr><tr><td>2016-07-26T03:24:26.000+0000</td><td>Open</td></tr><tr><td>2016-07-26T03:24:31.000+0000</td><td>Close</td></tr><tr><td>2016-07-26T03:24:34.000+0000</td><td>Open</td></tr><tr><td>2016-07-26T03:24:35.000+0000</td><td>Open</td></tr><tr><td>2016-07-26T03:24:37.000+0000</td><td>Open</td></tr><tr><td>2016-07-26T03:24:38.000+0000</td><td>Open</td></tr><tr><td>2016-07-26T03:24:42.000+0000</td><td>Open</td></tr><tr><td>2016-07-26T03:24:47.000+0000</td><td>Close</td></tr><tr><td>2016-07-26T03:24:50.000+0000</td><td>Open</td></tr><tr><td>2016-07-26T03:24:53.000+0000</td><td>Open</td></tr><tr><td>2016-07-26T03:24:54.000+0000</td><td>Close</td></tr><tr><td>2016-07-26T03:24:56.000+0000</td><td>Open</td></tr><tr><td>2016-07-26T03:24:56.000+0000</td><td>Open</td></tr><tr><td>2016-07-26T03:25:00.000+0000</td><td>Open</td></tr><tr><td>2016-07-26T03:25:04.000+0000</td><td>Open</td></tr><tr><td>2016-07-26T03:25:04.000+0000</td><td>Open</td></tr><tr><td>2016-07-26T03:25:06.000+0000</td><td>Open</td></tr><tr><td>2016-07-26T03:25:18.000+0000</td><td>Open</td></tr><tr><td>2016-07-26T03:25:22.000+0000</td><td>Open</td></tr><tr><td>2016-07-26T03:25:23.000+0000</td><td>Close</td></tr><tr><td>2016-07-26T03:25:23.000+0000</td><td>Open</td></tr><tr><td>2016-07-26T03:25:25.000+0000</td><td>Open</td></tr><tr><td>2016-07-26T03:25:31.000+0000</td><td>Open</td></tr><tr><td>2016-07-26T03:25:32.000+0000</td><td>Open</td></tr><tr><td>2016-07-26T03:25:37.000+0000</td><td>Open</td></tr><tr><td>2016-07-26T03:25:45.000+0000</td><td>Open</td></tr><tr><td>2016-07-26T03:25:45.000+0000</td><td>Open</td></tr><tr><td>2016-07-26T03:25:48.000+0000</td><td>Open</td></tr><tr><td>2016-07-26T03:25:51.000+0000</td><td>Open</td></tr><tr><td>2016-07-26T03:25:52.000+0000</td><td>Open</td></tr><tr><td>2016-07-26T03:25:56.000+0000</td><td>Open</td></tr><tr><td>2016-07-26T03:25:59.000+0000</td><td>Open</td></tr><tr><td>2016-07-26T03:26:01.000+0000</td><td>Close</td></tr><tr><td>2016-07-26T03:26:02.000+0000</td><td>Open</td></tr><tr><td>2016-07-26T03:26:06.000+0000</td><td>Open</td></tr><tr><td>2016-07-26T03:26:10.000+0000</td><td>Open</td></tr><tr><td>2016-07-26T03:26:10.000+0000</td><td>Open</td></tr><tr><td>2016-07-26T03:26:13.000+0000</td><td>Open</td></tr><tr><td>2016-07-26T03:26:14.000+0000</td><td>Open</td></tr><tr><td>2016-07-26T03:26:15.000+0000</td><td>Open</td></tr><tr><td>2016-07-26T03:26:24.000+0000</td><td>Open</td></tr><tr><td>2016-07-26T03:26:25.000+0000</td><td>Close</td></tr><tr><td>2016-07-26T03:26:25.000+0000</td><td>Open</td></tr><tr><td>2016-07-26T03:26:27.000+0000</td><td>Close</td></tr><tr><td>2016-07-26T03:26:28.000+0000</td><td>Open</td></tr><tr><td>2016-07-26T03:26:35.000+0000</td><td>Open</td></tr><tr><td>2016-07-26T03:26:46.000+0000</td><td>Open</td></tr><tr><td>2016-07-26T03:26:50.000+0000</td><td>Open</td></tr><tr><td>2016-07-26T03:26:55.000+0000</td><td>Close</td></tr><tr><td>2016-07-26T03:26:55.000+0000</td><td>Open</td></tr><tr><td>2016-07-26T03:26:55.000+0000</td><td>Open</td></tr><tr><td>2016-07-26T03:26:55.000+0000</td><td>Open</td></tr><tr><td>2016-07-26T03:26:58.000+0000</td><td>Open</td></tr><tr><td>2016-07-26T03:27:00.000+0000</td><td>Open</td></tr><tr><td>2016-07-26T03:27:04.000+0000</td><td>Open</td></tr><tr><td>2016-07-26T03:27:07.000+0000</td><td>Open</td></tr><tr><td>2016-07-26T03:27:09.000+0000</td><td>Open</td></tr><tr><td>2016-07-26T03:27:11.000+0000</td><td>Open</td></tr><tr><td>2016-07-26T03:27:17.000+0000</td><td>Close</td></tr><tr><td>2016-07-26T03:27:18.000+0000</td><td>Open</td></tr><tr><td>2016-07-26T03:27:19.000+0000</td><td>Open</td></tr><tr><td>2016-07-26T03:27:19.000+0000</td><td>Open</td></tr><tr><td>2016-07-26T03:27:27.000+0000</td><td>Open</td></tr><tr><td>2016-07-26T03:27:34.000+0000</td><td>Open</td></tr><tr><td>2016-07-26T03:27:36.000+0000</td><td>Open</td></tr><tr><td>2016-07-26T03:27:40.000+0000</td><td>Open</td></tr><tr><td>2016-07-26T03:27:44.000+0000</td><td>Open</td></tr><tr><td>2016-07-26T03:27:59.000+0000</td><td>Close</td></tr><tr><td>2016-07-26T03:27:59.000+0000</td><td>Close</td></tr><tr><td>2016-07-26T03:28:02.000+0000</td><td>Open</td></tr><tr><td>2016-07-26T03:28:08.000+0000</td><td>Close</td></tr><tr><td>2016-07-26T03:28:09.000+0000</td><td>Open</td></tr><tr><td>2016-07-26T03:28:09.000+0000</td><td>Open</td></tr><tr><td>2016-07-26T03:28:11.000+0000</td><td>Close</td></tr><tr><td>2016-07-26T03:28:11.000+0000</td><td>Open</td></tr><tr><td>2016-07-26T03:28:16.000+0000</td><td>Open</td></tr><tr><td>2016-07-26T03:28:18.000+0000</td><td>Open</td></tr><tr><td>2016-07-26T03:28:19.000+0000</td><td>Open</td></tr><tr><td>2016-07-26T03:28:22.000+0000</td><td>Close</td></tr><tr><td>2016-07-26T03:28:30.000+0000</td><td>Close</td></tr><tr><td>2016-07-26T03:28:33.000+0000</td><td>Open</td></tr><tr><td>2016-07-26T03:28:34.000+0000</td><td>Open</td></tr><tr><td>2016-07-26T03:28:35.000+0000</td><td>Open</td></tr><tr><td>2016-07-26T03:28:41.000+0000</td><td>Open</td></tr><tr><td>2016-07-26T03:28:52.000+0000</td><td>Close</td></tr><tr><td>2016-07-26T03:28:52.000+0000</td><td>Open</td></tr><tr><td>2016-07-26T03:28:53.000+0000</td><td>Close</td></tr><tr><td>2016-07-26T03:28:54.000+0000</td><td>Open</td></tr><tr><td>2016-07-26T03:28:54.000+0000</td><td>Open</td></tr><tr><td>2016-07-26T03:29:00.000+0000</td><td>Close</td></tr><tr><td>2016-07-26T03:29:02.000+0000</td><td>Open</td></tr><tr><td>2016-07-26T03:29:07.000+0000</td><td>Open</td></tr><tr><td>2016-07-26T03:29:10.000+0000</td><td>Open</td></tr><tr><td>2016-07-26T03:29:15.000+0000</td><td>Open</td></tr><tr><td>2016-07-26T03:29:15.000+0000</td><td>Open</td></tr><tr><td>2016-07-26T03:29:16.000+0000</td><td>Close</td></tr><tr><td>2016-07-26T03:29:18.000+0000</td><td>Open</td></tr><tr><td>2016-07-26T03:29:20.000+0000</td><td>Open</td></tr><tr><td>2016-07-26T03:29:21.000+0000</td><td>Open</td></tr><tr><td>2016-07-26T03:29:22.000+0000</td><td>Open</td></tr><tr><td>2016-07-26T03:29:23.000+0000</td><td>Open</td></tr><tr><td>2016-07-26T03:29:30.000+0000</td><td>Close</td></tr><tr><td>2016-07-26T03:29:34.000+0000</td><td>Close</td></tr><tr><td>2016-07-26T03:29:36.000+0000</td><td>Open</td></tr><tr><td>2016-07-26T03:29:38.000+0000</td><td>Open</td></tr><tr><td>2016-07-26T03:29:40.000+0000</td><td>Open</td></tr><tr><td>2016-07-26T03:29:43.000+0000</td><td>Open</td></tr><tr><td>2016-07-26T03:29:45.000+0000</td><td>Open</td></tr><tr><td>2016-07-26T03:29:48.000+0000</td><td>Open</td></tr><tr><td>2016-07-26T03:29:49.000+0000</td><td>Open</td></tr><tr><td>2016-07-26T03:29:52.000+0000</td><td>Open</td></tr><tr><td>2016-07-26T03:29:53.000+0000</td><td>Open</td></tr><tr><td>2016-07-26T03:29:53.000+0000</td><td>Open</td></tr><tr><td>2016-07-26T03:29:54.000+0000</td><td>Open</td></tr><tr><td>2016-07-26T03:29:59.000+0000</td><td>Close</td></tr><tr><td>2016-07-26T03:30:01.000+0000</td><td>Close</td></tr><tr><td>2016-07-26T03:30:10.000+0000</td><td>Close</td></tr><tr><td>2016-07-26T03:30:22.000+0000</td><td>Open</td></tr><tr><td>2016-07-26T03:30:24.000+0000</td><td>Close</td></tr><tr><td>2016-07-26T03:30:27.000+0000</td><td>Open</td></tr><tr><td>2016-07-26T03:30:28.000+0000</td><td>Open</td></tr><tr><td>2016-07-26T03:30:28.000+0000</td><td>Open</td></tr><tr><td>2016-07-26T03:30:29.000+0000</td><td>Open</td></tr><tr><td>2016-07-26T03:30:31.000+0000</td><td>Open</td></tr><tr><td>2016-07-26T03:30:32.000+0000</td><td>Close</td></tr><tr><td>2016-07-26T03:30:32.000+0000</td><td>Open</td></tr><tr><td>2016-07-26T03:30:41.000+0000</td><td>Open</td></tr><tr><td>2016-07-26T03:30:50.000+0000</td><td>Open</td></tr><tr><td>2016-07-26T03:30:50.000+0000</td><td>Open</td></tr><tr><td>2016-07-26T03:30:54.000+0000</td><td>Open</td></tr><tr><td>2016-07-26T03:30:55.000+0000</td><td>Close</td></tr><tr><td>2016-07-26T03:30:55.000+0000</td><td>Open</td></tr><tr><td>2016-07-26T03:31:00.000+0000</td><td>Close</td></tr><tr><td>2016-07-26T03:31:02.000+0000</td><td>Open</td></tr><tr><td>2016-07-26T03:31:05.000+0000</td><td>Open</td></tr><tr><td>2016-07-26T03:31:06.000+0000</td><td>Open</td></tr><tr><td>2016-07-26T03:31:08.000+0000</td><td>Close</td></tr><tr><td>2016-07-26T03:31:11.000+0000</td><td>Open</td></tr><tr><td>2016-07-26T03:31:23.000+0000</td><td>Close</td></tr><tr><td>2016-07-26T03:31:27.000+0000</td><td>Open</td></tr><tr><td>2016-07-26T03:31:28.000+0000</td><td>Open</td></tr><tr><td>2016-07-26T03:31:29.000+0000</td><td>Close</td></tr><tr><td>2016-07-26T03:31:30.000+0000</td><td>Open</td></tr><tr><td>2016-07-26T03:31:33.000+0000</td><td>Open</td></tr><tr><td>2016-07-26T03:31:34.000+0000</td><td>Open</td></tr><tr><td>2016-07-26T03:31:36.000+0000</td><td>Open</td></tr><tr><td>2016-07-26T03:31:38.000+0000</td><td>Open</td></tr><tr><td>2016-07-26T03:31:38.000+0000</td><td>Open</td></tr><tr><td>2016-07-26T03:31:48.000+0000</td><td>Open</td></tr><tr><td>2016-07-26T03:31:49.000+0000</td><td>Open</td></tr><tr><td>2016-07-26T03:31:51.000+0000</td><td>Close</td></tr><tr><td>2016-07-26T03:31:53.000+0000</td><td>Open</td></tr><tr><td>2016-07-26T03:31:55.000+0000</td><td>Open</td></tr><tr><td>2016-07-26T03:31:55.000+0000</td><td>Open</td></tr><tr><td>2016-07-26T03:31:58.000+0000</td><td>Close</td></tr><tr><td>2016-07-26T03:31:59.000+0000</td><td>Open</td></tr><tr><td>2016-07-26T03:32:05.000+0000</td><td>Close</td></tr><tr><td>2016-07-26T03:32:13.000+0000</td><td>Close</td></tr><tr><td>2016-07-26T03:32:16.000+0000</td><td>Open</td></tr><tr><td>2016-07-26T03:32:19.000+0000</td><td>Open</td></tr><tr><td>2016-07-26T03:32:22.000+0000</td><td>Close</td></tr><tr><td>2016-07-26T03:32:32.000+0000</td><td>Open</td></tr><tr><td>2016-07-26T03:32:34.000+0000</td><td>Open</td></tr><tr><td>2016-07-26T03:32:38.000+0000</td><td>Close</td></tr><tr><td>2016-07-26T03:32:41.000+0000</td><td>Open</td></tr><tr><td>2016-07-26T03:32:44.000+0000</td><td>Open</td></tr><tr><td>2016-07-26T03:32:45.000+0000</td><td>Open</td></tr><tr><td>2016-07-26T03:32:45.000+0000</td><td>Open</td></tr><tr><td>2016-07-26T03:32:46.000+0000</td><td>Open</td></tr><tr><td>2016-07-26T03:32:48.000+0000</td><td>Close</td></tr><tr><td>2016-07-26T03:32:50.000+0000</td><td>Open</td></tr><tr><td>2016-07-26T03:32:55.000+0000</td><td>Open</td></tr><tr><td>2016-07-26T03:32:56.000+0000</td><td>Open</td></tr><tr><td>2016-07-26T03:32:57.000+0000</td><td>Open</td></tr><tr><td>2016-07-26T03:32:59.000+0000</td><td>Open</td></tr><tr><td>2016-07-26T03:33:01.000+0000</td><td>Open</td></tr><tr><td>2016-07-26T03:33:02.000+0000</td><td>Open</td></tr><tr><td>2016-07-26T03:33:04.000+0000</td><td>Close</td></tr><tr><td>2016-07-26T03:33:05.000+0000</td><td>Open</td></tr><tr><td>2016-07-26T03:33:06.000+0000</td><td>Open</td></tr><tr><td>2016-07-26T03:33:07.000+0000</td><td>Open</td></tr><tr><td>2016-07-26T03:33:09.000+0000</td><td>Open</td></tr><tr><td>2016-07-26T03:33:10.000+0000</td><td>Open</td></tr><tr><td>2016-07-26T03:33:11.000+0000</td><td>Open</td></tr><tr><td>2016-07-26T03:33:13.000+0000</td><td>Open</td></tr><tr><td>2016-07-26T03:33:24.000+0000</td><td>Close</td></tr><tr><td>2016-07-26T03:33:31.000+0000</td><td>Open</td></tr><tr><td>2016-07-26T03:33:33.000+0000</td><td>Close</td></tr><tr><td>2016-07-26T03:33:35.000+0000</td><td>Close</td></tr><tr><td>2016-07-26T03:33:37.000+0000</td><td>Open</td></tr><tr><td>2016-07-26T03:33:43.000+0000</td><td>Open</td></tr><tr><td>2016-07-26T03:33:46.000+0000</td><td>Close</td></tr><tr><td>2016-07-26T03:33:48.000+0000</td><td>Open</td></tr><tr><td>2016-07-26T03:33:49.000+0000</td><td>Open</td></tr><tr><td>2016-07-26T03:34:05.000+0000</td><td>Open</td></tr><tr><td>2016-07-26T03:34:08.000+0000</td><td>Open</td></tr><tr><td>2016-07-26T03:34:09.000+0000</td><td>Open</td></tr><tr><td>2016-07-26T03:34:15.000+0000</td><td>Open</td></tr><tr><td>2016-07-26T03:34:15.000+0000</td><td>Open</td></tr><tr><td>2016-07-26T03:34:16.000+0000</td><td>Open</td></tr><tr><td>2016-07-26T03:34:20.000+0000</td><td>Open</td></tr><tr><td>2016-07-26T03:34:24.000+0000</td><td>Close</td></tr><tr><td>2016-07-26T03:34:24.000+0000</td><td>Open</td></tr><tr><td>2016-07-26T03:34:26.000+0000</td><td>Open</td></tr><tr><td>2016-07-26T03:34:31.000+0000</td><td>Open</td></tr><tr><td>2016-07-26T03:34:35.000+0000</td><td>Open</td></tr><tr><td>2016-07-26T03:34:35.000+0000</td><td>Open</td></tr><tr><td>2016-07-26T03:34:35.000+0000</td><td>Open</td></tr><tr><td>2016-07-26T03:34:39.000+0000</td><td>Open</td></tr><tr><td>2016-07-26T03:34:40.000+0000</td><td>Open</td></tr><tr><td>2016-07-26T03:34:41.000+0000</td><td>Open</td></tr><tr><td>2016-07-26T03:34:45.000+0000</td><td>Open</td></tr><tr><td>2016-07-26T03:34:49.000+0000</td><td>Open</td></tr><tr><td>2016-07-26T03:34:52.000+0000</td><td>Open</td></tr><tr><td>2016-07-26T03:34:56.000+0000</td><td>Close</td></tr><tr><td>2016-07-26T03:35:01.000+0000</td><td>Open</td></tr><tr><td>2016-07-26T03:35:03.000+0000</td><td>Open</td></tr><tr><td>2016-07-26T03:35:07.000+0000</td><td>Close</td></tr><tr><td>2016-07-26T03:35:09.000+0000</td><td>Close</td></tr><tr><td>2016-07-26T03:35:09.000+0000</td><td>Open</td></tr><tr><td>2016-07-26T03:35:10.000+0000</td><td>Open</td></tr><tr><td>2016-07-26T03:35:19.000+0000</td><td>Open</td></tr><tr><td>2016-07-26T03:35:23.000+0000</td><td>Open</td></tr><tr><td>2016-07-26T03:35:24.000+0000</td><td>Open</td></tr><tr><td>2016-07-26T03:35:28.000+0000</td><td>Open</td></tr><tr><td>2016-07-26T03:35:30.000+0000</td><td>Open</td></tr><tr><td>2016-07-26T03:35:32.000+0000</td><td>Open</td></tr><tr><td>2016-07-26T03:35:35.000+0000</td><td>Open</td></tr><tr><td>2016-07-26T03:35:44.000+0000</td><td>Open</td></tr><tr><td>2016-07-26T03:35:48.000+0000</td><td>Close</td></tr><tr><td>2016-07-26T03:35:53.000+0000</td><td>Close</td></tr><tr><td>2016-07-26T03:35:53.000+0000</td><td>Close</td></tr><tr><td>2016-07-26T03:35:53.000+0000</td><td>Open</td></tr><tr><td>2016-07-26T03:36:04.000+0000</td><td>Close</td></tr><tr><td>2016-07-26T03:36:05.000+0000</td><td>Open</td></tr><tr><td>2016-07-26T03:36:06.000+0000</td><td>Close</td></tr><tr><td>2016-07-26T03:36:10.000+0000</td><td>Close</td></tr><tr><td>2016-07-26T03:36:11.000+0000</td><td>Close</td></tr><tr><td>2016-07-26T03:36:11.000+0000</td><td>Open</td></tr><tr><td>2016-07-26T03:36:13.000+0000</td><td>Open</td></tr><tr><td>2016-07-26T03:36:17.000+0000</td><td>Open</td></tr><tr><td>2016-07-26T03:36:22.000+0000</td><td>Open</td></tr><tr><td>2016-07-26T03:36:23.000+0000</td><td>Open</td></tr><tr><td>2016-07-26T03:36:24.000+0000</td><td>Open</td></tr><tr><td>2016-07-26T03:36:26.000+0000</td><td>Close</td></tr><tr><td>2016-07-26T03:36:28.000+0000</td><td>Open</td></tr><tr><td>2016-07-26T03:36:29.000+0000</td><td>Open</td></tr><tr><td>2016-07-26T03:36:32.000+0000</td><td>Close</td></tr><tr><td>2016-07-26T03:36:32.000+0000</td><td>Open</td></tr><tr><td>2016-07-26T03:36:32.000+0000</td><td>Open</td></tr><tr><td>2016-07-26T03:36:34.000+0000</td><td>Open</td></tr><tr><td>2016-07-26T03:36:35.000+0000</td><td>Open</td></tr><tr><td>2016-07-26T03:36:37.000+0000</td><td>Open</td></tr><tr><td>2016-07-26T03:36:38.000+0000</td><td>Open</td></tr><tr><td>2016-07-26T03:36:41.000+0000</td><td>Open</td></tr><tr><td>2016-07-26T03:36:43.000+0000</td><td>Close</td></tr><tr><td>2016-07-26T03:36:44.000+0000</td><td>Open</td></tr><tr><td>2016-07-26T03:36:48.000+0000</td><td>Open</td></tr><tr><td>2016-07-26T03:36:49.000+0000</td><td>Open</td></tr><tr><td>2016-07-26T03:36:56.000+0000</td><td>Open</td></tr><tr><td>2016-07-26T03:37:01.000+0000</td><td>Open</td></tr><tr><td>2016-07-26T03:37:02.000+0000</td><td>Close</td></tr><tr><td>2016-07-26T03:37:02.000+0000</td><td>Close</td></tr><tr><td>2016-07-26T03:37:02.000+0000</td><td>Open</td></tr><tr><td>2016-07-26T03:37:04.000+0000</td><td>Close</td></tr><tr><td>2016-07-26T03:37:05.000+0000</td><td>Open</td></tr><tr><td>2016-07-26T03:37:08.000+0000</td><td>Open</td></tr><tr><td>2016-07-26T03:37:10.000+0000</td><td>Open</td></tr><tr><td>2016-07-26T03:37:13.000+0000</td><td>Open</td></tr><tr><td>2016-07-26T03:37:22.000+0000</td><td>Open</td></tr><tr><td>2016-07-26T03:37:24.000+0000</td><td>Open</td></tr><tr><td>2016-07-26T03:37:27.000+0000</td><td>Open</td></tr><tr><td>2016-07-26T03:37:27.000+0000</td><td>Open</td></tr><tr><td>2016-07-26T03:37:30.000+0000</td><td>Open</td></tr><tr><td>2016-07-26T03:37:36.000+0000</td><td>Open</td></tr><tr><td>2016-07-26T03:37:36.000+0000</td><td>Open</td></tr><tr><td>2016-07-26T03:37:37.000+0000</td><td>Open</td></tr><tr><td>2016-07-26T03:37:40.000+0000</td><td>Close</td></tr><tr><td>2016-07-26T03:37:46.000+0000</td><td>Close</td></tr><tr><td>2016-07-26T03:37:53.000+0000</td><td>Close</td></tr><tr><td>2016-07-26T03:37:54.000+0000</td><td>Open</td></tr><tr><td>2016-07-26T03:37:55.000+0000</td><td>Close</td></tr><tr><td>2016-07-26T03:37:56.000+0000</td><td>Open</td></tr><tr><td>2016-07-26T03:37:56.000+0000</td><td>Close</td></tr><tr><td>2016-07-26T03:37:59.000+0000</td><td>Open</td></tr><tr><td>2016-07-26T03:38:02.000+0000</td><td>Open</td></tr><tr><td>2016-07-26T03:38:04.000+0000</td><td>Open</td></tr><tr><td>2016-07-26T03:38:10.000+0000</td><td>Close</td></tr><tr><td>2016-07-26T03:38:15.000+0000</td><td>Open</td></tr><tr><td>2016-07-26T03:38:16.000+0000</td><td>Close</td></tr><tr><td>2016-07-26T03:38:16.000+0000</td><td>Open</td></tr><tr><td>2016-07-26T03:38:17.000+0000</td><td>Open</td></tr><tr><td>2016-07-26T03:38:27.000+0000</td><td>Open</td></tr><tr><td>2016-07-26T03:38:29.000+0000</td><td>Close</td></tr><tr><td>2016-07-26T03:38:29.000+0000</td><td>Open</td></tr><tr><td>2016-07-26T03:38:35.000+0000</td><td>Close</td></tr><tr><td>2016-07-26T03:38:38.000+0000</td><td>Open</td></tr><tr><td>2016-07-26T03:38:39.000+0000</td><td>Open</td></tr><tr><td>2016-07-26T03:38:39.000+0000</td><td>Open</td></tr><tr><td>2016-07-26T03:38:40.000+0000</td><td>Close</td></tr><tr><td>2016-07-26T03:38:40.000+0000</td><td>Open</td></tr><tr><td>2016-07-26T03:38:40.000+0000</td><td>Open</td></tr><tr><td>2016-07-26T03:38:44.000+0000</td><td>Open</td></tr><tr><td>2016-07-26T03:38:45.000+0000</td><td>Open</td></tr><tr><td>2016-07-26T03:38:47.000+0000</td><td>Open</td></tr><tr><td>2016-07-26T03:38:48.000+0000</td><td>Close</td></tr><tr><td>2016-07-26T03:38:51.000+0000</td><td>Open</td></tr><tr><td>2016-07-26T03:38:54.000+0000</td><td>Close</td></tr><tr><td>2016-07-26T03:38:55.000+0000</td><td>Close</td></tr><tr><td>2016-07-26T03:38:59.000+0000</td><td>Open</td></tr><tr><td>2016-07-26T03:39:00.000+0000</td><td>Open</td></tr><tr><td>2016-07-26T03:39:03.000+0000</td><td>Close</td></tr><tr><td>2016-07-26T03:39:04.000+0000</td><td>Open</td></tr><tr><td>2016-07-26T03:39:04.000+0000</td><td>Open</td></tr><tr><td>2016-07-26T03:39:07.000+0000</td><td>Close</td></tr><tr><td>2016-07-26T03:39:09.000+0000</td><td>Close</td></tr><tr><td>2016-07-26T03:39:17.000+0000</td><td>Open</td></tr><tr><td>2016-07-26T03:39:19.000+0000</td><td>Open</td></tr><tr><td>2016-07-26T03:39:20.000+0000</td><td>Open</td></tr></tbody></table>Showing the first 1000 rows.</div>"
      ]
     },
     "metadata": {
      "application/vnd.databricks.v1+output": {
       "addedWidgets": {},
       "aggData": [],
       "aggError": "",
       "aggOverflow": false,
       "aggSchema": [],
       "aggSeriesLimitReached": false,
       "aggType": "",
       "arguments": {},
       "columnCustomDisplayInfos": {},
       "data": [
        [
         "2016-07-26T02:45:07.000+0000",
         "Open"
        ],
        [
         "2016-07-26T02:45:47.000+0000",
         "Open"
        ],
        [
         "2016-07-26T02:46:42.000+0000",
         "Open"
        ],
        [
         "2016-07-26T02:46:59.000+0000",
         "Open"
        ],
        [
         "2016-07-26T02:47:05.000+0000",
         "Open"
        ],
        [
         "2016-07-26T02:47:14.000+0000",
         "Open"
        ],
        [
         "2016-07-26T02:47:25.000+0000",
         "Open"
        ],
        [
         "2016-07-26T02:47:26.000+0000",
         "Open"
        ],
        [
         "2016-07-26T02:47:28.000+0000",
         "Open"
        ],
        [
         "2016-07-26T02:47:36.000+0000",
         "Open"
        ],
        [
         "2016-07-26T02:47:44.000+0000",
         "Open"
        ],
        [
         "2016-07-26T02:47:46.000+0000",
         "Open"
        ],
        [
         "2016-07-26T02:47:47.000+0000",
         "Open"
        ],
        [
         "2016-07-26T02:47:49.000+0000",
         "Open"
        ],
        [
         "2016-07-26T02:47:51.000+0000",
         "Open"
        ],
        [
         "2016-07-26T02:48:02.000+0000",
         "Open"
        ],
        [
         "2016-07-26T02:48:05.000+0000",
         "Open"
        ],
        [
         "2016-07-26T02:48:11.000+0000",
         "Open"
        ],
        [
         "2016-07-26T02:48:17.000+0000",
         "Open"
        ],
        [
         "2016-07-26T02:48:23.000+0000",
         "Open"
        ],
        [
         "2016-07-26T02:48:42.000+0000",
         "Open"
        ],
        [
         "2016-07-26T02:48:55.000+0000",
         "Open"
        ],
        [
         "2016-07-26T02:49:04.000+0000",
         "Open"
        ],
        [
         "2016-07-26T02:49:06.000+0000",
         "Open"
        ],
        [
         "2016-07-26T02:49:09.000+0000",
         "Open"
        ],
        [
         "2016-07-26T02:49:17.000+0000",
         "Open"
        ],
        [
         "2016-07-26T02:49:26.000+0000",
         "Open"
        ],
        [
         "2016-07-26T02:49:31.000+0000",
         "Open"
        ],
        [
         "2016-07-26T02:49:35.000+0000",
         "Open"
        ],
        [
         "2016-07-26T02:49:35.000+0000",
         "Open"
        ],
        [
         "2016-07-26T02:49:41.000+0000",
         "Open"
        ],
        [
         "2016-07-26T02:49:52.000+0000",
         "Open"
        ],
        [
         "2016-07-26T02:50:02.000+0000",
         "Open"
        ],
        [
         "2016-07-26T02:50:07.000+0000",
         "Open"
        ],
        [
         "2016-07-26T02:50:10.000+0000",
         "Open"
        ],
        [
         "2016-07-26T02:50:20.000+0000",
         "Open"
        ],
        [
         "2016-07-26T02:50:24.000+0000",
         "Open"
        ],
        [
         "2016-07-26T02:50:38.000+0000",
         "Open"
        ],
        [
         "2016-07-26T02:50:42.000+0000",
         "Close"
        ],
        [
         "2016-07-26T02:51:02.000+0000",
         "Open"
        ],
        [
         "2016-07-26T02:51:20.000+0000",
         "Open"
        ],
        [
         "2016-07-26T02:51:28.000+0000",
         "Open"
        ],
        [
         "2016-07-26T02:51:29.000+0000",
         "Open"
        ],
        [
         "2016-07-26T02:51:31.000+0000",
         "Open"
        ],
        [
         "2016-07-26T02:51:43.000+0000",
         "Open"
        ],
        [
         "2016-07-26T02:51:45.000+0000",
         "Open"
        ],
        [
         "2016-07-26T02:51:49.000+0000",
         "Open"
        ],
        [
         "2016-07-26T02:51:53.000+0000",
         "Open"
        ],
        [
         "2016-07-26T02:51:57.000+0000",
         "Open"
        ],
        [
         "2016-07-26T02:52:00.000+0000",
         "Open"
        ],
        [
         "2016-07-26T02:52:05.000+0000",
         "Open"
        ],
        [
         "2016-07-26T02:52:13.000+0000",
         "Open"
        ],
        [
         "2016-07-26T02:52:19.000+0000",
         "Open"
        ],
        [
         "2016-07-26T02:52:20.000+0000",
         "Open"
        ],
        [
         "2016-07-26T02:52:21.000+0000",
         "Open"
        ],
        [
         "2016-07-26T02:52:23.000+0000",
         "Open"
        ],
        [
         "2016-07-26T02:52:24.000+0000",
         "Open"
        ],
        [
         "2016-07-26T02:52:25.000+0000",
         "Close"
        ],
        [
         "2016-07-26T02:52:25.000+0000",
         "Open"
        ],
        [
         "2016-07-26T02:52:27.000+0000",
         "Open"
        ],
        [
         "2016-07-26T02:52:32.000+0000",
         "Open"
        ],
        [
         "2016-07-26T02:52:37.000+0000",
         "Open"
        ],
        [
         "2016-07-26T02:52:39.000+0000",
         "Open"
        ],
        [
         "2016-07-26T02:52:40.000+0000",
         "Open"
        ],
        [
         "2016-07-26T02:52:40.000+0000",
         "Open"
        ],
        [
         "2016-07-26T02:52:45.000+0000",
         "Open"
        ],
        [
         "2016-07-26T02:52:46.000+0000",
         "Open"
        ],
        [
         "2016-07-26T02:52:54.000+0000",
         "Open"
        ],
        [
         "2016-07-26T02:52:55.000+0000",
         "Open"
        ],
        [
         "2016-07-26T02:52:55.000+0000",
         "Open"
        ],
        [
         "2016-07-26T02:52:58.000+0000",
         "Open"
        ],
        [
         "2016-07-26T02:53:01.000+0000",
         "Open"
        ],
        [
         "2016-07-26T02:53:04.000+0000",
         "Open"
        ],
        [
         "2016-07-26T02:53:20.000+0000",
         "Open"
        ],
        [
         "2016-07-26T02:53:21.000+0000",
         "Open"
        ],
        [
         "2016-07-26T02:53:23.000+0000",
         "Open"
        ],
        [
         "2016-07-26T02:53:30.000+0000",
         "Open"
        ],
        [
         "2016-07-26T02:53:40.000+0000",
         "Open"
        ],
        [
         "2016-07-26T02:53:41.000+0000",
         "Open"
        ],
        [
         "2016-07-26T02:53:45.000+0000",
         "Open"
        ],
        [
         "2016-07-26T02:53:45.000+0000",
         "Close"
        ],
        [
         "2016-07-26T02:53:46.000+0000",
         "Open"
        ],
        [
         "2016-07-26T02:53:51.000+0000",
         "Open"
        ],
        [
         "2016-07-26T02:53:52.000+0000",
         "Open"
        ],
        [
         "2016-07-26T02:53:52.000+0000",
         "Open"
        ],
        [
         "2016-07-26T02:53:58.000+0000",
         "Open"
        ],
        [
         "2016-07-26T02:54:03.000+0000",
         "Open"
        ],
        [
         "2016-07-26T02:54:06.000+0000",
         "Open"
        ],
        [
         "2016-07-26T02:54:22.000+0000",
         "Open"
        ],
        [
         "2016-07-26T02:54:22.000+0000",
         "Open"
        ],
        [
         "2016-07-26T02:54:22.000+0000",
         "Open"
        ],
        [
         "2016-07-26T02:54:23.000+0000",
         "Open"
        ],
        [
         "2016-07-26T02:54:27.000+0000",
         "Open"
        ],
        [
         "2016-07-26T02:54:34.000+0000",
         "Open"
        ],
        [
         "2016-07-26T02:54:35.000+0000",
         "Open"
        ],
        [
         "2016-07-26T02:54:38.000+0000",
         "Close"
        ],
        [
         "2016-07-26T02:54:40.000+0000",
         "Open"
        ],
        [
         "2016-07-26T02:54:45.000+0000",
         "Open"
        ],
        [
         "2016-07-26T02:54:46.000+0000",
         "Open"
        ],
        [
         "2016-07-26T02:54:49.000+0000",
         "Open"
        ],
        [
         "2016-07-26T02:54:51.000+0000",
         "Open"
        ],
        [
         "2016-07-26T02:54:54.000+0000",
         "Open"
        ],
        [
         "2016-07-26T02:54:56.000+0000",
         "Close"
        ],
        [
         "2016-07-26T02:55:02.000+0000",
         "Open"
        ],
        [
         "2016-07-26T02:55:03.000+0000",
         "Open"
        ],
        [
         "2016-07-26T02:55:04.000+0000",
         "Open"
        ],
        [
         "2016-07-26T02:55:06.000+0000",
         "Open"
        ],
        [
         "2016-07-26T02:55:06.000+0000",
         "Open"
        ],
        [
         "2016-07-26T02:55:10.000+0000",
         "Open"
        ],
        [
         "2016-07-26T02:55:15.000+0000",
         "Open"
        ],
        [
         "2016-07-26T02:55:17.000+0000",
         "Open"
        ],
        [
         "2016-07-26T02:55:19.000+0000",
         "Open"
        ],
        [
         "2016-07-26T02:55:19.000+0000",
         "Open"
        ],
        [
         "2016-07-26T02:55:34.000+0000",
         "Open"
        ],
        [
         "2016-07-26T02:55:39.000+0000",
         "Open"
        ],
        [
         "2016-07-26T02:55:40.000+0000",
         "Open"
        ],
        [
         "2016-07-26T02:55:47.000+0000",
         "Open"
        ],
        [
         "2016-07-26T02:55:49.000+0000",
         "Open"
        ],
        [
         "2016-07-26T02:55:49.000+0000",
         "Close"
        ],
        [
         "2016-07-26T02:55:54.000+0000",
         "Open"
        ],
        [
         "2016-07-26T02:55:55.000+0000",
         "Open"
        ],
        [
         "2016-07-26T02:55:56.000+0000",
         "Open"
        ],
        [
         "2016-07-26T02:55:56.000+0000",
         "Open"
        ],
        [
         "2016-07-26T02:55:57.000+0000",
         "Open"
        ],
        [
         "2016-07-26T02:55:58.000+0000",
         "Open"
        ],
        [
         "2016-07-26T02:55:59.000+0000",
         "Open"
        ],
        [
         "2016-07-26T02:56:01.000+0000",
         "Open"
        ],
        [
         "2016-07-26T02:56:04.000+0000",
         "Open"
        ],
        [
         "2016-07-26T02:56:12.000+0000",
         "Open"
        ],
        [
         "2016-07-26T02:56:12.000+0000",
         "Open"
        ],
        [
         "2016-07-26T02:56:16.000+0000",
         "Close"
        ],
        [
         "2016-07-26T02:56:20.000+0000",
         "Open"
        ],
        [
         "2016-07-26T02:56:22.000+0000",
         "Open"
        ],
        [
         "2016-07-26T02:56:23.000+0000",
         "Open"
        ],
        [
         "2016-07-26T02:56:25.000+0000",
         "Open"
        ],
        [
         "2016-07-26T02:56:29.000+0000",
         "Open"
        ],
        [
         "2016-07-26T02:56:35.000+0000",
         "Open"
        ],
        [
         "2016-07-26T02:56:42.000+0000",
         "Open"
        ],
        [
         "2016-07-26T02:56:42.000+0000",
         "Open"
        ],
        [
         "2016-07-26T02:56:46.000+0000",
         "Open"
        ],
        [
         "2016-07-26T02:56:53.000+0000",
         "Open"
        ],
        [
         "2016-07-26T02:56:57.000+0000",
         "Open"
        ],
        [
         "2016-07-26T02:56:58.000+0000",
         "Open"
        ],
        [
         "2016-07-26T02:56:59.000+0000",
         "Close"
        ],
        [
         "2016-07-26T02:57:08.000+0000",
         "Open"
        ],
        [
         "2016-07-26T02:57:09.000+0000",
         "Open"
        ],
        [
         "2016-07-26T02:57:10.000+0000",
         "Open"
        ],
        [
         "2016-07-26T02:57:13.000+0000",
         "Open"
        ],
        [
         "2016-07-26T02:57:15.000+0000",
         "Open"
        ],
        [
         "2016-07-26T02:57:17.000+0000",
         "Open"
        ],
        [
         "2016-07-26T02:57:18.000+0000",
         "Open"
        ],
        [
         "2016-07-26T02:57:20.000+0000",
         "Open"
        ],
        [
         "2016-07-26T02:57:25.000+0000",
         "Open"
        ],
        [
         "2016-07-26T02:57:28.000+0000",
         "Open"
        ],
        [
         "2016-07-26T02:57:33.000+0000",
         "Open"
        ],
        [
         "2016-07-26T02:57:35.000+0000",
         "Open"
        ],
        [
         "2016-07-26T02:57:41.000+0000",
         "Close"
        ],
        [
         "2016-07-26T02:57:41.000+0000",
         "Open"
        ],
        [
         "2016-07-26T02:57:42.000+0000",
         "Open"
        ],
        [
         "2016-07-26T02:57:43.000+0000",
         "Open"
        ],
        [
         "2016-07-26T02:57:45.000+0000",
         "Open"
        ],
        [
         "2016-07-26T02:57:53.000+0000",
         "Open"
        ],
        [
         "2016-07-26T02:58:04.000+0000",
         "Open"
        ],
        [
         "2016-07-26T02:58:15.000+0000",
         "Open"
        ],
        [
         "2016-07-26T02:58:24.000+0000",
         "Open"
        ],
        [
         "2016-07-26T02:58:27.000+0000",
         "Open"
        ],
        [
         "2016-07-26T02:58:29.000+0000",
         "Close"
        ],
        [
         "2016-07-26T02:58:29.000+0000",
         "Open"
        ],
        [
         "2016-07-26T02:58:31.000+0000",
         "Open"
        ],
        [
         "2016-07-26T02:58:49.000+0000",
         "Open"
        ],
        [
         "2016-07-26T02:58:50.000+0000",
         "Open"
        ],
        [
         "2016-07-26T02:58:50.000+0000",
         "Open"
        ],
        [
         "2016-07-26T02:58:51.000+0000",
         "Open"
        ],
        [
         "2016-07-26T02:58:55.000+0000",
         "Open"
        ],
        [
         "2016-07-26T02:58:55.000+0000",
         "Open"
        ],
        [
         "2016-07-26T02:59:06.000+0000",
         "Open"
        ],
        [
         "2016-07-26T02:59:06.000+0000",
         "Open"
        ],
        [
         "2016-07-26T02:59:19.000+0000",
         "Open"
        ],
        [
         "2016-07-26T02:59:27.000+0000",
         "Open"
        ],
        [
         "2016-07-26T02:59:32.000+0000",
         "Close"
        ],
        [
         "2016-07-26T02:59:36.000+0000",
         "Open"
        ],
        [
         "2016-07-26T02:59:38.000+0000",
         "Open"
        ],
        [
         "2016-07-26T02:59:38.000+0000",
         "Open"
        ],
        [
         "2016-07-26T02:59:38.000+0000",
         "Open"
        ],
        [
         "2016-07-26T02:59:40.000+0000",
         "Open"
        ],
        [
         "2016-07-26T02:59:40.000+0000",
         "Open"
        ],
        [
         "2016-07-26T02:59:45.000+0000",
         "Open"
        ],
        [
         "2016-07-26T02:59:48.000+0000",
         "Open"
        ],
        [
         "2016-07-26T02:59:52.000+0000",
         "Open"
        ],
        [
         "2016-07-26T02:59:56.000+0000",
         "Open"
        ],
        [
         "2016-07-26T03:00:05.000+0000",
         "Open"
        ],
        [
         "2016-07-26T03:00:10.000+0000",
         "Open"
        ],
        [
         "2016-07-26T03:00:14.000+0000",
         "Close"
        ],
        [
         "2016-07-26T03:00:20.000+0000",
         "Open"
        ],
        [
         "2016-07-26T03:00:22.000+0000",
         "Open"
        ],
        [
         "2016-07-26T03:00:22.000+0000",
         "Open"
        ],
        [
         "2016-07-26T03:00:31.000+0000",
         "Open"
        ],
        [
         "2016-07-26T03:00:31.000+0000",
         "Open"
        ],
        [
         "2016-07-26T03:00:33.000+0000",
         "Open"
        ],
        [
         "2016-07-26T03:00:35.000+0000",
         "Open"
        ],
        [
         "2016-07-26T03:00:38.000+0000",
         "Open"
        ],
        [
         "2016-07-26T03:00:44.000+0000",
         "Open"
        ],
        [
         "2016-07-26T03:00:54.000+0000",
         "Open"
        ],
        [
         "2016-07-26T03:00:54.000+0000",
         "Open"
        ],
        [
         "2016-07-26T03:00:54.000+0000",
         "Open"
        ],
        [
         "2016-07-26T03:00:57.000+0000",
         "Open"
        ],
        [
         "2016-07-26T03:01:00.000+0000",
         "Open"
        ],
        [
         "2016-07-26T03:01:05.000+0000",
         "Open"
        ],
        [
         "2016-07-26T03:01:07.000+0000",
         "Open"
        ],
        [
         "2016-07-26T03:01:11.000+0000",
         "Open"
        ],
        [
         "2016-07-26T03:01:11.000+0000",
         "Open"
        ],
        [
         "2016-07-26T03:01:12.000+0000",
         "Close"
        ],
        [
         "2016-07-26T03:01:13.000+0000",
         "Open"
        ],
        [
         "2016-07-26T03:01:17.000+0000",
         "Open"
        ],
        [
         "2016-07-26T03:01:20.000+0000",
         "Open"
        ],
        [
         "2016-07-26T03:01:32.000+0000",
         "Open"
        ],
        [
         "2016-07-26T03:01:37.000+0000",
         "Open"
        ],
        [
         "2016-07-26T03:01:45.000+0000",
         "Open"
        ],
        [
         "2016-07-26T03:01:49.000+0000",
         "Open"
        ],
        [
         "2016-07-26T03:01:58.000+0000",
         "Open"
        ],
        [
         "2016-07-26T03:02:06.000+0000",
         "Open"
        ],
        [
         "2016-07-26T03:02:07.000+0000",
         "Open"
        ],
        [
         "2016-07-26T03:02:10.000+0000",
         "Open"
        ],
        [
         "2016-07-26T03:02:10.000+0000",
         "Open"
        ],
        [
         "2016-07-26T03:02:12.000+0000",
         "Open"
        ],
        [
         "2016-07-26T03:02:15.000+0000",
         "Open"
        ],
        [
         "2016-07-26T03:02:24.000+0000",
         "Open"
        ],
        [
         "2016-07-26T03:02:25.000+0000",
         "Open"
        ],
        [
         "2016-07-26T03:02:27.000+0000",
         "Open"
        ],
        [
         "2016-07-26T03:02:28.000+0000",
         "Close"
        ],
        [
         "2016-07-26T03:02:34.000+0000",
         "Open"
        ],
        [
         "2016-07-26T03:02:37.000+0000",
         "Open"
        ],
        [
         "2016-07-26T03:02:45.000+0000",
         "Open"
        ],
        [
         "2016-07-26T03:02:57.000+0000",
         "Open"
        ],
        [
         "2016-07-26T03:03:01.000+0000",
         "Open"
        ],
        [
         "2016-07-26T03:03:01.000+0000",
         "Open"
        ],
        [
         "2016-07-26T03:03:02.000+0000",
         "Open"
        ],
        [
         "2016-07-26T03:03:04.000+0000",
         "Open"
        ],
        [
         "2016-07-26T03:03:04.000+0000",
         "Open"
        ],
        [
         "2016-07-26T03:03:10.000+0000",
         "Open"
        ],
        [
         "2016-07-26T03:03:14.000+0000",
         "Open"
        ],
        [
         "2016-07-26T03:03:21.000+0000",
         "Open"
        ],
        [
         "2016-07-26T03:03:22.000+0000",
         "Open"
        ],
        [
         "2016-07-26T03:03:25.000+0000",
         "Open"
        ],
        [
         "2016-07-26T03:03:26.000+0000",
         "Open"
        ],
        [
         "2016-07-26T03:03:31.000+0000",
         "Open"
        ],
        [
         "2016-07-26T03:03:37.000+0000",
         "Open"
        ],
        [
         "2016-07-26T03:03:38.000+0000",
         "Open"
        ],
        [
         "2016-07-26T03:03:49.000+0000",
         "Open"
        ],
        [
         "2016-07-26T03:03:51.000+0000",
         "Open"
        ],
        [
         "2016-07-26T03:03:51.000+0000",
         "Open"
        ],
        [
         "2016-07-26T03:03:54.000+0000",
         "Open"
        ],
        [
         "2016-07-26T03:03:56.000+0000",
         "Open"
        ],
        [
         "2016-07-26T03:04:01.000+0000",
         "Open"
        ],
        [
         "2016-07-26T03:04:04.000+0000",
         "Open"
        ],
        [
         "2016-07-26T03:04:05.000+0000",
         "Open"
        ],
        [
         "2016-07-26T03:04:06.000+0000",
         "Open"
        ],
        [
         "2016-07-26T03:04:13.000+0000",
         "Open"
        ],
        [
         "2016-07-26T03:04:17.000+0000",
         "Open"
        ],
        [
         "2016-07-26T03:04:18.000+0000",
         "Open"
        ],
        [
         "2016-07-26T03:04:19.000+0000",
         "Open"
        ],
        [
         "2016-07-26T03:04:19.000+0000",
         "Open"
        ],
        [
         "2016-07-26T03:04:21.000+0000",
         "Close"
        ],
        [
         "2016-07-26T03:04:27.000+0000",
         "Open"
        ],
        [
         "2016-07-26T03:04:29.000+0000",
         "Open"
        ],
        [
         "2016-07-26T03:04:29.000+0000",
         "Open"
        ],
        [
         "2016-07-26T03:04:30.000+0000",
         "Open"
        ],
        [
         "2016-07-26T03:04:32.000+0000",
         "Open"
        ],
        [
         "2016-07-26T03:04:32.000+0000",
         "Open"
        ],
        [
         "2016-07-26T03:04:33.000+0000",
         "Open"
        ],
        [
         "2016-07-26T03:04:33.000+0000",
         "Open"
        ],
        [
         "2016-07-26T03:04:35.000+0000",
         "Open"
        ],
        [
         "2016-07-26T03:04:37.000+0000",
         "Open"
        ],
        [
         "2016-07-26T03:04:39.000+0000",
         "Open"
        ],
        [
         "2016-07-26T03:04:39.000+0000",
         "Open"
        ],
        [
         "2016-07-26T03:04:42.000+0000",
         "Close"
        ],
        [
         "2016-07-26T03:04:45.000+0000",
         "Open"
        ],
        [
         "2016-07-26T03:04:46.000+0000",
         "Open"
        ],
        [
         "2016-07-26T03:04:52.000+0000",
         "Open"
        ],
        [
         "2016-07-26T03:04:54.000+0000",
         "Open"
        ],
        [
         "2016-07-26T03:04:58.000+0000",
         "Open"
        ],
        [
         "2016-07-26T03:05:01.000+0000",
         "Open"
        ],
        [
         "2016-07-26T03:05:02.000+0000",
         "Open"
        ],
        [
         "2016-07-26T03:05:04.000+0000",
         "Open"
        ],
        [
         "2016-07-26T03:05:08.000+0000",
         "Open"
        ],
        [
         "2016-07-26T03:05:18.000+0000",
         "Open"
        ],
        [
         "2016-07-26T03:05:23.000+0000",
         "Open"
        ],
        [
         "2016-07-26T03:05:28.000+0000",
         "Open"
        ],
        [
         "2016-07-26T03:05:33.000+0000",
         "Open"
        ],
        [
         "2016-07-26T03:05:36.000+0000",
         "Close"
        ],
        [
         "2016-07-26T03:05:38.000+0000",
         "Close"
        ],
        [
         "2016-07-26T03:05:46.000+0000",
         "Open"
        ],
        [
         "2016-07-26T03:05:48.000+0000",
         "Open"
        ],
        [
         "2016-07-26T03:05:50.000+0000",
         "Open"
        ],
        [
         "2016-07-26T03:05:51.000+0000",
         "Close"
        ],
        [
         "2016-07-26T03:05:57.000+0000",
         "Close"
        ],
        [
         "2016-07-26T03:06:01.000+0000",
         "Open"
        ],
        [
         "2016-07-26T03:06:01.000+0000",
         "Open"
        ],
        [
         "2016-07-26T03:06:04.000+0000",
         "Open"
        ],
        [
         "2016-07-26T03:06:05.000+0000",
         "Open"
        ],
        [
         "2016-07-26T03:06:07.000+0000",
         "Open"
        ],
        [
         "2016-07-26T03:06:09.000+0000",
         "Open"
        ],
        [
         "2016-07-26T03:06:12.000+0000",
         "Open"
        ],
        [
         "2016-07-26T03:06:14.000+0000",
         "Open"
        ],
        [
         "2016-07-26T03:06:17.000+0000",
         "Open"
        ],
        [
         "2016-07-26T03:06:19.000+0000",
         "Close"
        ],
        [
         "2016-07-26T03:06:19.000+0000",
         "Open"
        ],
        [
         "2016-07-26T03:06:22.000+0000",
         "Open"
        ],
        [
         "2016-07-26T03:06:25.000+0000",
         "Open"
        ],
        [
         "2016-07-26T03:06:28.000+0000",
         "Open"
        ],
        [
         "2016-07-26T03:06:44.000+0000",
         "Open"
        ],
        [
         "2016-07-26T03:06:51.000+0000",
         "Open"
        ],
        [
         "2016-07-26T03:06:56.000+0000",
         "Open"
        ],
        [
         "2016-07-26T03:06:56.000+0000",
         "Open"
        ],
        [
         "2016-07-26T03:06:57.000+0000",
         "Close"
        ],
        [
         "2016-07-26T03:07:02.000+0000",
         "Open"
        ],
        [
         "2016-07-26T03:07:09.000+0000",
         "Open"
        ],
        [
         "2016-07-26T03:07:10.000+0000",
         "Open"
        ],
        [
         "2016-07-26T03:07:10.000+0000",
         "Open"
        ],
        [
         "2016-07-26T03:07:12.000+0000",
         "Open"
        ],
        [
         "2016-07-26T03:07:12.000+0000",
         "Open"
        ],
        [
         "2016-07-26T03:07:13.000+0000",
         "Open"
        ],
        [
         "2016-07-26T03:07:24.000+0000",
         "Open"
        ],
        [
         "2016-07-26T03:07:25.000+0000",
         "Open"
        ],
        [
         "2016-07-26T03:07:26.000+0000",
         "Open"
        ],
        [
         "2016-07-26T03:07:26.000+0000",
         "Open"
        ],
        [
         "2016-07-26T03:07:33.000+0000",
         "Open"
        ],
        [
         "2016-07-26T03:07:36.000+0000",
         "Close"
        ],
        [
         "2016-07-26T03:07:44.000+0000",
         "Open"
        ],
        [
         "2016-07-26T03:07:50.000+0000",
         "Open"
        ],
        [
         "2016-07-26T03:07:51.000+0000",
         "Open"
        ],
        [
         "2016-07-26T03:07:52.000+0000",
         "Open"
        ],
        [
         "2016-07-26T03:07:54.000+0000",
         "Open"
        ],
        [
         "2016-07-26T03:07:55.000+0000",
         "Open"
        ],
        [
         "2016-07-26T03:08:00.000+0000",
         "Open"
        ],
        [
         "2016-07-26T03:08:01.000+0000",
         "Open"
        ],
        [
         "2016-07-26T03:08:10.000+0000",
         "Open"
        ],
        [
         "2016-07-26T03:08:17.000+0000",
         "Close"
        ],
        [
         "2016-07-26T03:08:17.000+0000",
         "Open"
        ],
        [
         "2016-07-26T03:08:17.000+0000",
         "Close"
        ],
        [
         "2016-07-26T03:08:20.000+0000",
         "Close"
        ],
        [
         "2016-07-26T03:08:20.000+0000",
         "Open"
        ],
        [
         "2016-07-26T03:08:21.000+0000",
         "Open"
        ],
        [
         "2016-07-26T03:08:27.000+0000",
         "Close"
        ],
        [
         "2016-07-26T03:08:27.000+0000",
         "Open"
        ],
        [
         "2016-07-26T03:08:28.000+0000",
         "Open"
        ],
        [
         "2016-07-26T03:08:32.000+0000",
         "Open"
        ],
        [
         "2016-07-26T03:08:34.000+0000",
         "Open"
        ],
        [
         "2016-07-26T03:08:35.000+0000",
         "Open"
        ],
        [
         "2016-07-26T03:08:37.000+0000",
         "Close"
        ],
        [
         "2016-07-26T03:08:47.000+0000",
         "Open"
        ],
        [
         "2016-07-26T03:08:47.000+0000",
         "Open"
        ],
        [
         "2016-07-26T03:08:49.000+0000",
         "Open"
        ],
        [
         "2016-07-26T03:08:58.000+0000",
         "Open"
        ],
        [
         "2016-07-26T03:09:09.000+0000",
         "Open"
        ],
        [
         "2016-07-26T03:09:13.000+0000",
         "Open"
        ],
        [
         "2016-07-26T03:09:15.000+0000",
         "Open"
        ],
        [
         "2016-07-26T03:09:20.000+0000",
         "Open"
        ],
        [
         "2016-07-26T03:09:21.000+0000",
         "Open"
        ],
        [
         "2016-07-26T03:09:21.000+0000",
         "Open"
        ],
        [
         "2016-07-26T03:09:22.000+0000",
         "Open"
        ],
        [
         "2016-07-26T03:09:24.000+0000",
         "Close"
        ],
        [
         "2016-07-26T03:09:33.000+0000",
         "Open"
        ],
        [
         "2016-07-26T03:09:35.000+0000",
         "Open"
        ],
        [
         "2016-07-26T03:09:43.000+0000",
         "Open"
        ],
        [
         "2016-07-26T03:09:45.000+0000",
         "Open"
        ],
        [
         "2016-07-26T03:09:47.000+0000",
         "Open"
        ],
        [
         "2016-07-26T03:09:50.000+0000",
         "Open"
        ],
        [
         "2016-07-26T03:09:53.000+0000",
         "Open"
        ],
        [
         "2016-07-26T03:09:55.000+0000",
         "Close"
        ],
        [
         "2016-07-26T03:09:56.000+0000",
         "Open"
        ],
        [
         "2016-07-26T03:10:09.000+0000",
         "Open"
        ],
        [
         "2016-07-26T03:10:09.000+0000",
         "Open"
        ],
        [
         "2016-07-26T03:10:11.000+0000",
         "Open"
        ],
        [
         "2016-07-26T03:10:12.000+0000",
         "Open"
        ],
        [
         "2016-07-26T03:10:13.000+0000",
         "Open"
        ],
        [
         "2016-07-26T03:10:14.000+0000",
         "Open"
        ],
        [
         "2016-07-26T03:10:19.000+0000",
         "Open"
        ],
        [
         "2016-07-26T03:10:26.000+0000",
         "Close"
        ],
        [
         "2016-07-26T03:10:26.000+0000",
         "Open"
        ],
        [
         "2016-07-26T03:10:27.000+0000",
         "Open"
        ],
        [
         "2016-07-26T03:10:29.000+0000",
         "Open"
        ],
        [
         "2016-07-26T03:10:35.000+0000",
         "Open"
        ],
        [
         "2016-07-26T03:10:41.000+0000",
         "Open"
        ],
        [
         "2016-07-26T03:10:41.000+0000",
         "Open"
        ],
        [
         "2016-07-26T03:10:43.000+0000",
         "Close"
        ],
        [
         "2016-07-26T03:10:47.000+0000",
         "Open"
        ],
        [
         "2016-07-26T03:10:49.000+0000",
         "Open"
        ],
        [
         "2016-07-26T03:10:54.000+0000",
         "Open"
        ],
        [
         "2016-07-26T03:10:55.000+0000",
         "Open"
        ],
        [
         "2016-07-26T03:10:56.000+0000",
         "Open"
        ],
        [
         "2016-07-26T03:11:00.000+0000",
         "Close"
        ],
        [
         "2016-07-26T03:11:01.000+0000",
         "Close"
        ],
        [
         "2016-07-26T03:11:03.000+0000",
         "Open"
        ],
        [
         "2016-07-26T03:11:08.000+0000",
         "Open"
        ],
        [
         "2016-07-26T03:11:15.000+0000",
         "Open"
        ],
        [
         "2016-07-26T03:11:18.000+0000",
         "Open"
        ],
        [
         "2016-07-26T03:11:23.000+0000",
         "Open"
        ],
        [
         "2016-07-26T03:11:26.000+0000",
         "Open"
        ],
        [
         "2016-07-26T03:11:27.000+0000",
         "Open"
        ],
        [
         "2016-07-26T03:11:28.000+0000",
         "Open"
        ],
        [
         "2016-07-26T03:11:33.000+0000",
         "Open"
        ],
        [
         "2016-07-26T03:11:35.000+0000",
         "Open"
        ],
        [
         "2016-07-26T03:11:44.000+0000",
         "Open"
        ],
        [
         "2016-07-26T03:11:48.000+0000",
         "Close"
        ],
        [
         "2016-07-26T03:11:56.000+0000",
         "Open"
        ],
        [
         "2016-07-26T03:11:57.000+0000",
         "Open"
        ],
        [
         "2016-07-26T03:12:06.000+0000",
         "Open"
        ],
        [
         "2016-07-26T03:12:07.000+0000",
         "Open"
        ],
        [
         "2016-07-26T03:12:09.000+0000",
         "Open"
        ],
        [
         "2016-07-26T03:12:12.000+0000",
         "Open"
        ],
        [
         "2016-07-26T03:12:13.000+0000",
         "Open"
        ],
        [
         "2016-07-26T03:12:15.000+0000",
         "Open"
        ],
        [
         "2016-07-26T03:12:16.000+0000",
         "Open"
        ],
        [
         "2016-07-26T03:12:22.000+0000",
         "Open"
        ],
        [
         "2016-07-26T03:12:25.000+0000",
         "Open"
        ],
        [
         "2016-07-26T03:12:26.000+0000",
         "Open"
        ],
        [
         "2016-07-26T03:12:32.000+0000",
         "Open"
        ],
        [
         "2016-07-26T03:12:33.000+0000",
         "Open"
        ],
        [
         "2016-07-26T03:12:34.000+0000",
         "Open"
        ],
        [
         "2016-07-26T03:12:37.000+0000",
         "Open"
        ],
        [
         "2016-07-26T03:12:37.000+0000",
         "Open"
        ],
        [
         "2016-07-26T03:12:51.000+0000",
         "Open"
        ],
        [
         "2016-07-26T03:12:58.000+0000",
         "Open"
        ],
        [
         "2016-07-26T03:13:02.000+0000",
         "Open"
        ],
        [
         "2016-07-26T03:13:03.000+0000",
         "Close"
        ],
        [
         "2016-07-26T03:13:03.000+0000",
         "Open"
        ],
        [
         "2016-07-26T03:13:09.000+0000",
         "Open"
        ],
        [
         "2016-07-26T03:13:20.000+0000",
         "Open"
        ],
        [
         "2016-07-26T03:13:20.000+0000",
         "Open"
        ],
        [
         "2016-07-26T03:13:21.000+0000",
         "Open"
        ],
        [
         "2016-07-26T03:13:29.000+0000",
         "Close"
        ],
        [
         "2016-07-26T03:13:31.000+0000",
         "Open"
        ],
        [
         "2016-07-26T03:13:33.000+0000",
         "Close"
        ],
        [
         "2016-07-26T03:13:34.000+0000",
         "Open"
        ],
        [
         "2016-07-26T03:13:37.000+0000",
         "Open"
        ],
        [
         "2016-07-26T03:13:40.000+0000",
         "Open"
        ],
        [
         "2016-07-26T03:13:42.000+0000",
         "Close"
        ],
        [
         "2016-07-26T03:13:42.000+0000",
         "Open"
        ],
        [
         "2016-07-26T03:13:51.000+0000",
         "Close"
        ],
        [
         "2016-07-26T03:13:51.000+0000",
         "Open"
        ],
        [
         "2016-07-26T03:13:52.000+0000",
         "Close"
        ],
        [
         "2016-07-26T03:13:53.000+0000",
         "Open"
        ],
        [
         "2016-07-26T03:13:59.000+0000",
         "Open"
        ],
        [
         "2016-07-26T03:14:02.000+0000",
         "Close"
        ],
        [
         "2016-07-26T03:14:04.000+0000",
         "Open"
        ],
        [
         "2016-07-26T03:14:09.000+0000",
         "Open"
        ],
        [
         "2016-07-26T03:14:10.000+0000",
         "Open"
        ],
        [
         "2016-07-26T03:14:11.000+0000",
         "Open"
        ],
        [
         "2016-07-26T03:14:11.000+0000",
         "Open"
        ],
        [
         "2016-07-26T03:14:12.000+0000",
         "Open"
        ],
        [
         "2016-07-26T03:14:13.000+0000",
         "Open"
        ],
        [
         "2016-07-26T03:14:15.000+0000",
         "Open"
        ],
        [
         "2016-07-26T03:14:16.000+0000",
         "Open"
        ],
        [
         "2016-07-26T03:14:17.000+0000",
         "Open"
        ],
        [
         "2016-07-26T03:14:17.000+0000",
         "Open"
        ],
        [
         "2016-07-26T03:14:18.000+0000",
         "Open"
        ],
        [
         "2016-07-26T03:14:21.000+0000",
         "Open"
        ],
        [
         "2016-07-26T03:14:21.000+0000",
         "Open"
        ],
        [
         "2016-07-26T03:14:23.000+0000",
         "Close"
        ],
        [
         "2016-07-26T03:14:25.000+0000",
         "Open"
        ],
        [
         "2016-07-26T03:14:27.000+0000",
         "Open"
        ],
        [
         "2016-07-26T03:14:27.000+0000",
         "Open"
        ],
        [
         "2016-07-26T03:14:28.000+0000",
         "Open"
        ],
        [
         "2016-07-26T03:14:33.000+0000",
         "Open"
        ],
        [
         "2016-07-26T03:14:40.000+0000",
         "Close"
        ],
        [
         "2016-07-26T03:14:41.000+0000",
         "Close"
        ],
        [
         "2016-07-26T03:14:46.000+0000",
         "Open"
        ],
        [
         "2016-07-26T03:14:47.000+0000",
         "Open"
        ],
        [
         "2016-07-26T03:14:47.000+0000",
         "Open"
        ],
        [
         "2016-07-26T03:14:53.000+0000",
         "Close"
        ],
        [
         "2016-07-26T03:14:57.000+0000",
         "Open"
        ],
        [
         "2016-07-26T03:15:07.000+0000",
         "Open"
        ],
        [
         "2016-07-26T03:15:07.000+0000",
         "Open"
        ],
        [
         "2016-07-26T03:15:11.000+0000",
         "Close"
        ],
        [
         "2016-07-26T03:15:12.000+0000",
         "Open"
        ],
        [
         "2016-07-26T03:15:13.000+0000",
         "Open"
        ],
        [
         "2016-07-26T03:15:19.000+0000",
         "Open"
        ],
        [
         "2016-07-26T03:15:20.000+0000",
         "Open"
        ],
        [
         "2016-07-26T03:15:22.000+0000",
         "Open"
        ],
        [
         "2016-07-26T03:15:22.000+0000",
         "Open"
        ],
        [
         "2016-07-26T03:15:25.000+0000",
         "Open"
        ],
        [
         "2016-07-26T03:15:27.000+0000",
         "Open"
        ],
        [
         "2016-07-26T03:15:31.000+0000",
         "Open"
        ],
        [
         "2016-07-26T03:15:32.000+0000",
         "Open"
        ],
        [
         "2016-07-26T03:15:41.000+0000",
         "Open"
        ],
        [
         "2016-07-26T03:15:41.000+0000",
         "Open"
        ],
        [
         "2016-07-26T03:15:42.000+0000",
         "Open"
        ],
        [
         "2016-07-26T03:15:45.000+0000",
         "Close"
        ],
        [
         "2016-07-26T03:15:46.000+0000",
         "Close"
        ],
        [
         "2016-07-26T03:15:47.000+0000",
         "Open"
        ],
        [
         "2016-07-26T03:15:54.000+0000",
         "Close"
        ],
        [
         "2016-07-26T03:15:59.000+0000",
         "Open"
        ],
        [
         "2016-07-26T03:16:04.000+0000",
         "Close"
        ],
        [
         "2016-07-26T03:16:04.000+0000",
         "Open"
        ],
        [
         "2016-07-26T03:16:09.000+0000",
         "Close"
        ],
        [
         "2016-07-26T03:16:12.000+0000",
         "Close"
        ],
        [
         "2016-07-26T03:16:13.000+0000",
         "Close"
        ],
        [
         "2016-07-26T03:16:13.000+0000",
         "Open"
        ],
        [
         "2016-07-26T03:16:14.000+0000",
         "Open"
        ],
        [
         "2016-07-26T03:16:15.000+0000",
         "Close"
        ],
        [
         "2016-07-26T03:16:24.000+0000",
         "Open"
        ],
        [
         "2016-07-26T03:16:25.000+0000",
         "Open"
        ],
        [
         "2016-07-26T03:16:26.000+0000",
         "Close"
        ],
        [
         "2016-07-26T03:16:28.000+0000",
         "Open"
        ],
        [
         "2016-07-26T03:16:28.000+0000",
         "Open"
        ],
        [
         "2016-07-26T03:16:32.000+0000",
         "Open"
        ],
        [
         "2016-07-26T03:16:37.000+0000",
         "Open"
        ],
        [
         "2016-07-26T03:16:40.000+0000",
         "Open"
        ],
        [
         "2016-07-26T03:16:45.000+0000",
         "Open"
        ],
        [
         "2016-07-26T03:16:47.000+0000",
         "Open"
        ],
        [
         "2016-07-26T03:16:54.000+0000",
         "Open"
        ],
        [
         "2016-07-26T03:16:54.000+0000",
         "Open"
        ],
        [
         "2016-07-26T03:17:01.000+0000",
         "Open"
        ],
        [
         "2016-07-26T03:17:04.000+0000",
         "Open"
        ],
        [
         "2016-07-26T03:17:05.000+0000",
         "Open"
        ],
        [
         "2016-07-26T03:17:05.000+0000",
         "Open"
        ],
        [
         "2016-07-26T03:17:10.000+0000",
         "Open"
        ],
        [
         "2016-07-26T03:17:16.000+0000",
         "Open"
        ],
        [
         "2016-07-26T03:17:19.000+0000",
         "Open"
        ],
        [
         "2016-07-26T03:17:19.000+0000",
         "Open"
        ],
        [
         "2016-07-26T03:17:22.000+0000",
         "Open"
        ],
        [
         "2016-07-26T03:17:23.000+0000",
         "Open"
        ],
        [
         "2016-07-26T03:17:28.000+0000",
         "Open"
        ],
        [
         "2016-07-26T03:17:40.000+0000",
         "Open"
        ],
        [
         "2016-07-26T03:17:45.000+0000",
         "Close"
        ],
        [
         "2016-07-26T03:17:45.000+0000",
         "Open"
        ],
        [
         "2016-07-26T03:17:46.000+0000",
         "Open"
        ],
        [
         "2016-07-26T03:17:47.000+0000",
         "Open"
        ],
        [
         "2016-07-26T03:17:51.000+0000",
         "Open"
        ],
        [
         "2016-07-26T03:17:54.000+0000",
         "Open"
        ],
        [
         "2016-07-26T03:17:55.000+0000",
         "Open"
        ],
        [
         "2016-07-26T03:17:55.000+0000",
         "Open"
        ],
        [
         "2016-07-26T03:18:02.000+0000",
         "Close"
        ],
        [
         "2016-07-26T03:18:02.000+0000",
         "Open"
        ],
        [
         "2016-07-26T03:18:06.000+0000",
         "Open"
        ],
        [
         "2016-07-26T03:18:08.000+0000",
         "Close"
        ],
        [
         "2016-07-26T03:18:08.000+0000",
         "Open"
        ],
        [
         "2016-07-26T03:18:08.000+0000",
         "Open"
        ],
        [
         "2016-07-26T03:18:17.000+0000",
         "Open"
        ],
        [
         "2016-07-26T03:18:25.000+0000",
         "Open"
        ],
        [
         "2016-07-26T03:18:26.000+0000",
         "Close"
        ],
        [
         "2016-07-26T03:18:29.000+0000",
         "Open"
        ],
        [
         "2016-07-26T03:18:29.000+0000",
         "Open"
        ],
        [
         "2016-07-26T03:18:30.000+0000",
         "Close"
        ],
        [
         "2016-07-26T03:18:36.000+0000",
         "Close"
        ],
        [
         "2016-07-26T03:18:40.000+0000",
         "Open"
        ],
        [
         "2016-07-26T03:18:45.000+0000",
         "Open"
        ],
        [
         "2016-07-26T03:18:45.000+0000",
         "Open"
        ],
        [
         "2016-07-26T03:18:46.000+0000",
         "Close"
        ],
        [
         "2016-07-26T03:18:48.000+0000",
         "Open"
        ],
        [
         "2016-07-26T03:18:48.000+0000",
         "Open"
        ],
        [
         "2016-07-26T03:18:50.000+0000",
         "Open"
        ],
        [
         "2016-07-26T03:18:53.000+0000",
         "Open"
        ],
        [
         "2016-07-26T03:18:55.000+0000",
         "Open"
        ],
        [
         "2016-07-26T03:18:56.000+0000",
         "Close"
        ],
        [
         "2016-07-26T03:18:56.000+0000",
         "Open"
        ],
        [
         "2016-07-26T03:18:59.000+0000",
         "Open"
        ],
        [
         "2016-07-26T03:19:00.000+0000",
         "Close"
        ],
        [
         "2016-07-26T03:19:00.000+0000",
         "Close"
        ],
        [
         "2016-07-26T03:19:00.000+0000",
         "Open"
        ],
        [
         "2016-07-26T03:19:03.000+0000",
         "Open"
        ],
        [
         "2016-07-26T03:19:10.000+0000",
         "Open"
        ],
        [
         "2016-07-26T03:19:11.000+0000",
         "Close"
        ],
        [
         "2016-07-26T03:19:14.000+0000",
         "Close"
        ],
        [
         "2016-07-26T03:19:18.000+0000",
         "Open"
        ],
        [
         "2016-07-26T03:19:19.000+0000",
         "Open"
        ],
        [
         "2016-07-26T03:19:20.000+0000",
         "Close"
        ],
        [
         "2016-07-26T03:19:20.000+0000",
         "Close"
        ],
        [
         "2016-07-26T03:19:21.000+0000",
         "Open"
        ],
        [
         "2016-07-26T03:19:22.000+0000",
         "Open"
        ],
        [
         "2016-07-26T03:19:26.000+0000",
         "Open"
        ],
        [
         "2016-07-26T03:19:29.000+0000",
         "Open"
        ],
        [
         "2016-07-26T03:19:33.000+0000",
         "Open"
        ],
        [
         "2016-07-26T03:19:36.000+0000",
         "Open"
        ],
        [
         "2016-07-26T03:19:44.000+0000",
         "Open"
        ],
        [
         "2016-07-26T03:19:50.000+0000",
         "Close"
        ],
        [
         "2016-07-26T03:19:50.000+0000",
         "Open"
        ],
        [
         "2016-07-26T03:19:55.000+0000",
         "Close"
        ],
        [
         "2016-07-26T03:19:55.000+0000",
         "Open"
        ],
        [
         "2016-07-26T03:19:56.000+0000",
         "Open"
        ],
        [
         "2016-07-26T03:19:58.000+0000",
         "Open"
        ],
        [
         "2016-07-26T03:20:03.000+0000",
         "Open"
        ],
        [
         "2016-07-26T03:20:06.000+0000",
         "Open"
        ],
        [
         "2016-07-26T03:20:09.000+0000",
         "Open"
        ],
        [
         "2016-07-26T03:20:11.000+0000",
         "Open"
        ],
        [
         "2016-07-26T03:20:15.000+0000",
         "Open"
        ],
        [
         "2016-07-26T03:20:24.000+0000",
         "Close"
        ],
        [
         "2016-07-26T03:20:29.000+0000",
         "Open"
        ],
        [
         "2016-07-26T03:20:31.000+0000",
         "Close"
        ],
        [
         "2016-07-26T03:20:31.000+0000",
         "Open"
        ],
        [
         "2016-07-26T03:20:31.000+0000",
         "Open"
        ],
        [
         "2016-07-26T03:20:31.000+0000",
         "Open"
        ],
        [
         "2016-07-26T03:20:34.000+0000",
         "Open"
        ],
        [
         "2016-07-26T03:20:36.000+0000",
         "Open"
        ],
        [
         "2016-07-26T03:20:46.000+0000",
         "Close"
        ],
        [
         "2016-07-26T03:20:46.000+0000",
         "Open"
        ],
        [
         "2016-07-26T03:20:48.000+0000",
         "Open"
        ],
        [
         "2016-07-26T03:20:50.000+0000",
         "Close"
        ],
        [
         "2016-07-26T03:20:55.000+0000",
         "Open"
        ],
        [
         "2016-07-26T03:20:55.000+0000",
         "Open"
        ],
        [
         "2016-07-26T03:20:59.000+0000",
         "Open"
        ],
        [
         "2016-07-26T03:21:01.000+0000",
         "Open"
        ],
        [
         "2016-07-26T03:21:02.000+0000",
         "Open"
        ],
        [
         "2016-07-26T03:21:10.000+0000",
         "Open"
        ],
        [
         "2016-07-26T03:21:17.000+0000",
         "Open"
        ],
        [
         "2016-07-26T03:21:20.000+0000",
         "Close"
        ],
        [
         "2016-07-26T03:21:21.000+0000",
         "Open"
        ],
        [
         "2016-07-26T03:21:23.000+0000",
         "Open"
        ],
        [
         "2016-07-26T03:21:27.000+0000",
         "Open"
        ],
        [
         "2016-07-26T03:21:31.000+0000",
         "Close"
        ],
        [
         "2016-07-26T03:21:31.000+0000",
         "Open"
        ],
        [
         "2016-07-26T03:21:31.000+0000",
         "Open"
        ],
        [
         "2016-07-26T03:21:32.000+0000",
         "Open"
        ],
        [
         "2016-07-26T03:21:39.000+0000",
         "Open"
        ],
        [
         "2016-07-26T03:21:41.000+0000",
         "Open"
        ],
        [
         "2016-07-26T03:21:42.000+0000",
         "Close"
        ],
        [
         "2016-07-26T03:21:45.000+0000",
         "Open"
        ],
        [
         "2016-07-26T03:21:49.000+0000",
         "Open"
        ],
        [
         "2016-07-26T03:21:56.000+0000",
         "Open"
        ],
        [
         "2016-07-26T03:21:59.000+0000",
         "Open"
        ],
        [
         "2016-07-26T03:21:59.000+0000",
         "Open"
        ],
        [
         "2016-07-26T03:22:01.000+0000",
         "Open"
        ],
        [
         "2016-07-26T03:22:05.000+0000",
         "Close"
        ],
        [
         "2016-07-26T03:22:05.000+0000",
         "Open"
        ],
        [
         "2016-07-26T03:22:08.000+0000",
         "Open"
        ],
        [
         "2016-07-26T03:22:10.000+0000",
         "Open"
        ],
        [
         "2016-07-26T03:22:14.000+0000",
         "Open"
        ],
        [
         "2016-07-26T03:22:15.000+0000",
         "Close"
        ],
        [
         "2016-07-26T03:22:15.000+0000",
         "Open"
        ],
        [
         "2016-07-26T03:22:17.000+0000",
         "Open"
        ],
        [
         "2016-07-26T03:22:24.000+0000",
         "Close"
        ],
        [
         "2016-07-26T03:22:27.000+0000",
         "Open"
        ],
        [
         "2016-07-26T03:22:28.000+0000",
         "Open"
        ],
        [
         "2016-07-26T03:22:35.000+0000",
         "Open"
        ],
        [
         "2016-07-26T03:22:36.000+0000",
         "Close"
        ],
        [
         "2016-07-26T03:22:37.000+0000",
         "Close"
        ],
        [
         "2016-07-26T03:22:39.000+0000",
         "Open"
        ],
        [
         "2016-07-26T03:22:42.000+0000",
         "Close"
        ],
        [
         "2016-07-26T03:22:42.000+0000",
         "Open"
        ],
        [
         "2016-07-26T03:22:43.000+0000",
         "Close"
        ],
        [
         "2016-07-26T03:22:45.000+0000",
         "Open"
        ],
        [
         "2016-07-26T03:22:54.000+0000",
         "Open"
        ],
        [
         "2016-07-26T03:22:57.000+0000",
         "Open"
        ],
        [
         "2016-07-26T03:22:58.000+0000",
         "Open"
        ],
        [
         "2016-07-26T03:22:58.000+0000",
         "Open"
        ],
        [
         "2016-07-26T03:23:02.000+0000",
         "Open"
        ],
        [
         "2016-07-26T03:23:03.000+0000",
         "Open"
        ],
        [
         "2016-07-26T03:23:05.000+0000",
         "Close"
        ],
        [
         "2016-07-26T03:23:06.000+0000",
         "Open"
        ],
        [
         "2016-07-26T03:23:07.000+0000",
         "Open"
        ],
        [
         "2016-07-26T03:23:12.000+0000",
         "Open"
        ],
        [
         "2016-07-26T03:23:13.000+0000",
         "Open"
        ],
        [
         "2016-07-26T03:23:18.000+0000",
         "Open"
        ],
        [
         "2016-07-26T03:23:23.000+0000",
         "Close"
        ],
        [
         "2016-07-26T03:23:26.000+0000",
         "Close"
        ],
        [
         "2016-07-26T03:23:26.000+0000",
         "Open"
        ],
        [
         "2016-07-26T03:23:27.000+0000",
         "Open"
        ],
        [
         "2016-07-26T03:23:27.000+0000",
         "Open"
        ],
        [
         "2016-07-26T03:23:28.000+0000",
         "Open"
        ],
        [
         "2016-07-26T03:23:29.000+0000",
         "Open"
        ],
        [
         "2016-07-26T03:23:31.000+0000",
         "Open"
        ],
        [
         "2016-07-26T03:23:31.000+0000",
         "Open"
        ],
        [
         "2016-07-26T03:23:35.000+0000",
         "Open"
        ],
        [
         "2016-07-26T03:23:38.000+0000",
         "Close"
        ],
        [
         "2016-07-26T03:23:38.000+0000",
         "Open"
        ],
        [
         "2016-07-26T03:23:45.000+0000",
         "Close"
        ],
        [
         "2016-07-26T03:23:46.000+0000",
         "Close"
        ],
        [
         "2016-07-26T03:23:49.000+0000",
         "Open"
        ],
        [
         "2016-07-26T03:23:50.000+0000",
         "Open"
        ],
        [
         "2016-07-26T03:23:52.000+0000",
         "Open"
        ],
        [
         "2016-07-26T03:23:57.000+0000",
         "Close"
        ],
        [
         "2016-07-26T03:23:58.000+0000",
         "Open"
        ],
        [
         "2016-07-26T03:24:05.000+0000",
         "Open"
        ],
        [
         "2016-07-26T03:24:08.000+0000",
         "Open"
        ],
        [
         "2016-07-26T03:24:09.000+0000",
         "Close"
        ],
        [
         "2016-07-26T03:24:10.000+0000",
         "Open"
        ],
        [
         "2016-07-26T03:24:15.000+0000",
         "Open"
        ],
        [
         "2016-07-26T03:24:20.000+0000",
         "Open"
        ],
        [
         "2016-07-26T03:24:23.000+0000",
         "Open"
        ],
        [
         "2016-07-26T03:24:23.000+0000",
         "Open"
        ],
        [
         "2016-07-26T03:24:26.000+0000",
         "Open"
        ],
        [
         "2016-07-26T03:24:31.000+0000",
         "Close"
        ],
        [
         "2016-07-26T03:24:34.000+0000",
         "Open"
        ],
        [
         "2016-07-26T03:24:35.000+0000",
         "Open"
        ],
        [
         "2016-07-26T03:24:37.000+0000",
         "Open"
        ],
        [
         "2016-07-26T03:24:38.000+0000",
         "Open"
        ],
        [
         "2016-07-26T03:24:42.000+0000",
         "Open"
        ],
        [
         "2016-07-26T03:24:47.000+0000",
         "Close"
        ],
        [
         "2016-07-26T03:24:50.000+0000",
         "Open"
        ],
        [
         "2016-07-26T03:24:53.000+0000",
         "Open"
        ],
        [
         "2016-07-26T03:24:54.000+0000",
         "Close"
        ],
        [
         "2016-07-26T03:24:56.000+0000",
         "Open"
        ],
        [
         "2016-07-26T03:24:56.000+0000",
         "Open"
        ],
        [
         "2016-07-26T03:25:00.000+0000",
         "Open"
        ],
        [
         "2016-07-26T03:25:04.000+0000",
         "Open"
        ],
        [
         "2016-07-26T03:25:04.000+0000",
         "Open"
        ],
        [
         "2016-07-26T03:25:06.000+0000",
         "Open"
        ],
        [
         "2016-07-26T03:25:18.000+0000",
         "Open"
        ],
        [
         "2016-07-26T03:25:22.000+0000",
         "Open"
        ],
        [
         "2016-07-26T03:25:23.000+0000",
         "Close"
        ],
        [
         "2016-07-26T03:25:23.000+0000",
         "Open"
        ],
        [
         "2016-07-26T03:25:25.000+0000",
         "Open"
        ],
        [
         "2016-07-26T03:25:31.000+0000",
         "Open"
        ],
        [
         "2016-07-26T03:25:32.000+0000",
         "Open"
        ],
        [
         "2016-07-26T03:25:37.000+0000",
         "Open"
        ],
        [
         "2016-07-26T03:25:45.000+0000",
         "Open"
        ],
        [
         "2016-07-26T03:25:45.000+0000",
         "Open"
        ],
        [
         "2016-07-26T03:25:48.000+0000",
         "Open"
        ],
        [
         "2016-07-26T03:25:51.000+0000",
         "Open"
        ],
        [
         "2016-07-26T03:25:52.000+0000",
         "Open"
        ],
        [
         "2016-07-26T03:25:56.000+0000",
         "Open"
        ],
        [
         "2016-07-26T03:25:59.000+0000",
         "Open"
        ],
        [
         "2016-07-26T03:26:01.000+0000",
         "Close"
        ],
        [
         "2016-07-26T03:26:02.000+0000",
         "Open"
        ],
        [
         "2016-07-26T03:26:06.000+0000",
         "Open"
        ],
        [
         "2016-07-26T03:26:10.000+0000",
         "Open"
        ],
        [
         "2016-07-26T03:26:10.000+0000",
         "Open"
        ],
        [
         "2016-07-26T03:26:13.000+0000",
         "Open"
        ],
        [
         "2016-07-26T03:26:14.000+0000",
         "Open"
        ],
        [
         "2016-07-26T03:26:15.000+0000",
         "Open"
        ],
        [
         "2016-07-26T03:26:24.000+0000",
         "Open"
        ],
        [
         "2016-07-26T03:26:25.000+0000",
         "Close"
        ],
        [
         "2016-07-26T03:26:25.000+0000",
         "Open"
        ],
        [
         "2016-07-26T03:26:27.000+0000",
         "Close"
        ],
        [
         "2016-07-26T03:26:28.000+0000",
         "Open"
        ],
        [
         "2016-07-26T03:26:35.000+0000",
         "Open"
        ],
        [
         "2016-07-26T03:26:46.000+0000",
         "Open"
        ],
        [
         "2016-07-26T03:26:50.000+0000",
         "Open"
        ],
        [
         "2016-07-26T03:26:55.000+0000",
         "Close"
        ],
        [
         "2016-07-26T03:26:55.000+0000",
         "Open"
        ],
        [
         "2016-07-26T03:26:55.000+0000",
         "Open"
        ],
        [
         "2016-07-26T03:26:55.000+0000",
         "Open"
        ],
        [
         "2016-07-26T03:26:58.000+0000",
         "Open"
        ],
        [
         "2016-07-26T03:27:00.000+0000",
         "Open"
        ],
        [
         "2016-07-26T03:27:04.000+0000",
         "Open"
        ],
        [
         "2016-07-26T03:27:07.000+0000",
         "Open"
        ],
        [
         "2016-07-26T03:27:09.000+0000",
         "Open"
        ],
        [
         "2016-07-26T03:27:11.000+0000",
         "Open"
        ],
        [
         "2016-07-26T03:27:17.000+0000",
         "Close"
        ],
        [
         "2016-07-26T03:27:18.000+0000",
         "Open"
        ],
        [
         "2016-07-26T03:27:19.000+0000",
         "Open"
        ],
        [
         "2016-07-26T03:27:19.000+0000",
         "Open"
        ],
        [
         "2016-07-26T03:27:27.000+0000",
         "Open"
        ],
        [
         "2016-07-26T03:27:34.000+0000",
         "Open"
        ],
        [
         "2016-07-26T03:27:36.000+0000",
         "Open"
        ],
        [
         "2016-07-26T03:27:40.000+0000",
         "Open"
        ],
        [
         "2016-07-26T03:27:44.000+0000",
         "Open"
        ],
        [
         "2016-07-26T03:27:59.000+0000",
         "Close"
        ],
        [
         "2016-07-26T03:27:59.000+0000",
         "Close"
        ],
        [
         "2016-07-26T03:28:02.000+0000",
         "Open"
        ],
        [
         "2016-07-26T03:28:08.000+0000",
         "Close"
        ],
        [
         "2016-07-26T03:28:09.000+0000",
         "Open"
        ],
        [
         "2016-07-26T03:28:09.000+0000",
         "Open"
        ],
        [
         "2016-07-26T03:28:11.000+0000",
         "Close"
        ],
        [
         "2016-07-26T03:28:11.000+0000",
         "Open"
        ],
        [
         "2016-07-26T03:28:16.000+0000",
         "Open"
        ],
        [
         "2016-07-26T03:28:18.000+0000",
         "Open"
        ],
        [
         "2016-07-26T03:28:19.000+0000",
         "Open"
        ],
        [
         "2016-07-26T03:28:22.000+0000",
         "Close"
        ],
        [
         "2016-07-26T03:28:30.000+0000",
         "Close"
        ],
        [
         "2016-07-26T03:28:33.000+0000",
         "Open"
        ],
        [
         "2016-07-26T03:28:34.000+0000",
         "Open"
        ],
        [
         "2016-07-26T03:28:35.000+0000",
         "Open"
        ],
        [
         "2016-07-26T03:28:41.000+0000",
         "Open"
        ],
        [
         "2016-07-26T03:28:52.000+0000",
         "Close"
        ],
        [
         "2016-07-26T03:28:52.000+0000",
         "Open"
        ],
        [
         "2016-07-26T03:28:53.000+0000",
         "Close"
        ],
        [
         "2016-07-26T03:28:54.000+0000",
         "Open"
        ],
        [
         "2016-07-26T03:28:54.000+0000",
         "Open"
        ],
        [
         "2016-07-26T03:29:00.000+0000",
         "Close"
        ],
        [
         "2016-07-26T03:29:02.000+0000",
         "Open"
        ],
        [
         "2016-07-26T03:29:07.000+0000",
         "Open"
        ],
        [
         "2016-07-26T03:29:10.000+0000",
         "Open"
        ],
        [
         "2016-07-26T03:29:15.000+0000",
         "Open"
        ],
        [
         "2016-07-26T03:29:15.000+0000",
         "Open"
        ],
        [
         "2016-07-26T03:29:16.000+0000",
         "Close"
        ],
        [
         "2016-07-26T03:29:18.000+0000",
         "Open"
        ],
        [
         "2016-07-26T03:29:20.000+0000",
         "Open"
        ],
        [
         "2016-07-26T03:29:21.000+0000",
         "Open"
        ],
        [
         "2016-07-26T03:29:22.000+0000",
         "Open"
        ],
        [
         "2016-07-26T03:29:23.000+0000",
         "Open"
        ],
        [
         "2016-07-26T03:29:30.000+0000",
         "Close"
        ],
        [
         "2016-07-26T03:29:34.000+0000",
         "Close"
        ],
        [
         "2016-07-26T03:29:36.000+0000",
         "Open"
        ],
        [
         "2016-07-26T03:29:38.000+0000",
         "Open"
        ],
        [
         "2016-07-26T03:29:40.000+0000",
         "Open"
        ],
        [
         "2016-07-26T03:29:43.000+0000",
         "Open"
        ],
        [
         "2016-07-26T03:29:45.000+0000",
         "Open"
        ],
        [
         "2016-07-26T03:29:48.000+0000",
         "Open"
        ],
        [
         "2016-07-26T03:29:49.000+0000",
         "Open"
        ],
        [
         "2016-07-26T03:29:52.000+0000",
         "Open"
        ],
        [
         "2016-07-26T03:29:53.000+0000",
         "Open"
        ],
        [
         "2016-07-26T03:29:53.000+0000",
         "Open"
        ],
        [
         "2016-07-26T03:29:54.000+0000",
         "Open"
        ],
        [
         "2016-07-26T03:29:59.000+0000",
         "Close"
        ],
        [
         "2016-07-26T03:30:01.000+0000",
         "Close"
        ],
        [
         "2016-07-26T03:30:10.000+0000",
         "Close"
        ],
        [
         "2016-07-26T03:30:22.000+0000",
         "Open"
        ],
        [
         "2016-07-26T03:30:24.000+0000",
         "Close"
        ],
        [
         "2016-07-26T03:30:27.000+0000",
         "Open"
        ],
        [
         "2016-07-26T03:30:28.000+0000",
         "Open"
        ],
        [
         "2016-07-26T03:30:28.000+0000",
         "Open"
        ],
        [
         "2016-07-26T03:30:29.000+0000",
         "Open"
        ],
        [
         "2016-07-26T03:30:31.000+0000",
         "Open"
        ],
        [
         "2016-07-26T03:30:32.000+0000",
         "Close"
        ],
        [
         "2016-07-26T03:30:32.000+0000",
         "Open"
        ],
        [
         "2016-07-26T03:30:41.000+0000",
         "Open"
        ],
        [
         "2016-07-26T03:30:50.000+0000",
         "Open"
        ],
        [
         "2016-07-26T03:30:50.000+0000",
         "Open"
        ],
        [
         "2016-07-26T03:30:54.000+0000",
         "Open"
        ],
        [
         "2016-07-26T03:30:55.000+0000",
         "Close"
        ],
        [
         "2016-07-26T03:30:55.000+0000",
         "Open"
        ],
        [
         "2016-07-26T03:31:00.000+0000",
         "Close"
        ],
        [
         "2016-07-26T03:31:02.000+0000",
         "Open"
        ],
        [
         "2016-07-26T03:31:05.000+0000",
         "Open"
        ],
        [
         "2016-07-26T03:31:06.000+0000",
         "Open"
        ],
        [
         "2016-07-26T03:31:08.000+0000",
         "Close"
        ],
        [
         "2016-07-26T03:31:11.000+0000",
         "Open"
        ],
        [
         "2016-07-26T03:31:23.000+0000",
         "Close"
        ],
        [
         "2016-07-26T03:31:27.000+0000",
         "Open"
        ],
        [
         "2016-07-26T03:31:28.000+0000",
         "Open"
        ],
        [
         "2016-07-26T03:31:29.000+0000",
         "Close"
        ],
        [
         "2016-07-26T03:31:30.000+0000",
         "Open"
        ],
        [
         "2016-07-26T03:31:33.000+0000",
         "Open"
        ],
        [
         "2016-07-26T03:31:34.000+0000",
         "Open"
        ],
        [
         "2016-07-26T03:31:36.000+0000",
         "Open"
        ],
        [
         "2016-07-26T03:31:38.000+0000",
         "Open"
        ],
        [
         "2016-07-26T03:31:38.000+0000",
         "Open"
        ],
        [
         "2016-07-26T03:31:48.000+0000",
         "Open"
        ],
        [
         "2016-07-26T03:31:49.000+0000",
         "Open"
        ],
        [
         "2016-07-26T03:31:51.000+0000",
         "Close"
        ],
        [
         "2016-07-26T03:31:53.000+0000",
         "Open"
        ],
        [
         "2016-07-26T03:31:55.000+0000",
         "Open"
        ],
        [
         "2016-07-26T03:31:55.000+0000",
         "Open"
        ],
        [
         "2016-07-26T03:31:58.000+0000",
         "Close"
        ],
        [
         "2016-07-26T03:31:59.000+0000",
         "Open"
        ],
        [
         "2016-07-26T03:32:05.000+0000",
         "Close"
        ],
        [
         "2016-07-26T03:32:13.000+0000",
         "Close"
        ],
        [
         "2016-07-26T03:32:16.000+0000",
         "Open"
        ],
        [
         "2016-07-26T03:32:19.000+0000",
         "Open"
        ],
        [
         "2016-07-26T03:32:22.000+0000",
         "Close"
        ],
        [
         "2016-07-26T03:32:32.000+0000",
         "Open"
        ],
        [
         "2016-07-26T03:32:34.000+0000",
         "Open"
        ],
        [
         "2016-07-26T03:32:38.000+0000",
         "Close"
        ],
        [
         "2016-07-26T03:32:41.000+0000",
         "Open"
        ],
        [
         "2016-07-26T03:32:44.000+0000",
         "Open"
        ],
        [
         "2016-07-26T03:32:45.000+0000",
         "Open"
        ],
        [
         "2016-07-26T03:32:45.000+0000",
         "Open"
        ],
        [
         "2016-07-26T03:32:46.000+0000",
         "Open"
        ],
        [
         "2016-07-26T03:32:48.000+0000",
         "Close"
        ],
        [
         "2016-07-26T03:32:50.000+0000",
         "Open"
        ],
        [
         "2016-07-26T03:32:55.000+0000",
         "Open"
        ],
        [
         "2016-07-26T03:32:56.000+0000",
         "Open"
        ],
        [
         "2016-07-26T03:32:57.000+0000",
         "Open"
        ],
        [
         "2016-07-26T03:32:59.000+0000",
         "Open"
        ],
        [
         "2016-07-26T03:33:01.000+0000",
         "Open"
        ],
        [
         "2016-07-26T03:33:02.000+0000",
         "Open"
        ],
        [
         "2016-07-26T03:33:04.000+0000",
         "Close"
        ],
        [
         "2016-07-26T03:33:05.000+0000",
         "Open"
        ],
        [
         "2016-07-26T03:33:06.000+0000",
         "Open"
        ],
        [
         "2016-07-26T03:33:07.000+0000",
         "Open"
        ],
        [
         "2016-07-26T03:33:09.000+0000",
         "Open"
        ],
        [
         "2016-07-26T03:33:10.000+0000",
         "Open"
        ],
        [
         "2016-07-26T03:33:11.000+0000",
         "Open"
        ],
        [
         "2016-07-26T03:33:13.000+0000",
         "Open"
        ],
        [
         "2016-07-26T03:33:24.000+0000",
         "Close"
        ],
        [
         "2016-07-26T03:33:31.000+0000",
         "Open"
        ],
        [
         "2016-07-26T03:33:33.000+0000",
         "Close"
        ],
        [
         "2016-07-26T03:33:35.000+0000",
         "Close"
        ],
        [
         "2016-07-26T03:33:37.000+0000",
         "Open"
        ],
        [
         "2016-07-26T03:33:43.000+0000",
         "Open"
        ],
        [
         "2016-07-26T03:33:46.000+0000",
         "Close"
        ],
        [
         "2016-07-26T03:33:48.000+0000",
         "Open"
        ],
        [
         "2016-07-26T03:33:49.000+0000",
         "Open"
        ],
        [
         "2016-07-26T03:34:05.000+0000",
         "Open"
        ],
        [
         "2016-07-26T03:34:08.000+0000",
         "Open"
        ],
        [
         "2016-07-26T03:34:09.000+0000",
         "Open"
        ],
        [
         "2016-07-26T03:34:15.000+0000",
         "Open"
        ],
        [
         "2016-07-26T03:34:15.000+0000",
         "Open"
        ],
        [
         "2016-07-26T03:34:16.000+0000",
         "Open"
        ],
        [
         "2016-07-26T03:34:20.000+0000",
         "Open"
        ],
        [
         "2016-07-26T03:34:24.000+0000",
         "Close"
        ],
        [
         "2016-07-26T03:34:24.000+0000",
         "Open"
        ],
        [
         "2016-07-26T03:34:26.000+0000",
         "Open"
        ],
        [
         "2016-07-26T03:34:31.000+0000",
         "Open"
        ],
        [
         "2016-07-26T03:34:35.000+0000",
         "Open"
        ],
        [
         "2016-07-26T03:34:35.000+0000",
         "Open"
        ],
        [
         "2016-07-26T03:34:35.000+0000",
         "Open"
        ],
        [
         "2016-07-26T03:34:39.000+0000",
         "Open"
        ],
        [
         "2016-07-26T03:34:40.000+0000",
         "Open"
        ],
        [
         "2016-07-26T03:34:41.000+0000",
         "Open"
        ],
        [
         "2016-07-26T03:34:45.000+0000",
         "Open"
        ],
        [
         "2016-07-26T03:34:49.000+0000",
         "Open"
        ],
        [
         "2016-07-26T03:34:52.000+0000",
         "Open"
        ],
        [
         "2016-07-26T03:34:56.000+0000",
         "Close"
        ],
        [
         "2016-07-26T03:35:01.000+0000",
         "Open"
        ],
        [
         "2016-07-26T03:35:03.000+0000",
         "Open"
        ],
        [
         "2016-07-26T03:35:07.000+0000",
         "Close"
        ],
        [
         "2016-07-26T03:35:09.000+0000",
         "Close"
        ],
        [
         "2016-07-26T03:35:09.000+0000",
         "Open"
        ],
        [
         "2016-07-26T03:35:10.000+0000",
         "Open"
        ],
        [
         "2016-07-26T03:35:19.000+0000",
         "Open"
        ],
        [
         "2016-07-26T03:35:23.000+0000",
         "Open"
        ],
        [
         "2016-07-26T03:35:24.000+0000",
         "Open"
        ],
        [
         "2016-07-26T03:35:28.000+0000",
         "Open"
        ],
        [
         "2016-07-26T03:35:30.000+0000",
         "Open"
        ],
        [
         "2016-07-26T03:35:32.000+0000",
         "Open"
        ],
        [
         "2016-07-26T03:35:35.000+0000",
         "Open"
        ],
        [
         "2016-07-26T03:35:44.000+0000",
         "Open"
        ],
        [
         "2016-07-26T03:35:48.000+0000",
         "Close"
        ],
        [
         "2016-07-26T03:35:53.000+0000",
         "Close"
        ],
        [
         "2016-07-26T03:35:53.000+0000",
         "Close"
        ],
        [
         "2016-07-26T03:35:53.000+0000",
         "Open"
        ],
        [
         "2016-07-26T03:36:04.000+0000",
         "Close"
        ],
        [
         "2016-07-26T03:36:05.000+0000",
         "Open"
        ],
        [
         "2016-07-26T03:36:06.000+0000",
         "Close"
        ],
        [
         "2016-07-26T03:36:10.000+0000",
         "Close"
        ],
        [
         "2016-07-26T03:36:11.000+0000",
         "Close"
        ],
        [
         "2016-07-26T03:36:11.000+0000",
         "Open"
        ],
        [
         "2016-07-26T03:36:13.000+0000",
         "Open"
        ],
        [
         "2016-07-26T03:36:17.000+0000",
         "Open"
        ],
        [
         "2016-07-26T03:36:22.000+0000",
         "Open"
        ],
        [
         "2016-07-26T03:36:23.000+0000",
         "Open"
        ],
        [
         "2016-07-26T03:36:24.000+0000",
         "Open"
        ],
        [
         "2016-07-26T03:36:26.000+0000",
         "Close"
        ],
        [
         "2016-07-26T03:36:28.000+0000",
         "Open"
        ],
        [
         "2016-07-26T03:36:29.000+0000",
         "Open"
        ],
        [
         "2016-07-26T03:36:32.000+0000",
         "Close"
        ],
        [
         "2016-07-26T03:36:32.000+0000",
         "Open"
        ],
        [
         "2016-07-26T03:36:32.000+0000",
         "Open"
        ],
        [
         "2016-07-26T03:36:34.000+0000",
         "Open"
        ],
        [
         "2016-07-26T03:36:35.000+0000",
         "Open"
        ],
        [
         "2016-07-26T03:36:37.000+0000",
         "Open"
        ],
        [
         "2016-07-26T03:36:38.000+0000",
         "Open"
        ],
        [
         "2016-07-26T03:36:41.000+0000",
         "Open"
        ],
        [
         "2016-07-26T03:36:43.000+0000",
         "Close"
        ],
        [
         "2016-07-26T03:36:44.000+0000",
         "Open"
        ],
        [
         "2016-07-26T03:36:48.000+0000",
         "Open"
        ],
        [
         "2016-07-26T03:36:49.000+0000",
         "Open"
        ],
        [
         "2016-07-26T03:36:56.000+0000",
         "Open"
        ],
        [
         "2016-07-26T03:37:01.000+0000",
         "Open"
        ],
        [
         "2016-07-26T03:37:02.000+0000",
         "Close"
        ],
        [
         "2016-07-26T03:37:02.000+0000",
         "Close"
        ],
        [
         "2016-07-26T03:37:02.000+0000",
         "Open"
        ],
        [
         "2016-07-26T03:37:04.000+0000",
         "Close"
        ],
        [
         "2016-07-26T03:37:05.000+0000",
         "Open"
        ],
        [
         "2016-07-26T03:37:08.000+0000",
         "Open"
        ],
        [
         "2016-07-26T03:37:10.000+0000",
         "Open"
        ],
        [
         "2016-07-26T03:37:13.000+0000",
         "Open"
        ],
        [
         "2016-07-26T03:37:22.000+0000",
         "Open"
        ],
        [
         "2016-07-26T03:37:24.000+0000",
         "Open"
        ],
        [
         "2016-07-26T03:37:27.000+0000",
         "Open"
        ],
        [
         "2016-07-26T03:37:27.000+0000",
         "Open"
        ],
        [
         "2016-07-26T03:37:30.000+0000",
         "Open"
        ],
        [
         "2016-07-26T03:37:36.000+0000",
         "Open"
        ],
        [
         "2016-07-26T03:37:36.000+0000",
         "Open"
        ],
        [
         "2016-07-26T03:37:37.000+0000",
         "Open"
        ],
        [
         "2016-07-26T03:37:40.000+0000",
         "Close"
        ],
        [
         "2016-07-26T03:37:46.000+0000",
         "Close"
        ],
        [
         "2016-07-26T03:37:53.000+0000",
         "Close"
        ],
        [
         "2016-07-26T03:37:54.000+0000",
         "Open"
        ],
        [
         "2016-07-26T03:37:55.000+0000",
         "Close"
        ],
        [
         "2016-07-26T03:37:56.000+0000",
         "Open"
        ],
        [
         "2016-07-26T03:37:56.000+0000",
         "Close"
        ],
        [
         "2016-07-26T03:37:59.000+0000",
         "Open"
        ],
        [
         "2016-07-26T03:38:02.000+0000",
         "Open"
        ],
        [
         "2016-07-26T03:38:04.000+0000",
         "Open"
        ],
        [
         "2016-07-26T03:38:10.000+0000",
         "Close"
        ],
        [
         "2016-07-26T03:38:15.000+0000",
         "Open"
        ],
        [
         "2016-07-26T03:38:16.000+0000",
         "Close"
        ],
        [
         "2016-07-26T03:38:16.000+0000",
         "Open"
        ],
        [
         "2016-07-26T03:38:17.000+0000",
         "Open"
        ],
        [
         "2016-07-26T03:38:27.000+0000",
         "Open"
        ],
        [
         "2016-07-26T03:38:29.000+0000",
         "Close"
        ],
        [
         "2016-07-26T03:38:29.000+0000",
         "Open"
        ],
        [
         "2016-07-26T03:38:35.000+0000",
         "Close"
        ],
        [
         "2016-07-26T03:38:38.000+0000",
         "Open"
        ],
        [
         "2016-07-26T03:38:39.000+0000",
         "Open"
        ],
        [
         "2016-07-26T03:38:39.000+0000",
         "Open"
        ],
        [
         "2016-07-26T03:38:40.000+0000",
         "Close"
        ],
        [
         "2016-07-26T03:38:40.000+0000",
         "Open"
        ],
        [
         "2016-07-26T03:38:40.000+0000",
         "Open"
        ],
        [
         "2016-07-26T03:38:44.000+0000",
         "Open"
        ],
        [
         "2016-07-26T03:38:45.000+0000",
         "Open"
        ],
        [
         "2016-07-26T03:38:47.000+0000",
         "Open"
        ],
        [
         "2016-07-26T03:38:48.000+0000",
         "Close"
        ],
        [
         "2016-07-26T03:38:51.000+0000",
         "Open"
        ],
        [
         "2016-07-26T03:38:54.000+0000",
         "Close"
        ],
        [
         "2016-07-26T03:38:55.000+0000",
         "Close"
        ],
        [
         "2016-07-26T03:38:59.000+0000",
         "Open"
        ],
        [
         "2016-07-26T03:39:00.000+0000",
         "Open"
        ],
        [
         "2016-07-26T03:39:03.000+0000",
         "Close"
        ],
        [
         "2016-07-26T03:39:04.000+0000",
         "Open"
        ],
        [
         "2016-07-26T03:39:04.000+0000",
         "Open"
        ],
        [
         "2016-07-26T03:39:07.000+0000",
         "Close"
        ],
        [
         "2016-07-26T03:39:09.000+0000",
         "Close"
        ],
        [
         "2016-07-26T03:39:17.000+0000",
         "Open"
        ],
        [
         "2016-07-26T03:39:19.000+0000",
         "Open"
        ],
        [
         "2016-07-26T03:39:20.000+0000",
         "Open"
        ]
       ],
       "datasetInfos": [],
       "dbfsResultPath": null,
       "isJsonSchema": true,
       "metadata": {},
       "overflow": true,
       "plotOptions": {
        "customPlotOptions": {},
        "displayType": "table",
        "pivotAggregation": null,
        "pivotColumns": null,
        "xColumns": null,
        "yColumns": null
       },
       "removedWidgets": [],
       "schema": [
        {
         "metadata": "{}",
         "name": "time",
         "type": "\"timestamp\""
        },
        {
         "metadata": "{}",
         "name": "action",
         "type": "\"string\""
        }
       ],
       "type": "table"
      }
     },
     "output_type": "display_data"
    }
   ],
   "source": [
    "# Display input data\n",
    "streamingInputDF.display()"
   ]
  },
  {
   "cell_type": "code",
   "execution_count": 0,
   "metadata": {
    "application/vnd.databricks.v1+cell": {
     "cellMetadata": {
      "byteLimit": 2048000,
      "rowLimit": 10000
     },
     "inputWidgets": {},
     "nuid": "02469fad-4c49-4a15-9fcb-adbd423d0b1f",
     "showTitle": false,
     "tableResultSettingsMap": {},
     "title": ""
    }
   },
   "outputs": [
    {
     "output_type": "display_data",
     "data": {
      "text/html": [
       "<style scoped>\n",
       "  .table-result-container {\n",
       "    max-height: 300px;\n",
       "    overflow: auto;\n",
       "  }\n",
       "  table, th, td {\n",
       "    border: 1px solid black;\n",
       "    border-collapse: collapse;\n",
       "  }\n",
       "  th, td {\n",
       "    padding: 5px;\n",
       "  }\n",
       "  th {\n",
       "    text-align: left;\n",
       "  }\n",
       "</style><div class='table-result-container'><table class='table-result'><thead style='background-color: white'><tr><th>action</th><th>window</th><th>count</th></tr></thead><tbody><tr><td>Close</td><td>List(2016-07-26T13:00:00.000+0000, 2016-07-26T14:00:00.000+0000)</td><td>1028</td></tr><tr><td>Open</td><td>List(2016-07-26T18:00:00.000+0000, 2016-07-26T19:00:00.000+0000)</td><td>1004</td></tr><tr><td>Close</td><td>List(2016-07-27T02:00:00.000+0000, 2016-07-27T03:00:00.000+0000)</td><td>971</td></tr><tr><td>Open</td><td>List(2016-07-27T04:00:00.000+0000, 2016-07-27T05:00:00.000+0000)</td><td>995</td></tr><tr><td>Open</td><td>List(2016-07-27T05:00:00.000+0000, 2016-07-27T06:00:00.000+0000)</td><td>986</td></tr><tr><td>Open</td><td>List(2016-07-26T05:00:00.000+0000, 2016-07-26T06:00:00.000+0000)</td><td>1000</td></tr><tr><td>Open</td><td>List(2016-07-26T11:00:00.000+0000, 2016-07-26T12:00:00.000+0000)</td><td>991</td></tr><tr><td>Close</td><td>List(2016-07-26T06:00:00.000+0000, 2016-07-26T07:00:00.000+0000)</td><td>1011</td></tr><tr><td>Close</td><td>List(2016-07-27T05:00:00.000+0000, 2016-07-27T06:00:00.000+0000)</td><td>987</td></tr><tr><td>Open</td><td>List(2016-07-26T10:00:00.000+0000, 2016-07-26T11:00:00.000+0000)</td><td>1007</td></tr><tr><td>Close</td><td>List(2016-07-26T04:00:00.000+0000, 2016-07-26T05:00:00.000+0000)</td><td>815</td></tr><tr><td>Close</td><td>List(2016-07-26T16:00:00.000+0000, 2016-07-26T17:00:00.000+0000)</td><td>984</td></tr><tr><td>Close</td><td>List(2016-07-27T03:00:00.000+0000, 2016-07-27T04:00:00.000+0000)</td><td>1025</td></tr><tr><td>Open</td><td>List(2016-07-27T07:00:00.000+0000, 2016-07-27T08:00:00.000+0000)</td><td>998</td></tr><tr><td>Open</td><td>List(2016-07-27T18:00:00.000+0000, 2016-07-27T19:00:00.000+0000)</td><td>995</td></tr><tr><td>Close</td><td>List(2016-07-27T13:00:00.000+0000, 2016-07-27T14:00:00.000+0000)</td><td>986</td></tr><tr><td>Close</td><td>List(2016-07-26T12:00:00.000+0000, 2016-07-26T13:00:00.000+0000)</td><td>960</td></tr><tr><td>Close</td><td>List(2016-07-27T08:00:00.000+0000, 2016-07-27T09:00:00.000+0000)</td><td>1024</td></tr><tr><td>Close</td><td>List(2016-07-27T01:00:00.000+0000, 2016-07-27T02:00:00.000+0000)</td><td>1013</td></tr><tr><td>Open</td><td>List(2016-07-27T19:00:00.000+0000, 2016-07-27T20:00:00.000+0000)</td><td>1007</td></tr><tr><td>Open</td><td>List(2016-07-28T03:00:00.000+0000, 2016-07-28T04:00:00.000+0000)</td><td>996</td></tr><tr><td>Close</td><td>List(2016-07-27T12:00:00.000+0000, 2016-07-27T13:00:00.000+0000)</td><td>1035</td></tr><tr><td>Close</td><td>List(2016-07-28T00:00:00.000+0000, 2016-07-28T01:00:00.000+0000)</td><td>988</td></tr><tr><td>Close</td><td>List(2016-07-27T16:00:00.000+0000, 2016-07-27T17:00:00.000+0000)</td><td>970</td></tr><tr><td>Close</td><td>List(2016-07-26T08:00:00.000+0000, 2016-07-26T09:00:00.000+0000)</td><td>985</td></tr><tr><td>Close</td><td>List(2016-07-27T14:00:00.000+0000, 2016-07-27T15:00:00.000+0000)</td><td>948</td></tr><tr><td>Open</td><td>List(2016-07-27T11:00:00.000+0000, 2016-07-27T12:00:00.000+0000)</td><td>998</td></tr><tr><td>Open</td><td>List(2016-07-28T04:00:00.000+0000, 2016-07-28T05:00:00.000+0000)</td><td>825</td></tr><tr><td>Open</td><td>List(2016-07-26T19:00:00.000+0000, 2016-07-26T20:00:00.000+0000)</td><td>998</td></tr><tr><td>Close</td><td>List(2016-07-26T11:00:00.000+0000, 2016-07-26T12:00:00.000+0000)</td><td>1028</td></tr><tr><td>Open</td><td>List(2016-07-27T06:00:00.000+0000, 2016-07-27T07:00:00.000+0000)</td><td>1016</td></tr><tr><td>Open</td><td>List(2016-07-27T21:00:00.000+0000, 2016-07-27T22:00:00.000+0000)</td><td>998</td></tr><tr><td>Open</td><td>List(2016-07-27T16:00:00.000+0000, 2016-07-27T17:00:00.000+0000)</td><td>992</td></tr><tr><td>Close</td><td>List(2016-07-28T01:00:00.000+0000, 2016-07-28T02:00:00.000+0000)</td><td>1010</td></tr><tr><td>Open</td><td>List(2016-07-27T10:00:00.000+0000, 2016-07-27T11:00:00.000+0000)</td><td>1006</td></tr><tr><td>Close</td><td>List(2016-07-26T17:00:00.000+0000, 2016-07-26T18:00:00.000+0000)</td><td>1036</td></tr><tr><td>Open</td><td>List(2016-07-26T13:00:00.000+0000, 2016-07-26T14:00:00.000+0000)</td><td>1006</td></tr><tr><td>Open</td><td>List(2016-07-27T17:00:00.000+0000, 2016-07-27T18:00:00.000+0000)</td><td>1007</td></tr><tr><td>Open</td><td>List(2016-07-26T15:00:00.000+0000, 2016-07-26T16:00:00.000+0000)</td><td>1020</td></tr><tr><td>Open</td><td>List(2016-07-27T12:00:00.000+0000, 2016-07-27T13:00:00.000+0000)</td><td>994</td></tr><tr><td>Open</td><td>List(2016-07-26T04:00:00.000+0000, 2016-07-26T05:00:00.000+0000)</td><td>999</td></tr><tr><td>Close</td><td>List(2016-07-26T18:00:00.000+0000, 2016-07-26T19:00:00.000+0000)</td><td>1001</td></tr><tr><td>Open</td><td>List(2016-07-26T07:00:00.000+0000, 2016-07-26T08:00:00.000+0000)</td><td>1008</td></tr><tr><td>Open</td><td>List(2016-07-26T20:00:00.000+0000, 2016-07-26T21:00:00.000+0000)</td><td>1010</td></tr><tr><td>Open</td><td>List(2016-07-27T01:00:00.000+0000, 2016-07-27T02:00:00.000+0000)</td><td>1004</td></tr><tr><td>Close</td><td>List(2016-07-27T15:00:00.000+0000, 2016-07-27T16:00:00.000+0000)</td><td>1018</td></tr><tr><td>Close</td><td>List(2016-07-27T10:00:00.000+0000, 2016-07-27T11:00:00.000+0000)</td><td>1001</td></tr><tr><td>Close</td><td>List(2016-07-27T00:00:00.000+0000, 2016-07-27T01:00:00.000+0000)</td><td>1008</td></tr><tr><td>Open</td><td>List(2016-07-27T02:00:00.000+0000, 2016-07-27T03:00:00.000+0000)</td><td>992</td></tr><tr><td>Open</td><td>List(2016-07-27T00:00:00.000+0000, 2016-07-27T01:00:00.000+0000)</td><td>998</td></tr><tr><td>Open</td><td>List(2016-07-27T03:00:00.000+0000, 2016-07-27T04:00:00.000+0000)</td><td>1014</td></tr><tr><td>Close</td><td>List(2016-07-27T06:00:00.000+0000, 2016-07-27T07:00:00.000+0000)</td><td>1026</td></tr><tr><td>Open</td><td>List(2016-07-27T14:00:00.000+0000, 2016-07-27T15:00:00.000+0000)</td><td>984</td></tr><tr><td>Open</td><td>List(2016-07-26T14:00:00.000+0000, 2016-07-26T15:00:00.000+0000)</td><td>991</td></tr><tr><td>Close</td><td>List(2016-07-27T17:00:00.000+0000, 2016-07-27T18:00:00.000+0000)</td><td>1020</td></tr><tr><td>Close</td><td>List(2016-07-26T19:00:00.000+0000, 2016-07-26T20:00:00.000+0000)</td><td>967</td></tr><tr><td>Close</td><td>List(2016-07-28T03:00:00.000+0000, 2016-07-28T04:00:00.000+0000)</td><td>993</td></tr><tr><td>Close</td><td>List(2016-07-26T07:00:00.000+0000, 2016-07-26T08:00:00.000+0000)</td><td>989</td></tr><tr><td>Close</td><td>List(2016-07-27T18:00:00.000+0000, 2016-07-27T19:00:00.000+0000)</td><td>1036</td></tr><tr><td>Open</td><td>List(2016-07-26T12:00:00.000+0000, 2016-07-26T13:00:00.000+0000)</td><td>996</td></tr><tr><td>Close</td><td>List(2016-07-27T09:00:00.000+0000, 2016-07-27T10:00:00.000+0000)</td><td>990</td></tr><tr><td>Open</td><td>List(2016-07-28T02:00:00.000+0000, 2016-07-28T03:00:00.000+0000)</td><td>1000</td></tr><tr><td>Open</td><td>List(2016-07-26T23:00:00.000+0000, 2016-07-27T00:00:00.000+0000)</td><td>1000</td></tr><tr><td>Close</td><td>List(2016-07-26T03:00:00.000+0000, 2016-07-26T04:00:00.000+0000)</td><td>344</td></tr><tr><td>Close</td><td>List(2016-07-28T04:00:00.000+0000, 2016-07-28T05:00:00.000+0000)</td><td>960</td></tr><tr><td>Open</td><td>List(2016-07-26T16:00:00.000+0000, 2016-07-26T17:00:00.000+0000)</td><td>992</td></tr><tr><td>Open</td><td>List(2016-07-26T22:00:00.000+0000, 2016-07-26T23:00:00.000+0000)</td><td>997</td></tr><tr><td>Open</td><td>List(2016-07-26T03:00:00.000+0000, 2016-07-26T04:00:00.000+0000)</td><td>1001</td></tr><tr><td>Close</td><td>List(2016-07-27T22:00:00.000+0000, 2016-07-27T23:00:00.000+0000)</td><td>996</td></tr><tr><td>Close</td><td>List(2016-07-26T09:00:00.000+0000, 2016-07-26T10:00:00.000+0000)</td><td>983</td></tr><tr><td>Open</td><td>List(2016-07-26T06:00:00.000+0000, 2016-07-26T07:00:00.000+0000)</td><td>993</td></tr><tr><td>Open</td><td>List(2016-07-26T21:00:00.000+0000, 2016-07-26T22:00:00.000+0000)</td><td>998</td></tr><tr><td>Open</td><td>List(2016-07-27T13:00:00.000+0000, 2016-07-27T14:00:00.000+0000)</td><td>1008</td></tr><tr><td>Open</td><td>List(2016-07-27T08:00:00.000+0000, 2016-07-27T09:00:00.000+0000)</td><td>1002</td></tr><tr><td>Close</td><td>List(2016-07-27T07:00:00.000+0000, 2016-07-27T08:00:00.000+0000)</td><td>982</td></tr><tr><td>Open</td><td>List(2016-07-27T15:00:00.000+0000, 2016-07-27T16:00:00.000+0000)</td><td>1017</td></tr><tr><td>Open</td><td>List(2016-07-28T01:00:00.000+0000, 2016-07-28T02:00:00.000+0000)</td><td>1001</td></tr><tr><td>Open</td><td>List(2016-07-27T20:00:00.000+0000, 2016-07-27T21:00:00.000+0000)</td><td>1005</td></tr><tr><td>Open</td><td>List(2016-07-28T00:00:00.000+0000, 2016-07-28T01:00:00.000+0000)</td><td>1000</td></tr><tr><td>Open</td><td>List(2016-07-26T02:00:00.000+0000, 2016-07-26T03:00:00.000+0000)</td><td>179</td></tr><tr><td>Close</td><td>List(2016-07-27T19:00:00.000+0000, 2016-07-27T20:00:00.000+0000)</td><td>969</td></tr><tr><td>Close</td><td>List(2016-07-26T15:00:00.000+0000, 2016-07-26T16:00:00.000+0000)</td><td>988</td></tr><tr><td>Close</td><td>List(2016-07-26T14:00:00.000+0000, 2016-07-26T15:00:00.000+0000)</td><td>994</td></tr><tr><td>Close</td><td>List(2016-07-27T23:00:00.000+0000, 2016-07-28T00:00:00.000+0000)</td><td>1011</td></tr><tr><td>Close</td><td>List(2016-07-26T21:00:00.000+0000, 2016-07-26T22:00:00.000+0000)</td><td>995</td></tr><tr><td>Close</td><td>List(2016-07-27T20:00:00.000+0000, 2016-07-27T21:00:00.000+0000)</td><td>1025</td></tr><tr><td>Close</td><td>List(2016-07-26T10:00:00.000+0000, 2016-07-26T11:00:00.000+0000)</td><td>1022</td></tr><tr><td>Close</td><td>List(2016-07-26T22:00:00.000+0000, 2016-07-26T23:00:00.000+0000)</td><td>1036</td></tr><tr><td>Close</td><td>List(2016-07-26T05:00:00.000+0000, 2016-07-26T06:00:00.000+0000)</td><td>1003</td></tr><tr><td>Close</td><td>List(2016-07-26T23:00:00.000+0000, 2016-07-27T00:00:00.000+0000)</td><td>950</td></tr><tr><td>Open</td><td>List(2016-07-27T22:00:00.000+0000, 2016-07-27T23:00:00.000+0000)</td><td>986</td></tr><tr><td>Close</td><td>List(2016-07-27T11:00:00.000+0000, 2016-07-27T12:00:00.000+0000)</td><td>1006</td></tr><tr><td>Close</td><td>List(2016-07-28T06:00:00.000+0000, 2016-07-28T07:00:00.000+0000)</td><td>191</td></tr><tr><td>Close</td><td>List(2016-07-28T05:00:00.000+0000, 2016-07-28T06:00:00.000+0000)</td><td>671</td></tr><tr><td>Close</td><td>List(2016-07-27T04:00:00.000+0000, 2016-07-27T05:00:00.000+0000)</td><td>989</td></tr><tr><td>Close</td><td>List(2016-07-26T20:00:00.000+0000, 2016-07-26T21:00:00.000+0000)</td><td>1035</td></tr><tr><td>Close</td><td>List(2016-07-27T21:00:00.000+0000, 2016-07-27T22:00:00.000+0000)</td><td>979</td></tr><tr><td>Open</td><td>List(2016-07-26T17:00:00.000+0000, 2016-07-26T18:00:00.000+0000)</td><td>990</td></tr><tr><td>Open</td><td>List(2016-07-26T08:00:00.000+0000, 2016-07-26T09:00:00.000+0000)</td><td>996</td></tr><tr><td>Close</td><td>List(2016-07-28T02:00:00.000+0000, 2016-07-28T03:00:00.000+0000)</td><td>1007</td></tr><tr><td>Open</td><td>List(2016-07-27T09:00:00.000+0000, 2016-07-27T10:00:00.000+0000)</td><td>992</td></tr><tr><td>Open</td><td>List(2016-07-27T23:00:00.000+0000, 2016-07-28T00:00:00.000+0000)</td><td>1008</td></tr><tr><td>Open</td><td>List(2016-07-26T09:00:00.000+0000, 2016-07-26T10:00:00.000+0000)</td><td>1000</td></tr><tr><td>Close</td><td>List(2016-07-26T02:00:00.000+0000, 2016-07-26T03:00:00.000+0000)</td><td>11</td></tr></tbody></table></div>"
      ]
     },
     "metadata": {
      "application/vnd.databricks.v1+output": {
       "addedWidgets": {},
       "aggData": [],
       "aggError": "",
       "aggOverflow": false,
       "aggSchema": [],
       "aggSeriesLimitReached": false,
       "aggType": "",
       "arguments": {},
       "columnCustomDisplayInfos": {},
       "data": [
        [
         "Close",
         [
          "2016-07-26T13:00:00.000+0000",
          "2016-07-26T14:00:00.000+0000"
         ],
         1028
        ],
        [
         "Open",
         [
          "2016-07-26T18:00:00.000+0000",
          "2016-07-26T19:00:00.000+0000"
         ],
         1004
        ],
        [
         "Close",
         [
          "2016-07-27T02:00:00.000+0000",
          "2016-07-27T03:00:00.000+0000"
         ],
         971
        ],
        [
         "Open",
         [
          "2016-07-27T04:00:00.000+0000",
          "2016-07-27T05:00:00.000+0000"
         ],
         995
        ],
        [
         "Open",
         [
          "2016-07-27T05:00:00.000+0000",
          "2016-07-27T06:00:00.000+0000"
         ],
         986
        ],
        [
         "Open",
         [
          "2016-07-26T05:00:00.000+0000",
          "2016-07-26T06:00:00.000+0000"
         ],
         1000
        ],
        [
         "Open",
         [
          "2016-07-26T11:00:00.000+0000",
          "2016-07-26T12:00:00.000+0000"
         ],
         991
        ],
        [
         "Close",
         [
          "2016-07-26T06:00:00.000+0000",
          "2016-07-26T07:00:00.000+0000"
         ],
         1011
        ],
        [
         "Close",
         [
          "2016-07-27T05:00:00.000+0000",
          "2016-07-27T06:00:00.000+0000"
         ],
         987
        ],
        [
         "Open",
         [
          "2016-07-26T10:00:00.000+0000",
          "2016-07-26T11:00:00.000+0000"
         ],
         1007
        ],
        [
         "Close",
         [
          "2016-07-26T04:00:00.000+0000",
          "2016-07-26T05:00:00.000+0000"
         ],
         815
        ],
        [
         "Close",
         [
          "2016-07-26T16:00:00.000+0000",
          "2016-07-26T17:00:00.000+0000"
         ],
         984
        ],
        [
         "Close",
         [
          "2016-07-27T03:00:00.000+0000",
          "2016-07-27T04:00:00.000+0000"
         ],
         1025
        ],
        [
         "Open",
         [
          "2016-07-27T07:00:00.000+0000",
          "2016-07-27T08:00:00.000+0000"
         ],
         998
        ],
        [
         "Open",
         [
          "2016-07-27T18:00:00.000+0000",
          "2016-07-27T19:00:00.000+0000"
         ],
         995
        ],
        [
         "Close",
         [
          "2016-07-27T13:00:00.000+0000",
          "2016-07-27T14:00:00.000+0000"
         ],
         986
        ],
        [
         "Close",
         [
          "2016-07-26T12:00:00.000+0000",
          "2016-07-26T13:00:00.000+0000"
         ],
         960
        ],
        [
         "Close",
         [
          "2016-07-27T08:00:00.000+0000",
          "2016-07-27T09:00:00.000+0000"
         ],
         1024
        ],
        [
         "Close",
         [
          "2016-07-27T01:00:00.000+0000",
          "2016-07-27T02:00:00.000+0000"
         ],
         1013
        ],
        [
         "Open",
         [
          "2016-07-27T19:00:00.000+0000",
          "2016-07-27T20:00:00.000+0000"
         ],
         1007
        ],
        [
         "Open",
         [
          "2016-07-28T03:00:00.000+0000",
          "2016-07-28T04:00:00.000+0000"
         ],
         996
        ],
        [
         "Close",
         [
          "2016-07-27T12:00:00.000+0000",
          "2016-07-27T13:00:00.000+0000"
         ],
         1035
        ],
        [
         "Close",
         [
          "2016-07-28T00:00:00.000+0000",
          "2016-07-28T01:00:00.000+0000"
         ],
         988
        ],
        [
         "Close",
         [
          "2016-07-27T16:00:00.000+0000",
          "2016-07-27T17:00:00.000+0000"
         ],
         970
        ],
        [
         "Close",
         [
          "2016-07-26T08:00:00.000+0000",
          "2016-07-26T09:00:00.000+0000"
         ],
         985
        ],
        [
         "Close",
         [
          "2016-07-27T14:00:00.000+0000",
          "2016-07-27T15:00:00.000+0000"
         ],
         948
        ],
        [
         "Open",
         [
          "2016-07-27T11:00:00.000+0000",
          "2016-07-27T12:00:00.000+0000"
         ],
         998
        ],
        [
         "Open",
         [
          "2016-07-28T04:00:00.000+0000",
          "2016-07-28T05:00:00.000+0000"
         ],
         825
        ],
        [
         "Open",
         [
          "2016-07-26T19:00:00.000+0000",
          "2016-07-26T20:00:00.000+0000"
         ],
         998
        ],
        [
         "Close",
         [
          "2016-07-26T11:00:00.000+0000",
          "2016-07-26T12:00:00.000+0000"
         ],
         1028
        ],
        [
         "Open",
         [
          "2016-07-27T06:00:00.000+0000",
          "2016-07-27T07:00:00.000+0000"
         ],
         1016
        ],
        [
         "Open",
         [
          "2016-07-27T21:00:00.000+0000",
          "2016-07-27T22:00:00.000+0000"
         ],
         998
        ],
        [
         "Open",
         [
          "2016-07-27T16:00:00.000+0000",
          "2016-07-27T17:00:00.000+0000"
         ],
         992
        ],
        [
         "Close",
         [
          "2016-07-28T01:00:00.000+0000",
          "2016-07-28T02:00:00.000+0000"
         ],
         1010
        ],
        [
         "Open",
         [
          "2016-07-27T10:00:00.000+0000",
          "2016-07-27T11:00:00.000+0000"
         ],
         1006
        ],
        [
         "Close",
         [
          "2016-07-26T17:00:00.000+0000",
          "2016-07-26T18:00:00.000+0000"
         ],
         1036
        ],
        [
         "Open",
         [
          "2016-07-26T13:00:00.000+0000",
          "2016-07-26T14:00:00.000+0000"
         ],
         1006
        ],
        [
         "Open",
         [
          "2016-07-27T17:00:00.000+0000",
          "2016-07-27T18:00:00.000+0000"
         ],
         1007
        ],
        [
         "Open",
         [
          "2016-07-26T15:00:00.000+0000",
          "2016-07-26T16:00:00.000+0000"
         ],
         1020
        ],
        [
         "Open",
         [
          "2016-07-27T12:00:00.000+0000",
          "2016-07-27T13:00:00.000+0000"
         ],
         994
        ],
        [
         "Open",
         [
          "2016-07-26T04:00:00.000+0000",
          "2016-07-26T05:00:00.000+0000"
         ],
         999
        ],
        [
         "Close",
         [
          "2016-07-26T18:00:00.000+0000",
          "2016-07-26T19:00:00.000+0000"
         ],
         1001
        ],
        [
         "Open",
         [
          "2016-07-26T07:00:00.000+0000",
          "2016-07-26T08:00:00.000+0000"
         ],
         1008
        ],
        [
         "Open",
         [
          "2016-07-26T20:00:00.000+0000",
          "2016-07-26T21:00:00.000+0000"
         ],
         1010
        ],
        [
         "Open",
         [
          "2016-07-27T01:00:00.000+0000",
          "2016-07-27T02:00:00.000+0000"
         ],
         1004
        ],
        [
         "Close",
         [
          "2016-07-27T15:00:00.000+0000",
          "2016-07-27T16:00:00.000+0000"
         ],
         1018
        ],
        [
         "Close",
         [
          "2016-07-27T10:00:00.000+0000",
          "2016-07-27T11:00:00.000+0000"
         ],
         1001
        ],
        [
         "Close",
         [
          "2016-07-27T00:00:00.000+0000",
          "2016-07-27T01:00:00.000+0000"
         ],
         1008
        ],
        [
         "Open",
         [
          "2016-07-27T02:00:00.000+0000",
          "2016-07-27T03:00:00.000+0000"
         ],
         992
        ],
        [
         "Open",
         [
          "2016-07-27T00:00:00.000+0000",
          "2016-07-27T01:00:00.000+0000"
         ],
         998
        ],
        [
         "Open",
         [
          "2016-07-27T03:00:00.000+0000",
          "2016-07-27T04:00:00.000+0000"
         ],
         1014
        ],
        [
         "Close",
         [
          "2016-07-27T06:00:00.000+0000",
          "2016-07-27T07:00:00.000+0000"
         ],
         1026
        ],
        [
         "Open",
         [
          "2016-07-27T14:00:00.000+0000",
          "2016-07-27T15:00:00.000+0000"
         ],
         984
        ],
        [
         "Open",
         [
          "2016-07-26T14:00:00.000+0000",
          "2016-07-26T15:00:00.000+0000"
         ],
         991
        ],
        [
         "Close",
         [
          "2016-07-27T17:00:00.000+0000",
          "2016-07-27T18:00:00.000+0000"
         ],
         1020
        ],
        [
         "Close",
         [
          "2016-07-26T19:00:00.000+0000",
          "2016-07-26T20:00:00.000+0000"
         ],
         967
        ],
        [
         "Close",
         [
          "2016-07-28T03:00:00.000+0000",
          "2016-07-28T04:00:00.000+0000"
         ],
         993
        ],
        [
         "Close",
         [
          "2016-07-26T07:00:00.000+0000",
          "2016-07-26T08:00:00.000+0000"
         ],
         989
        ],
        [
         "Close",
         [
          "2016-07-27T18:00:00.000+0000",
          "2016-07-27T19:00:00.000+0000"
         ],
         1036
        ],
        [
         "Open",
         [
          "2016-07-26T12:00:00.000+0000",
          "2016-07-26T13:00:00.000+0000"
         ],
         996
        ],
        [
         "Close",
         [
          "2016-07-27T09:00:00.000+0000",
          "2016-07-27T10:00:00.000+0000"
         ],
         990
        ],
        [
         "Open",
         [
          "2016-07-28T02:00:00.000+0000",
          "2016-07-28T03:00:00.000+0000"
         ],
         1000
        ],
        [
         "Open",
         [
          "2016-07-26T23:00:00.000+0000",
          "2016-07-27T00:00:00.000+0000"
         ],
         1000
        ],
        [
         "Close",
         [
          "2016-07-26T03:00:00.000+0000",
          "2016-07-26T04:00:00.000+0000"
         ],
         344
        ],
        [
         "Close",
         [
          "2016-07-28T04:00:00.000+0000",
          "2016-07-28T05:00:00.000+0000"
         ],
         960
        ],
        [
         "Open",
         [
          "2016-07-26T16:00:00.000+0000",
          "2016-07-26T17:00:00.000+0000"
         ],
         992
        ],
        [
         "Open",
         [
          "2016-07-26T22:00:00.000+0000",
          "2016-07-26T23:00:00.000+0000"
         ],
         997
        ],
        [
         "Open",
         [
          "2016-07-26T03:00:00.000+0000",
          "2016-07-26T04:00:00.000+0000"
         ],
         1001
        ],
        [
         "Close",
         [
          "2016-07-27T22:00:00.000+0000",
          "2016-07-27T23:00:00.000+0000"
         ],
         996
        ],
        [
         "Close",
         [
          "2016-07-26T09:00:00.000+0000",
          "2016-07-26T10:00:00.000+0000"
         ],
         983
        ],
        [
         "Open",
         [
          "2016-07-26T06:00:00.000+0000",
          "2016-07-26T07:00:00.000+0000"
         ],
         993
        ],
        [
         "Open",
         [
          "2016-07-26T21:00:00.000+0000",
          "2016-07-26T22:00:00.000+0000"
         ],
         998
        ],
        [
         "Open",
         [
          "2016-07-27T13:00:00.000+0000",
          "2016-07-27T14:00:00.000+0000"
         ],
         1008
        ],
        [
         "Open",
         [
          "2016-07-27T08:00:00.000+0000",
          "2016-07-27T09:00:00.000+0000"
         ],
         1002
        ],
        [
         "Close",
         [
          "2016-07-27T07:00:00.000+0000",
          "2016-07-27T08:00:00.000+0000"
         ],
         982
        ],
        [
         "Open",
         [
          "2016-07-27T15:00:00.000+0000",
          "2016-07-27T16:00:00.000+0000"
         ],
         1017
        ],
        [
         "Open",
         [
          "2016-07-28T01:00:00.000+0000",
          "2016-07-28T02:00:00.000+0000"
         ],
         1001
        ],
        [
         "Open",
         [
          "2016-07-27T20:00:00.000+0000",
          "2016-07-27T21:00:00.000+0000"
         ],
         1005
        ],
        [
         "Open",
         [
          "2016-07-28T00:00:00.000+0000",
          "2016-07-28T01:00:00.000+0000"
         ],
         1000
        ],
        [
         "Open",
         [
          "2016-07-26T02:00:00.000+0000",
          "2016-07-26T03:00:00.000+0000"
         ],
         179
        ],
        [
         "Close",
         [
          "2016-07-27T19:00:00.000+0000",
          "2016-07-27T20:00:00.000+0000"
         ],
         969
        ],
        [
         "Close",
         [
          "2016-07-26T15:00:00.000+0000",
          "2016-07-26T16:00:00.000+0000"
         ],
         988
        ],
        [
         "Close",
         [
          "2016-07-26T14:00:00.000+0000",
          "2016-07-26T15:00:00.000+0000"
         ],
         994
        ],
        [
         "Close",
         [
          "2016-07-27T23:00:00.000+0000",
          "2016-07-28T00:00:00.000+0000"
         ],
         1011
        ],
        [
         "Close",
         [
          "2016-07-26T21:00:00.000+0000",
          "2016-07-26T22:00:00.000+0000"
         ],
         995
        ],
        [
         "Close",
         [
          "2016-07-27T20:00:00.000+0000",
          "2016-07-27T21:00:00.000+0000"
         ],
         1025
        ],
        [
         "Close",
         [
          "2016-07-26T10:00:00.000+0000",
          "2016-07-26T11:00:00.000+0000"
         ],
         1022
        ],
        [
         "Close",
         [
          "2016-07-26T22:00:00.000+0000",
          "2016-07-26T23:00:00.000+0000"
         ],
         1036
        ],
        [
         "Close",
         [
          "2016-07-26T05:00:00.000+0000",
          "2016-07-26T06:00:00.000+0000"
         ],
         1003
        ],
        [
         "Close",
         [
          "2016-07-26T23:00:00.000+0000",
          "2016-07-27T00:00:00.000+0000"
         ],
         950
        ],
        [
         "Open",
         [
          "2016-07-27T22:00:00.000+0000",
          "2016-07-27T23:00:00.000+0000"
         ],
         986
        ],
        [
         "Close",
         [
          "2016-07-27T11:00:00.000+0000",
          "2016-07-27T12:00:00.000+0000"
         ],
         1006
        ],
        [
         "Close",
         [
          "2016-07-28T06:00:00.000+0000",
          "2016-07-28T07:00:00.000+0000"
         ],
         191
        ],
        [
         "Close",
         [
          "2016-07-28T05:00:00.000+0000",
          "2016-07-28T06:00:00.000+0000"
         ],
         671
        ],
        [
         "Close",
         [
          "2016-07-27T04:00:00.000+0000",
          "2016-07-27T05:00:00.000+0000"
         ],
         989
        ],
        [
         "Close",
         [
          "2016-07-26T20:00:00.000+0000",
          "2016-07-26T21:00:00.000+0000"
         ],
         1035
        ],
        [
         "Close",
         [
          "2016-07-27T21:00:00.000+0000",
          "2016-07-27T22:00:00.000+0000"
         ],
         979
        ],
        [
         "Open",
         [
          "2016-07-26T17:00:00.000+0000",
          "2016-07-26T18:00:00.000+0000"
         ],
         990
        ],
        [
         "Open",
         [
          "2016-07-26T08:00:00.000+0000",
          "2016-07-26T09:00:00.000+0000"
         ],
         996
        ],
        [
         "Close",
         [
          "2016-07-28T02:00:00.000+0000",
          "2016-07-28T03:00:00.000+0000"
         ],
         1007
        ],
        [
         "Open",
         [
          "2016-07-27T09:00:00.000+0000",
          "2016-07-27T10:00:00.000+0000"
         ],
         992
        ],
        [
         "Open",
         [
          "2016-07-27T23:00:00.000+0000",
          "2016-07-28T00:00:00.000+0000"
         ],
         1008
        ],
        [
         "Open",
         [
          "2016-07-26T09:00:00.000+0000",
          "2016-07-26T10:00:00.000+0000"
         ],
         1000
        ],
        [
         "Close",
         [
          "2016-07-26T02:00:00.000+0000",
          "2016-07-26T03:00:00.000+0000"
         ],
         11
        ]
       ],
       "datasetInfos": [],
       "dbfsResultPath": null,
       "isJsonSchema": true,
       "metadata": {
        "isDbfsCommandResult": false
       },
       "overflow": false,
       "plotOptions": {
        "customPlotOptions": {},
        "displayType": "table",
        "pivotAggregation": null,
        "pivotColumns": null,
        "xColumns": null,
        "yColumns": null
       },
       "removedWidgets": [],
       "schema": [
        {
         "metadata": "{}",
         "name": "action",
         "type": "\"string\""
        },
        {
         "metadata": "{\"spark.timeWindow\":true}",
         "name": "window",
         "type": "{\"type\":\"struct\",\"fields\":[{\"name\":\"start\",\"type\":\"timestamp\",\"nullable\":true,\"metadata\":{}},{\"name\":\"end\",\"type\":\"timestamp\",\"nullable\":true,\"metadata\":{}}]}"
        },
        {
         "metadata": "{}",
         "name": "count",
         "type": "\"long\""
        }
       ],
       "type": "table"
      }
     },
     "output_type": "display_data"
    }
   ],
   "source": [
    "# Display transformed data\n",
    "streamingCountsDF.display()"
   ]
  },
  {
   "cell_type": "code",
   "execution_count": 0,
   "metadata": {
    "application/vnd.databricks.v1+cell": {
     "cellMetadata": {
      "byteLimit": 2048000,
      "rowLimit": 10000
     },
     "inputWidgets": {},
     "nuid": "f1dfb840-d045-496b-89e1-cfc6651977b5",
     "showTitle": false,
     "tableResultSettingsMap": {},
     "title": ""
    }
   },
   "outputs": [
    {
     "output_type": "display_data",
     "data": {
      "text/html": [
       "<style scoped>\n",
       "  .table-result-container {\n",
       "    max-height: 300px;\n",
       "    overflow: auto;\n",
       "  }\n",
       "  table, th, td {\n",
       "    border: 1px solid black;\n",
       "    border-collapse: collapse;\n",
       "  }\n",
       "  th, td {\n",
       "    padding: 5px;\n",
       "  }\n",
       "  th {\n",
       "    text-align: left;\n",
       "  }\n",
       "</style><div class='table-result-container'><table class='table-result'><thead style='background-color: white'><tr><th>action</th><th>window</th><th>count</th></tr></thead><tbody><tr><td>Open</td><td>List(2016-07-26T18:00:00.000+0000, 2016-07-26T19:00:00.000+0000)</td><td>1004</td></tr><tr><td>Open</td><td>List(2016-07-27T04:00:00.000+0000, 2016-07-27T05:00:00.000+0000)</td><td>995</td></tr><tr><td>Open</td><td>List(2016-07-27T05:00:00.000+0000, 2016-07-27T06:00:00.000+0000)</td><td>986</td></tr><tr><td>Open</td><td>List(2016-07-26T05:00:00.000+0000, 2016-07-26T06:00:00.000+0000)</td><td>1000</td></tr><tr><td>Open</td><td>List(2016-07-26T11:00:00.000+0000, 2016-07-26T12:00:00.000+0000)</td><td>991</td></tr><tr><td>Open</td><td>List(2016-07-26T10:00:00.000+0000, 2016-07-26T11:00:00.000+0000)</td><td>1007</td></tr><tr><td>Open</td><td>List(2016-07-27T07:00:00.000+0000, 2016-07-27T08:00:00.000+0000)</td><td>998</td></tr><tr><td>Open</td><td>List(2016-07-27T18:00:00.000+0000, 2016-07-27T19:00:00.000+0000)</td><td>995</td></tr><tr><td>Open</td><td>List(2016-07-27T19:00:00.000+0000, 2016-07-27T20:00:00.000+0000)</td><td>1007</td></tr><tr><td>Open</td><td>List(2016-07-28T03:00:00.000+0000, 2016-07-28T04:00:00.000+0000)</td><td>996</td></tr><tr><td>Open</td><td>List(2016-07-27T11:00:00.000+0000, 2016-07-27T12:00:00.000+0000)</td><td>998</td></tr><tr><td>Open</td><td>List(2016-07-28T04:00:00.000+0000, 2016-07-28T05:00:00.000+0000)</td><td>825</td></tr><tr><td>Open</td><td>List(2016-07-26T19:00:00.000+0000, 2016-07-26T20:00:00.000+0000)</td><td>998</td></tr><tr><td>Open</td><td>List(2016-07-27T06:00:00.000+0000, 2016-07-27T07:00:00.000+0000)</td><td>1016</td></tr><tr><td>Open</td><td>List(2016-07-27T21:00:00.000+0000, 2016-07-27T22:00:00.000+0000)</td><td>998</td></tr><tr><td>Open</td><td>List(2016-07-27T16:00:00.000+0000, 2016-07-27T17:00:00.000+0000)</td><td>992</td></tr><tr><td>Open</td><td>List(2016-07-27T10:00:00.000+0000, 2016-07-27T11:00:00.000+0000)</td><td>1006</td></tr><tr><td>Open</td><td>List(2016-07-26T13:00:00.000+0000, 2016-07-26T14:00:00.000+0000)</td><td>1006</td></tr><tr><td>Open</td><td>List(2016-07-27T17:00:00.000+0000, 2016-07-27T18:00:00.000+0000)</td><td>1007</td></tr><tr><td>Open</td><td>List(2016-07-26T15:00:00.000+0000, 2016-07-26T16:00:00.000+0000)</td><td>1020</td></tr><tr><td>Open</td><td>List(2016-07-27T12:00:00.000+0000, 2016-07-27T13:00:00.000+0000)</td><td>994</td></tr><tr><td>Open</td><td>List(2016-07-26T04:00:00.000+0000, 2016-07-26T05:00:00.000+0000)</td><td>999</td></tr><tr><td>Open</td><td>List(2016-07-26T07:00:00.000+0000, 2016-07-26T08:00:00.000+0000)</td><td>1008</td></tr><tr><td>Open</td><td>List(2016-07-26T20:00:00.000+0000, 2016-07-26T21:00:00.000+0000)</td><td>1010</td></tr><tr><td>Open</td><td>List(2016-07-27T01:00:00.000+0000, 2016-07-27T02:00:00.000+0000)</td><td>1004</td></tr><tr><td>Open</td><td>List(2016-07-27T02:00:00.000+0000, 2016-07-27T03:00:00.000+0000)</td><td>992</td></tr><tr><td>Open</td><td>List(2016-07-27T00:00:00.000+0000, 2016-07-27T01:00:00.000+0000)</td><td>998</td></tr><tr><td>Open</td><td>List(2016-07-27T03:00:00.000+0000, 2016-07-27T04:00:00.000+0000)</td><td>1014</td></tr><tr><td>Open</td><td>List(2016-07-27T14:00:00.000+0000, 2016-07-27T15:00:00.000+0000)</td><td>984</td></tr><tr><td>Open</td><td>List(2016-07-26T14:00:00.000+0000, 2016-07-26T15:00:00.000+0000)</td><td>991</td></tr><tr><td>Open</td><td>List(2016-07-26T12:00:00.000+0000, 2016-07-26T13:00:00.000+0000)</td><td>996</td></tr><tr><td>Open</td><td>List(2016-07-28T02:00:00.000+0000, 2016-07-28T03:00:00.000+0000)</td><td>1000</td></tr><tr><td>Open</td><td>List(2016-07-26T23:00:00.000+0000, 2016-07-27T00:00:00.000+0000)</td><td>1000</td></tr><tr><td>Open</td><td>List(2016-07-26T16:00:00.000+0000, 2016-07-26T17:00:00.000+0000)</td><td>992</td></tr><tr><td>Open</td><td>List(2016-07-26T22:00:00.000+0000, 2016-07-26T23:00:00.000+0000)</td><td>997</td></tr><tr><td>Open</td><td>List(2016-07-26T03:00:00.000+0000, 2016-07-26T04:00:00.000+0000)</td><td>1001</td></tr><tr><td>Open</td><td>List(2016-07-26T06:00:00.000+0000, 2016-07-26T07:00:00.000+0000)</td><td>993</td></tr><tr><td>Open</td><td>List(2016-07-26T21:00:00.000+0000, 2016-07-26T22:00:00.000+0000)</td><td>998</td></tr><tr><td>Open</td><td>List(2016-07-27T13:00:00.000+0000, 2016-07-27T14:00:00.000+0000)</td><td>1008</td></tr><tr><td>Open</td><td>List(2016-07-27T08:00:00.000+0000, 2016-07-27T09:00:00.000+0000)</td><td>1002</td></tr><tr><td>Open</td><td>List(2016-07-27T15:00:00.000+0000, 2016-07-27T16:00:00.000+0000)</td><td>1017</td></tr><tr><td>Open</td><td>List(2016-07-28T01:00:00.000+0000, 2016-07-28T02:00:00.000+0000)</td><td>1001</td></tr><tr><td>Open</td><td>List(2016-07-27T20:00:00.000+0000, 2016-07-27T21:00:00.000+0000)</td><td>1005</td></tr><tr><td>Open</td><td>List(2016-07-28T00:00:00.000+0000, 2016-07-28T01:00:00.000+0000)</td><td>1000</td></tr><tr><td>Open</td><td>List(2016-07-26T02:00:00.000+0000, 2016-07-26T03:00:00.000+0000)</td><td>179</td></tr><tr><td>Open</td><td>List(2016-07-27T22:00:00.000+0000, 2016-07-27T23:00:00.000+0000)</td><td>986</td></tr><tr><td>Open</td><td>List(2016-07-26T17:00:00.000+0000, 2016-07-26T18:00:00.000+0000)</td><td>990</td></tr><tr><td>Open</td><td>List(2016-07-26T08:00:00.000+0000, 2016-07-26T09:00:00.000+0000)</td><td>996</td></tr><tr><td>Open</td><td>List(2016-07-27T09:00:00.000+0000, 2016-07-27T10:00:00.000+0000)</td><td>992</td></tr><tr><td>Open</td><td>List(2016-07-27T23:00:00.000+0000, 2016-07-28T00:00:00.000+0000)</td><td>1008</td></tr><tr><td>Open</td><td>List(2016-07-26T09:00:00.000+0000, 2016-07-26T10:00:00.000+0000)</td><td>1000</td></tr></tbody></table></div>"
      ]
     },
     "metadata": {
      "application/vnd.databricks.v1+output": {
       "addedWidgets": {},
       "aggData": [],
       "aggError": "",
       "aggOverflow": false,
       "aggSchema": [],
       "aggSeriesLimitReached": false,
       "aggType": "",
       "arguments": {},
       "columnCustomDisplayInfos": {},
       "data": [
        [
         "Open",
         [
          "2016-07-26T18:00:00.000+0000",
          "2016-07-26T19:00:00.000+0000"
         ],
         1004
        ],
        [
         "Open",
         [
          "2016-07-27T04:00:00.000+0000",
          "2016-07-27T05:00:00.000+0000"
         ],
         995
        ],
        [
         "Open",
         [
          "2016-07-27T05:00:00.000+0000",
          "2016-07-27T06:00:00.000+0000"
         ],
         986
        ],
        [
         "Open",
         [
          "2016-07-26T05:00:00.000+0000",
          "2016-07-26T06:00:00.000+0000"
         ],
         1000
        ],
        [
         "Open",
         [
          "2016-07-26T11:00:00.000+0000",
          "2016-07-26T12:00:00.000+0000"
         ],
         991
        ],
        [
         "Open",
         [
          "2016-07-26T10:00:00.000+0000",
          "2016-07-26T11:00:00.000+0000"
         ],
         1007
        ],
        [
         "Open",
         [
          "2016-07-27T07:00:00.000+0000",
          "2016-07-27T08:00:00.000+0000"
         ],
         998
        ],
        [
         "Open",
         [
          "2016-07-27T18:00:00.000+0000",
          "2016-07-27T19:00:00.000+0000"
         ],
         995
        ],
        [
         "Open",
         [
          "2016-07-27T19:00:00.000+0000",
          "2016-07-27T20:00:00.000+0000"
         ],
         1007
        ],
        [
         "Open",
         [
          "2016-07-28T03:00:00.000+0000",
          "2016-07-28T04:00:00.000+0000"
         ],
         996
        ],
        [
         "Open",
         [
          "2016-07-27T11:00:00.000+0000",
          "2016-07-27T12:00:00.000+0000"
         ],
         998
        ],
        [
         "Open",
         [
          "2016-07-28T04:00:00.000+0000",
          "2016-07-28T05:00:00.000+0000"
         ],
         825
        ],
        [
         "Open",
         [
          "2016-07-26T19:00:00.000+0000",
          "2016-07-26T20:00:00.000+0000"
         ],
         998
        ],
        [
         "Open",
         [
          "2016-07-27T06:00:00.000+0000",
          "2016-07-27T07:00:00.000+0000"
         ],
         1016
        ],
        [
         "Open",
         [
          "2016-07-27T21:00:00.000+0000",
          "2016-07-27T22:00:00.000+0000"
         ],
         998
        ],
        [
         "Open",
         [
          "2016-07-27T16:00:00.000+0000",
          "2016-07-27T17:00:00.000+0000"
         ],
         992
        ],
        [
         "Open",
         [
          "2016-07-27T10:00:00.000+0000",
          "2016-07-27T11:00:00.000+0000"
         ],
         1006
        ],
        [
         "Open",
         [
          "2016-07-26T13:00:00.000+0000",
          "2016-07-26T14:00:00.000+0000"
         ],
         1006
        ],
        [
         "Open",
         [
          "2016-07-27T17:00:00.000+0000",
          "2016-07-27T18:00:00.000+0000"
         ],
         1007
        ],
        [
         "Open",
         [
          "2016-07-26T15:00:00.000+0000",
          "2016-07-26T16:00:00.000+0000"
         ],
         1020
        ],
        [
         "Open",
         [
          "2016-07-27T12:00:00.000+0000",
          "2016-07-27T13:00:00.000+0000"
         ],
         994
        ],
        [
         "Open",
         [
          "2016-07-26T04:00:00.000+0000",
          "2016-07-26T05:00:00.000+0000"
         ],
         999
        ],
        [
         "Open",
         [
          "2016-07-26T07:00:00.000+0000",
          "2016-07-26T08:00:00.000+0000"
         ],
         1008
        ],
        [
         "Open",
         [
          "2016-07-26T20:00:00.000+0000",
          "2016-07-26T21:00:00.000+0000"
         ],
         1010
        ],
        [
         "Open",
         [
          "2016-07-27T01:00:00.000+0000",
          "2016-07-27T02:00:00.000+0000"
         ],
         1004
        ],
        [
         "Open",
         [
          "2016-07-27T02:00:00.000+0000",
          "2016-07-27T03:00:00.000+0000"
         ],
         992
        ],
        [
         "Open",
         [
          "2016-07-27T00:00:00.000+0000",
          "2016-07-27T01:00:00.000+0000"
         ],
         998
        ],
        [
         "Open",
         [
          "2016-07-27T03:00:00.000+0000",
          "2016-07-27T04:00:00.000+0000"
         ],
         1014
        ],
        [
         "Open",
         [
          "2016-07-27T14:00:00.000+0000",
          "2016-07-27T15:00:00.000+0000"
         ],
         984
        ],
        [
         "Open",
         [
          "2016-07-26T14:00:00.000+0000",
          "2016-07-26T15:00:00.000+0000"
         ],
         991
        ],
        [
         "Open",
         [
          "2016-07-26T12:00:00.000+0000",
          "2016-07-26T13:00:00.000+0000"
         ],
         996
        ],
        [
         "Open",
         [
          "2016-07-28T02:00:00.000+0000",
          "2016-07-28T03:00:00.000+0000"
         ],
         1000
        ],
        [
         "Open",
         [
          "2016-07-26T23:00:00.000+0000",
          "2016-07-27T00:00:00.000+0000"
         ],
         1000
        ],
        [
         "Open",
         [
          "2016-07-26T16:00:00.000+0000",
          "2016-07-26T17:00:00.000+0000"
         ],
         992
        ],
        [
         "Open",
         [
          "2016-07-26T22:00:00.000+0000",
          "2016-07-26T23:00:00.000+0000"
         ],
         997
        ],
        [
         "Open",
         [
          "2016-07-26T03:00:00.000+0000",
          "2016-07-26T04:00:00.000+0000"
         ],
         1001
        ],
        [
         "Open",
         [
          "2016-07-26T06:00:00.000+0000",
          "2016-07-26T07:00:00.000+0000"
         ],
         993
        ],
        [
         "Open",
         [
          "2016-07-26T21:00:00.000+0000",
          "2016-07-26T22:00:00.000+0000"
         ],
         998
        ],
        [
         "Open",
         [
          "2016-07-27T13:00:00.000+0000",
          "2016-07-27T14:00:00.000+0000"
         ],
         1008
        ],
        [
         "Open",
         [
          "2016-07-27T08:00:00.000+0000",
          "2016-07-27T09:00:00.000+0000"
         ],
         1002
        ],
        [
         "Open",
         [
          "2016-07-27T15:00:00.000+0000",
          "2016-07-27T16:00:00.000+0000"
         ],
         1017
        ],
        [
         "Open",
         [
          "2016-07-28T01:00:00.000+0000",
          "2016-07-28T02:00:00.000+0000"
         ],
         1001
        ],
        [
         "Open",
         [
          "2016-07-27T20:00:00.000+0000",
          "2016-07-27T21:00:00.000+0000"
         ],
         1005
        ],
        [
         "Open",
         [
          "2016-07-28T00:00:00.000+0000",
          "2016-07-28T01:00:00.000+0000"
         ],
         1000
        ],
        [
         "Open",
         [
          "2016-07-26T02:00:00.000+0000",
          "2016-07-26T03:00:00.000+0000"
         ],
         179
        ],
        [
         "Open",
         [
          "2016-07-27T22:00:00.000+0000",
          "2016-07-27T23:00:00.000+0000"
         ],
         986
        ],
        [
         "Open",
         [
          "2016-07-26T17:00:00.000+0000",
          "2016-07-26T18:00:00.000+0000"
         ],
         990
        ],
        [
         "Open",
         [
          "2016-07-26T08:00:00.000+0000",
          "2016-07-26T09:00:00.000+0000"
         ],
         996
        ],
        [
         "Open",
         [
          "2016-07-27T09:00:00.000+0000",
          "2016-07-27T10:00:00.000+0000"
         ],
         992
        ],
        [
         "Open",
         [
          "2016-07-27T23:00:00.000+0000",
          "2016-07-28T00:00:00.000+0000"
         ],
         1008
        ],
        [
         "Open",
         [
          "2016-07-26T09:00:00.000+0000",
          "2016-07-26T10:00:00.000+0000"
         ],
         1000
        ]
       ],
       "datasetInfos": [],
       "dbfsResultPath": null,
       "isJsonSchema": true,
       "metadata": {
        "isDbfsCommandResult": false
       },
       "overflow": false,
       "plotOptions": {
        "customPlotOptions": {},
        "displayType": "table",
        "pivotAggregation": null,
        "pivotColumns": null,
        "xColumns": null,
        "yColumns": null
       },
       "removedWidgets": [],
       "schema": [
        {
         "metadata": "{}",
         "name": "action",
         "type": "\"string\""
        },
        {
         "metadata": "{\"spark.timeWindow\":true}",
         "name": "window",
         "type": "{\"type\":\"struct\",\"fields\":[{\"name\":\"start\",\"type\":\"timestamp\",\"nullable\":true,\"metadata\":{}},{\"name\":\"end\",\"type\":\"timestamp\",\"nullable\":true,\"metadata\":{}}]}"
        },
        {
         "metadata": "{}",
         "name": "count",
         "type": "\"long\""
        }
       ],
       "type": "table"
      }
     },
     "output_type": "display_data"
    }
   ],
   "source": [
    "# Add aditional filter to transformed dataframe\n",
    "streamingCountsDF.filter(streamingCountsDF.action == 'Open').display()"
   ]
  },
  {
   "cell_type": "markdown",
   "metadata": {
    "application/vnd.databricks.v1+cell": {
     "cellMetadata": {},
     "inputWidgets": {},
     "nuid": "1ccbd0af-9c8c-4df2-9387-f1afc5edbcdd",
     "showTitle": false,
     "tableResultSettingsMap": {},
     "title": ""
    }
   },
   "source": [
    "As you can see, `streamingCountsDF` is a streaming Dataframe (`streamingCountsDF.isStreaming` was `true`). You can start streaming computation, by defining the sink and starting it. \n",
    "In our case, we want to interactively query the counts (same queries as above), so we will set the complete set of 1 hour counts to be in a in-memory table."
   ]
  },
  {
   "cell_type": "code",
   "execution_count": 0,
   "metadata": {
    "application/vnd.databricks.v1+cell": {
     "cellMetadata": {
      "byteLimit": 2048000,
      "rowLimit": 10000
     },
     "inputWidgets": {},
     "nuid": "fe9e4efa-f07a-4474-a76c-70ef9ba85558",
     "showTitle": false,
     "tableResultSettingsMap": {},
     "title": ""
    }
   },
   "outputs": [],
   "source": [
    "spark.conf.set(\"spark.sql.shuffle.partitions\", \"2\")  # keep the size of shuffles small\n",
    "\n",
    "query = (\n",
    "  streamingCountsDF\n",
    "    .writeStream\n",
    "    .format(\"memory\")        # memory = store in-memory table \n",
    "    .queryName(\"counts\")     # counts = name of the in-memory table\n",
    "    .outputMode(\"complete\")  # complete = all the counts should be in the table\n",
    "    #.trigger(processingTime='15 seconds')\n",
    "    .start()\n",
    ")"
   ]
  },
  {
   "cell_type": "markdown",
   "metadata": {
    "application/vnd.databricks.v1+cell": {
     "cellMetadata": {},
     "inputWidgets": {},
     "nuid": "36736a03-fed5-4173-9720-6d94659083ab",
     "showTitle": false,
     "tableResultSettingsMap": {},
     "title": ""
    }
   },
   "source": [
    "`query` is a handle to the streaming query that is running in the background. This query is continuously picking up files and updating the windowed counts. \n",
    "\n",
    "Note the status of query in the above cell. The progress bar shows that the query is active. \n",
    "Furthermore, if you expand the `> counts` above, you will find the number of files they have already processed. \n",
    "\n",
    "Let's wait a bit for a few files to be processed and then interactively query the in-memory `counts` table."
   ]
  },
  {
   "cell_type": "code",
   "execution_count": 0,
   "metadata": {
    "application/vnd.databricks.v1+cell": {
     "cellMetadata": {
      "byteLimit": 2048000,
      "implicitDf": true,
      "rowLimit": 10000
     },
     "inputWidgets": {},
     "nuid": "720ce02f-6311-4edd-ac40-99ce95dce00b",
     "showTitle": false,
     "tableResultSettingsMap": {},
     "title": ""
    }
   },
   "outputs": [
    {
     "output_type": "display_data",
     "data": {
      "text/html": [
       "<style scoped>\n",
       "  .table-result-container {\n",
       "    max-height: 300px;\n",
       "    overflow: auto;\n",
       "  }\n",
       "  table, th, td {\n",
       "    border: 1px solid black;\n",
       "    border-collapse: collapse;\n",
       "  }\n",
       "  th, td {\n",
       "    padding: 5px;\n",
       "  }\n",
       "  th {\n",
       "    text-align: left;\n",
       "  }\n",
       "</style><div class='table-result-container'><table class='table-result'><thead style='background-color: white'><tr><th>action</th><th>window</th><th>count</th></tr></thead><tbody><tr><td>Open</td><td>List(2016-07-26T12:00:00.000+0000, 2016-07-26T13:00:00.000+0000)</td><td>996</td></tr><tr><td>Open</td><td>List(2016-07-27T11:00:00.000+0000, 2016-07-27T12:00:00.000+0000)</td><td>312</td></tr><tr><td>Close</td><td>List(2016-07-27T01:00:00.000+0000, 2016-07-27T02:00:00.000+0000)</td><td>1013</td></tr><tr><td>Close</td><td>List(2016-07-27T09:00:00.000+0000, 2016-07-27T10:00:00.000+0000)</td><td>990</td></tr><tr><td>Close</td><td>List(2016-07-27T00:00:00.000+0000, 2016-07-27T01:00:00.000+0000)</td><td>1008</td></tr><tr><td>Close</td><td>List(2016-07-26T06:00:00.000+0000, 2016-07-26T07:00:00.000+0000)</td><td>1011</td></tr><tr><td>Open</td><td>List(2016-07-26T22:00:00.000+0000, 2016-07-26T23:00:00.000+0000)</td><td>997</td></tr><tr><td>Close</td><td>List(2016-07-27T10:00:00.000+0000, 2016-07-27T11:00:00.000+0000)</td><td>1001</td></tr><tr><td>Close</td><td>List(2016-07-26T14:00:00.000+0000, 2016-07-26T15:00:00.000+0000)</td><td>994</td></tr><tr><td>Close</td><td>List(2016-07-26T05:00:00.000+0000, 2016-07-26T06:00:00.000+0000)</td><td>1003</td></tr><tr><td>Close</td><td>List(2016-07-26T21:00:00.000+0000, 2016-07-26T22:00:00.000+0000)</td><td>995</td></tr><tr><td>Close</td><td>List(2016-07-26T23:00:00.000+0000, 2016-07-27T00:00:00.000+0000)</td><td>950</td></tr><tr><td>Open</td><td>List(2016-07-27T06:00:00.000+0000, 2016-07-27T07:00:00.000+0000)</td><td>1016</td></tr><tr><td>Close</td><td>List(2016-07-26T17:00:00.000+0000, 2016-07-26T18:00:00.000+0000)</td><td>1036</td></tr><tr><td>Open</td><td>List(2016-07-27T01:00:00.000+0000, 2016-07-27T02:00:00.000+0000)</td><td>1004</td></tr><tr><td>Close</td><td>List(2016-07-26T20:00:00.000+0000, 2016-07-26T21:00:00.000+0000)</td><td>1035</td></tr><tr><td>Close</td><td>List(2016-07-26T16:00:00.000+0000, 2016-07-26T17:00:00.000+0000)</td><td>984</td></tr><tr><td>Close</td><td>List(2016-07-26T04:00:00.000+0000, 2016-07-26T05:00:00.000+0000)</td><td>815</td></tr><tr><td>Close</td><td>List(2016-07-26T07:00:00.000+0000, 2016-07-26T08:00:00.000+0000)</td><td>989</td></tr><tr><td>Open</td><td>List(2016-07-26T23:00:00.000+0000, 2016-07-27T00:00:00.000+0000)</td><td>1000</td></tr><tr><td>Open</td><td>List(2016-07-27T10:00:00.000+0000, 2016-07-27T11:00:00.000+0000)</td><td>1006</td></tr><tr><td>Close</td><td>List(2016-07-27T07:00:00.000+0000, 2016-07-27T08:00:00.000+0000)</td><td>982</td></tr><tr><td>Close</td><td>List(2016-07-26T15:00:00.000+0000, 2016-07-26T16:00:00.000+0000)</td><td>988</td></tr><tr><td>Close</td><td>List(2016-07-27T05:00:00.000+0000, 2016-07-27T06:00:00.000+0000)</td><td>987</td></tr><tr><td>Open</td><td>List(2016-07-26T13:00:00.000+0000, 2016-07-26T14:00:00.000+0000)</td><td>1006</td></tr><tr><td>Open</td><td>List(2016-07-27T04:00:00.000+0000, 2016-07-27T05:00:00.000+0000)</td><td>995</td></tr><tr><td>Open</td><td>List(2016-07-26T02:00:00.000+0000, 2016-07-26T03:00:00.000+0000)</td><td>179</td></tr><tr><td>Open</td><td>List(2016-07-26T09:00:00.000+0000, 2016-07-26T10:00:00.000+0000)</td><td>1000</td></tr><tr><td>Close</td><td>List(2016-07-26T08:00:00.000+0000, 2016-07-26T09:00:00.000+0000)</td><td>985</td></tr><tr><td>Close</td><td>List(2016-07-26T19:00:00.000+0000, 2016-07-26T20:00:00.000+0000)</td><td>967</td></tr><tr><td>Open</td><td>List(2016-07-26T07:00:00.000+0000, 2016-07-26T08:00:00.000+0000)</td><td>1008</td></tr><tr><td>Close</td><td>List(2016-07-26T13:00:00.000+0000, 2016-07-26T14:00:00.000+0000)</td><td>1028</td></tr><tr><td>Open</td><td>List(2016-07-26T14:00:00.000+0000, 2016-07-26T15:00:00.000+0000)</td><td>991</td></tr><tr><td>Open</td><td>List(2016-07-27T05:00:00.000+0000, 2016-07-27T06:00:00.000+0000)</td><td>986</td></tr><tr><td>Close</td><td>List(2016-07-26T10:00:00.000+0000, 2016-07-26T11:00:00.000+0000)</td><td>1022</td></tr><tr><td>Close</td><td>List(2016-07-26T02:00:00.000+0000, 2016-07-26T03:00:00.000+0000)</td><td>11</td></tr><tr><td>Close</td><td>List(2016-07-27T06:00:00.000+0000, 2016-07-27T07:00:00.000+0000)</td><td>1026</td></tr><tr><td>Close</td><td>List(2016-07-26T09:00:00.000+0000, 2016-07-26T10:00:00.000+0000)</td><td>983</td></tr><tr><td>Open</td><td>List(2016-07-26T06:00:00.000+0000, 2016-07-26T07:00:00.000+0000)</td><td>993</td></tr><tr><td>Open</td><td>List(2016-07-26T15:00:00.000+0000, 2016-07-26T16:00:00.000+0000)</td><td>1020</td></tr><tr><td>Open</td><td>List(2016-07-26T19:00:00.000+0000, 2016-07-26T20:00:00.000+0000)</td><td>998</td></tr><tr><td>Close</td><td>List(2016-07-26T12:00:00.000+0000, 2016-07-26T13:00:00.000+0000)</td><td>960</td></tr><tr><td>Open</td><td>List(2016-07-27T03:00:00.000+0000, 2016-07-27T04:00:00.000+0000)</td><td>1014</td></tr><tr><td>Open</td><td>List(2016-07-26T17:00:00.000+0000, 2016-07-26T18:00:00.000+0000)</td><td>990</td></tr><tr><td>Close</td><td>List(2016-07-26T11:00:00.000+0000, 2016-07-26T12:00:00.000+0000)</td><td>1028</td></tr><tr><td>Open</td><td>List(2016-07-26T18:00:00.000+0000, 2016-07-26T19:00:00.000+0000)</td><td>1004</td></tr><tr><td>Open</td><td>List(2016-07-27T00:00:00.000+0000, 2016-07-27T01:00:00.000+0000)</td><td>998</td></tr><tr><td>Close</td><td>List(2016-07-27T11:00:00.000+0000, 2016-07-27T12:00:00.000+0000)</td><td>328</td></tr><tr><td>Open</td><td>List(2016-07-26T11:00:00.000+0000, 2016-07-26T12:00:00.000+0000)</td><td>991</td></tr><tr><td>Open</td><td>List(2016-07-26T16:00:00.000+0000, 2016-07-26T17:00:00.000+0000)</td><td>992</td></tr><tr><td>Open</td><td>List(2016-07-27T07:00:00.000+0000, 2016-07-27T08:00:00.000+0000)</td><td>998</td></tr><tr><td>Close</td><td>List(2016-07-27T04:00:00.000+0000, 2016-07-27T05:00:00.000+0000)</td><td>989</td></tr><tr><td>Close</td><td>List(2016-07-27T02:00:00.000+0000, 2016-07-27T03:00:00.000+0000)</td><td>971</td></tr><tr><td>Close</td><td>List(2016-07-26T03:00:00.000+0000, 2016-07-26T04:00:00.000+0000)</td><td>344</td></tr><tr><td>Open</td><td>List(2016-07-26T10:00:00.000+0000, 2016-07-26T11:00:00.000+0000)</td><td>1007</td></tr><tr><td>Open</td><td>List(2016-07-26T08:00:00.000+0000, 2016-07-26T09:00:00.000+0000)</td><td>996</td></tr><tr><td>Open</td><td>List(2016-07-26T05:00:00.000+0000, 2016-07-26T06:00:00.000+0000)</td><td>1000</td></tr><tr><td>Open</td><td>List(2016-07-26T20:00:00.000+0000, 2016-07-26T21:00:00.000+0000)</td><td>1010</td></tr><tr><td>Open</td><td>List(2016-07-27T09:00:00.000+0000, 2016-07-27T10:00:00.000+0000)</td><td>992</td></tr><tr><td>Open</td><td>List(2016-07-27T02:00:00.000+0000, 2016-07-27T03:00:00.000+0000)</td><td>992</td></tr><tr><td>Close</td><td>List(2016-07-27T08:00:00.000+0000, 2016-07-27T09:00:00.000+0000)</td><td>1024</td></tr><tr><td>Close</td><td>List(2016-07-26T18:00:00.000+0000, 2016-07-26T19:00:00.000+0000)</td><td>1001</td></tr><tr><td>Open</td><td>List(2016-07-27T08:00:00.000+0000, 2016-07-27T09:00:00.000+0000)</td><td>1002</td></tr><tr><td>Close</td><td>List(2016-07-26T22:00:00.000+0000, 2016-07-26T23:00:00.000+0000)</td><td>1036</td></tr><tr><td>Open</td><td>List(2016-07-26T21:00:00.000+0000, 2016-07-26T22:00:00.000+0000)</td><td>998</td></tr><tr><td>Open</td><td>List(2016-07-26T03:00:00.000+0000, 2016-07-26T04:00:00.000+0000)</td><td>1001</td></tr><tr><td>Close</td><td>List(2016-07-27T03:00:00.000+0000, 2016-07-27T04:00:00.000+0000)</td><td>1025</td></tr><tr><td>Open</td><td>List(2016-07-26T04:00:00.000+0000, 2016-07-26T05:00:00.000+0000)</td><td>999</td></tr></tbody></table></div>"
      ]
     },
     "metadata": {
      "application/vnd.databricks.v1+output": {
       "addedWidgets": {},
       "aggData": [],
       "aggError": "",
       "aggOverflow": false,
       "aggSchema": [],
       "aggSeriesLimitReached": false,
       "aggType": "",
       "arguments": {},
       "columnCustomDisplayInfos": {},
       "data": [
        [
         "Open",
         [
          "2016-07-26T12:00:00.000+0000",
          "2016-07-26T13:00:00.000+0000"
         ],
         996
        ],
        [
         "Open",
         [
          "2016-07-27T11:00:00.000+0000",
          "2016-07-27T12:00:00.000+0000"
         ],
         312
        ],
        [
         "Close",
         [
          "2016-07-27T01:00:00.000+0000",
          "2016-07-27T02:00:00.000+0000"
         ],
         1013
        ],
        [
         "Close",
         [
          "2016-07-27T09:00:00.000+0000",
          "2016-07-27T10:00:00.000+0000"
         ],
         990
        ],
        [
         "Close",
         [
          "2016-07-27T00:00:00.000+0000",
          "2016-07-27T01:00:00.000+0000"
         ],
         1008
        ],
        [
         "Close",
         [
          "2016-07-26T06:00:00.000+0000",
          "2016-07-26T07:00:00.000+0000"
         ],
         1011
        ],
        [
         "Open",
         [
          "2016-07-26T22:00:00.000+0000",
          "2016-07-26T23:00:00.000+0000"
         ],
         997
        ],
        [
         "Close",
         [
          "2016-07-27T10:00:00.000+0000",
          "2016-07-27T11:00:00.000+0000"
         ],
         1001
        ],
        [
         "Close",
         [
          "2016-07-26T14:00:00.000+0000",
          "2016-07-26T15:00:00.000+0000"
         ],
         994
        ],
        [
         "Close",
         [
          "2016-07-26T05:00:00.000+0000",
          "2016-07-26T06:00:00.000+0000"
         ],
         1003
        ],
        [
         "Close",
         [
          "2016-07-26T21:00:00.000+0000",
          "2016-07-26T22:00:00.000+0000"
         ],
         995
        ],
        [
         "Close",
         [
          "2016-07-26T23:00:00.000+0000",
          "2016-07-27T00:00:00.000+0000"
         ],
         950
        ],
        [
         "Open",
         [
          "2016-07-27T06:00:00.000+0000",
          "2016-07-27T07:00:00.000+0000"
         ],
         1016
        ],
        [
         "Close",
         [
          "2016-07-26T17:00:00.000+0000",
          "2016-07-26T18:00:00.000+0000"
         ],
         1036
        ],
        [
         "Open",
         [
          "2016-07-27T01:00:00.000+0000",
          "2016-07-27T02:00:00.000+0000"
         ],
         1004
        ],
        [
         "Close",
         [
          "2016-07-26T20:00:00.000+0000",
          "2016-07-26T21:00:00.000+0000"
         ],
         1035
        ],
        [
         "Close",
         [
          "2016-07-26T16:00:00.000+0000",
          "2016-07-26T17:00:00.000+0000"
         ],
         984
        ],
        [
         "Close",
         [
          "2016-07-26T04:00:00.000+0000",
          "2016-07-26T05:00:00.000+0000"
         ],
         815
        ],
        [
         "Close",
         [
          "2016-07-26T07:00:00.000+0000",
          "2016-07-26T08:00:00.000+0000"
         ],
         989
        ],
        [
         "Open",
         [
          "2016-07-26T23:00:00.000+0000",
          "2016-07-27T00:00:00.000+0000"
         ],
         1000
        ],
        [
         "Open",
         [
          "2016-07-27T10:00:00.000+0000",
          "2016-07-27T11:00:00.000+0000"
         ],
         1006
        ],
        [
         "Close",
         [
          "2016-07-27T07:00:00.000+0000",
          "2016-07-27T08:00:00.000+0000"
         ],
         982
        ],
        [
         "Close",
         [
          "2016-07-26T15:00:00.000+0000",
          "2016-07-26T16:00:00.000+0000"
         ],
         988
        ],
        [
         "Close",
         [
          "2016-07-27T05:00:00.000+0000",
          "2016-07-27T06:00:00.000+0000"
         ],
         987
        ],
        [
         "Open",
         [
          "2016-07-26T13:00:00.000+0000",
          "2016-07-26T14:00:00.000+0000"
         ],
         1006
        ],
        [
         "Open",
         [
          "2016-07-27T04:00:00.000+0000",
          "2016-07-27T05:00:00.000+0000"
         ],
         995
        ],
        [
         "Open",
         [
          "2016-07-26T02:00:00.000+0000",
          "2016-07-26T03:00:00.000+0000"
         ],
         179
        ],
        [
         "Open",
         [
          "2016-07-26T09:00:00.000+0000",
          "2016-07-26T10:00:00.000+0000"
         ],
         1000
        ],
        [
         "Close",
         [
          "2016-07-26T08:00:00.000+0000",
          "2016-07-26T09:00:00.000+0000"
         ],
         985
        ],
        [
         "Close",
         [
          "2016-07-26T19:00:00.000+0000",
          "2016-07-26T20:00:00.000+0000"
         ],
         967
        ],
        [
         "Open",
         [
          "2016-07-26T07:00:00.000+0000",
          "2016-07-26T08:00:00.000+0000"
         ],
         1008
        ],
        [
         "Close",
         [
          "2016-07-26T13:00:00.000+0000",
          "2016-07-26T14:00:00.000+0000"
         ],
         1028
        ],
        [
         "Open",
         [
          "2016-07-26T14:00:00.000+0000",
          "2016-07-26T15:00:00.000+0000"
         ],
         991
        ],
        [
         "Open",
         [
          "2016-07-27T05:00:00.000+0000",
          "2016-07-27T06:00:00.000+0000"
         ],
         986
        ],
        [
         "Close",
         [
          "2016-07-26T10:00:00.000+0000",
          "2016-07-26T11:00:00.000+0000"
         ],
         1022
        ],
        [
         "Close",
         [
          "2016-07-26T02:00:00.000+0000",
          "2016-07-26T03:00:00.000+0000"
         ],
         11
        ],
        [
         "Close",
         [
          "2016-07-27T06:00:00.000+0000",
          "2016-07-27T07:00:00.000+0000"
         ],
         1026
        ],
        [
         "Close",
         [
          "2016-07-26T09:00:00.000+0000",
          "2016-07-26T10:00:00.000+0000"
         ],
         983
        ],
        [
         "Open",
         [
          "2016-07-26T06:00:00.000+0000",
          "2016-07-26T07:00:00.000+0000"
         ],
         993
        ],
        [
         "Open",
         [
          "2016-07-26T15:00:00.000+0000",
          "2016-07-26T16:00:00.000+0000"
         ],
         1020
        ],
        [
         "Open",
         [
          "2016-07-26T19:00:00.000+0000",
          "2016-07-26T20:00:00.000+0000"
         ],
         998
        ],
        [
         "Close",
         [
          "2016-07-26T12:00:00.000+0000",
          "2016-07-26T13:00:00.000+0000"
         ],
         960
        ],
        [
         "Open",
         [
          "2016-07-27T03:00:00.000+0000",
          "2016-07-27T04:00:00.000+0000"
         ],
         1014
        ],
        [
         "Open",
         [
          "2016-07-26T17:00:00.000+0000",
          "2016-07-26T18:00:00.000+0000"
         ],
         990
        ],
        [
         "Close",
         [
          "2016-07-26T11:00:00.000+0000",
          "2016-07-26T12:00:00.000+0000"
         ],
         1028
        ],
        [
         "Open",
         [
          "2016-07-26T18:00:00.000+0000",
          "2016-07-26T19:00:00.000+0000"
         ],
         1004
        ],
        [
         "Open",
         [
          "2016-07-27T00:00:00.000+0000",
          "2016-07-27T01:00:00.000+0000"
         ],
         998
        ],
        [
         "Close",
         [
          "2016-07-27T11:00:00.000+0000",
          "2016-07-27T12:00:00.000+0000"
         ],
         328
        ],
        [
         "Open",
         [
          "2016-07-26T11:00:00.000+0000",
          "2016-07-26T12:00:00.000+0000"
         ],
         991
        ],
        [
         "Open",
         [
          "2016-07-26T16:00:00.000+0000",
          "2016-07-26T17:00:00.000+0000"
         ],
         992
        ],
        [
         "Open",
         [
          "2016-07-27T07:00:00.000+0000",
          "2016-07-27T08:00:00.000+0000"
         ],
         998
        ],
        [
         "Close",
         [
          "2016-07-27T04:00:00.000+0000",
          "2016-07-27T05:00:00.000+0000"
         ],
         989
        ],
        [
         "Close",
         [
          "2016-07-27T02:00:00.000+0000",
          "2016-07-27T03:00:00.000+0000"
         ],
         971
        ],
        [
         "Close",
         [
          "2016-07-26T03:00:00.000+0000",
          "2016-07-26T04:00:00.000+0000"
         ],
         344
        ],
        [
         "Open",
         [
          "2016-07-26T10:00:00.000+0000",
          "2016-07-26T11:00:00.000+0000"
         ],
         1007
        ],
        [
         "Open",
         [
          "2016-07-26T08:00:00.000+0000",
          "2016-07-26T09:00:00.000+0000"
         ],
         996
        ],
        [
         "Open",
         [
          "2016-07-26T05:00:00.000+0000",
          "2016-07-26T06:00:00.000+0000"
         ],
         1000
        ],
        [
         "Open",
         [
          "2016-07-26T20:00:00.000+0000",
          "2016-07-26T21:00:00.000+0000"
         ],
         1010
        ],
        [
         "Open",
         [
          "2016-07-27T09:00:00.000+0000",
          "2016-07-27T10:00:00.000+0000"
         ],
         992
        ],
        [
         "Open",
         [
          "2016-07-27T02:00:00.000+0000",
          "2016-07-27T03:00:00.000+0000"
         ],
         992
        ],
        [
         "Close",
         [
          "2016-07-27T08:00:00.000+0000",
          "2016-07-27T09:00:00.000+0000"
         ],
         1024
        ],
        [
         "Close",
         [
          "2016-07-26T18:00:00.000+0000",
          "2016-07-26T19:00:00.000+0000"
         ],
         1001
        ],
        [
         "Open",
         [
          "2016-07-27T08:00:00.000+0000",
          "2016-07-27T09:00:00.000+0000"
         ],
         1002
        ],
        [
         "Close",
         [
          "2016-07-26T22:00:00.000+0000",
          "2016-07-26T23:00:00.000+0000"
         ],
         1036
        ],
        [
         "Open",
         [
          "2016-07-26T21:00:00.000+0000",
          "2016-07-26T22:00:00.000+0000"
         ],
         998
        ],
        [
         "Open",
         [
          "2016-07-26T03:00:00.000+0000",
          "2016-07-26T04:00:00.000+0000"
         ],
         1001
        ],
        [
         "Close",
         [
          "2016-07-27T03:00:00.000+0000",
          "2016-07-27T04:00:00.000+0000"
         ],
         1025
        ],
        [
         "Open",
         [
          "2016-07-26T04:00:00.000+0000",
          "2016-07-26T05:00:00.000+0000"
         ],
         999
        ]
       ],
       "datasetInfos": [],
       "dbfsResultPath": null,
       "isJsonSchema": true,
       "metadata": {},
       "overflow": false,
       "plotOptions": {
        "customPlotOptions": {},
        "displayType": "table",
        "pivotAggregation": null,
        "pivotColumns": null,
        "xColumns": null,
        "yColumns": null
       },
       "removedWidgets": [],
       "schema": [
        {
         "metadata": "{}",
         "name": "action",
         "type": "\"string\""
        },
        {
         "metadata": "{\"spark.timeWindow\":true}",
         "name": "window",
         "type": "{\"type\":\"struct\",\"fields\":[{\"name\":\"start\",\"type\":\"timestamp\",\"nullable\":true,\"metadata\":{}},{\"name\":\"end\",\"type\":\"timestamp\",\"nullable\":true,\"metadata\":{}}]}"
        },
        {
         "metadata": "{}",
         "name": "count",
         "type": "\"long\""
        }
       ],
       "type": "table"
      }
     },
     "output_type": "display_data"
    }
   ],
   "source": [
    "%sql\n",
    "SELECT *\n",
    "FROM counts"
   ]
  },
  {
   "cell_type": "code",
   "execution_count": 0,
   "metadata": {
    "application/vnd.databricks.v1+cell": {
     "cellMetadata": {
      "byteLimit": 2048000,
      "rowLimit": 10000
     },
     "inputWidgets": {},
     "nuid": "fc5b6fc1-f142-4ff8-98de-e719c9405b40",
     "showTitle": false,
     "tableResultSettingsMap": {},
     "title": ""
    }
   },
   "outputs": [],
   "source": [
    "from time import sleep\n",
    "sleep(5)  # wait a bit for computation to start"
   ]
  },
  {
   "cell_type": "code",
   "execution_count": 0,
   "metadata": {
    "application/vnd.databricks.v1+cell": {
     "cellMetadata": {
      "byteLimit": 2048000,
      "implicitDf": true,
      "rowLimit": 10000
     },
     "inputWidgets": {},
     "nuid": "6fee0151-474e-44c5-90ae-24bd154dde16",
     "showTitle": false,
     "tableResultSettingsMap": {},
     "title": ""
    }
   },
   "outputs": [
    {
     "output_type": "display_data",
     "data": {
      "text/html": [
       "<style scoped>\n",
       "  .table-result-container {\n",
       "    max-height: 300px;\n",
       "    overflow: auto;\n",
       "  }\n",
       "  table, th, td {\n",
       "    border: 1px solid black;\n",
       "    border-collapse: collapse;\n",
       "  }\n",
       "  th, td {\n",
       "    padding: 5px;\n",
       "  }\n",
       "  th {\n",
       "    text-align: left;\n",
       "  }\n",
       "</style><div class='table-result-container'><table class='table-result'><thead style='background-color: white'><tr><th>action</th><th>time</th><th>count</th></tr></thead><tbody><tr><td>Close</td><td>Jul-26 03:00</td><td>11</td></tr><tr><td>Open</td><td>Jul-26 03:00</td><td>179</td></tr><tr><td>Close</td><td>Jul-26 04:00</td><td>344</td></tr><tr><td>Open</td><td>Jul-26 04:00</td><td>1001</td></tr><tr><td>Close</td><td>Jul-26 05:00</td><td>815</td></tr><tr><td>Open</td><td>Jul-26 05:00</td><td>999</td></tr><tr><td>Close</td><td>Jul-26 06:00</td><td>1003</td></tr><tr><td>Open</td><td>Jul-26 06:00</td><td>1000</td></tr><tr><td>Close</td><td>Jul-26 07:00</td><td>1011</td></tr><tr><td>Open</td><td>Jul-26 07:00</td><td>993</td></tr><tr><td>Close</td><td>Jul-26 08:00</td><td>989</td></tr><tr><td>Open</td><td>Jul-26 08:00</td><td>1008</td></tr><tr><td>Close</td><td>Jul-26 09:00</td><td>985</td></tr><tr><td>Open</td><td>Jul-26 09:00</td><td>996</td></tr><tr><td>Close</td><td>Jul-26 10:00</td><td>983</td></tr><tr><td>Open</td><td>Jul-26 10:00</td><td>1000</td></tr><tr><td>Close</td><td>Jul-26 11:00</td><td>1022</td></tr><tr><td>Open</td><td>Jul-26 11:00</td><td>1007</td></tr><tr><td>Close</td><td>Jul-26 12:00</td><td>1028</td></tr><tr><td>Open</td><td>Jul-26 12:00</td><td>991</td></tr><tr><td>Close</td><td>Jul-26 13:00</td><td>960</td></tr><tr><td>Open</td><td>Jul-26 13:00</td><td>996</td></tr><tr><td>Close</td><td>Jul-26 14:00</td><td>1028</td></tr><tr><td>Open</td><td>Jul-26 14:00</td><td>1006</td></tr><tr><td>Close</td><td>Jul-26 15:00</td><td>994</td></tr><tr><td>Open</td><td>Jul-26 15:00</td><td>991</td></tr><tr><td>Close</td><td>Jul-26 16:00</td><td>988</td></tr><tr><td>Open</td><td>Jul-26 16:00</td><td>1020</td></tr><tr><td>Close</td><td>Jul-26 17:00</td><td>984</td></tr><tr><td>Open</td><td>Jul-26 17:00</td><td>992</td></tr><tr><td>Close</td><td>Jul-26 18:00</td><td>1036</td></tr><tr><td>Open</td><td>Jul-26 18:00</td><td>990</td></tr><tr><td>Close</td><td>Jul-26 19:00</td><td>1001</td></tr><tr><td>Open</td><td>Jul-26 19:00</td><td>1004</td></tr><tr><td>Close</td><td>Jul-26 20:00</td><td>967</td></tr><tr><td>Open</td><td>Jul-26 20:00</td><td>998</td></tr><tr><td>Close</td><td>Jul-26 21:00</td><td>1035</td></tr><tr><td>Open</td><td>Jul-26 21:00</td><td>1010</td></tr><tr><td>Close</td><td>Jul-26 22:00</td><td>995</td></tr><tr><td>Open</td><td>Jul-26 22:00</td><td>998</td></tr><tr><td>Close</td><td>Jul-26 23:00</td><td>1036</td></tr><tr><td>Open</td><td>Jul-26 23:00</td><td>997</td></tr><tr><td>Close</td><td>Jul-27 00:00</td><td>950</td></tr><tr><td>Open</td><td>Jul-27 00:00</td><td>1000</td></tr><tr><td>Close</td><td>Jul-27 01:00</td><td>1008</td></tr><tr><td>Open</td><td>Jul-27 01:00</td><td>998</td></tr><tr><td>Close</td><td>Jul-27 02:00</td><td>1013</td></tr><tr><td>Open</td><td>Jul-27 02:00</td><td>1004</td></tr><tr><td>Close</td><td>Jul-27 03:00</td><td>971</td></tr><tr><td>Open</td><td>Jul-27 03:00</td><td>992</td></tr><tr><td>Close</td><td>Jul-27 04:00</td><td>1025</td></tr><tr><td>Open</td><td>Jul-27 04:00</td><td>1014</td></tr><tr><td>Close</td><td>Jul-27 05:00</td><td>989</td></tr><tr><td>Open</td><td>Jul-27 05:00</td><td>995</td></tr><tr><td>Close</td><td>Jul-27 06:00</td><td>987</td></tr><tr><td>Open</td><td>Jul-27 06:00</td><td>986</td></tr><tr><td>Close</td><td>Jul-27 07:00</td><td>1026</td></tr><tr><td>Open</td><td>Jul-27 07:00</td><td>1016</td></tr><tr><td>Close</td><td>Jul-27 08:00</td><td>982</td></tr><tr><td>Open</td><td>Jul-27 08:00</td><td>998</td></tr><tr><td>Close</td><td>Jul-27 09:00</td><td>1024</td></tr><tr><td>Open</td><td>Jul-27 09:00</td><td>1002</td></tr><tr><td>Close</td><td>Jul-27 10:00</td><td>990</td></tr><tr><td>Open</td><td>Jul-27 10:00</td><td>992</td></tr><tr><td>Close</td><td>Jul-27 11:00</td><td>1001</td></tr><tr><td>Open</td><td>Jul-27 11:00</td><td>1006</td></tr><tr><td>Close</td><td>Jul-27 12:00</td><td>1006</td></tr><tr><td>Open</td><td>Jul-27 12:00</td><td>998</td></tr><tr><td>Close</td><td>Jul-27 13:00</td><td>305</td></tr><tr><td>Open</td><td>Jul-27 13:00</td><td>331</td></tr></tbody></table></div>"
      ]
     },
     "metadata": {
      "application/vnd.databricks.v1+output": {
       "addedWidgets": {},
       "aggData": [],
       "aggError": "",
       "aggOverflow": false,
       "aggSchema": [],
       "aggSeriesLimitReached": false,
       "aggType": "",
       "arguments": {},
       "columnCustomDisplayInfos": {},
       "data": [
        [
         "Close",
         "Jul-26 03:00",
         11
        ],
        [
         "Open",
         "Jul-26 03:00",
         179
        ],
        [
         "Close",
         "Jul-26 04:00",
         344
        ],
        [
         "Open",
         "Jul-26 04:00",
         1001
        ],
        [
         "Close",
         "Jul-26 05:00",
         815
        ],
        [
         "Open",
         "Jul-26 05:00",
         999
        ],
        [
         "Close",
         "Jul-26 06:00",
         1003
        ],
        [
         "Open",
         "Jul-26 06:00",
         1000
        ],
        [
         "Close",
         "Jul-26 07:00",
         1011
        ],
        [
         "Open",
         "Jul-26 07:00",
         993
        ],
        [
         "Close",
         "Jul-26 08:00",
         989
        ],
        [
         "Open",
         "Jul-26 08:00",
         1008
        ],
        [
         "Close",
         "Jul-26 09:00",
         985
        ],
        [
         "Open",
         "Jul-26 09:00",
         996
        ],
        [
         "Close",
         "Jul-26 10:00",
         983
        ],
        [
         "Open",
         "Jul-26 10:00",
         1000
        ],
        [
         "Close",
         "Jul-26 11:00",
         1022
        ],
        [
         "Open",
         "Jul-26 11:00",
         1007
        ],
        [
         "Close",
         "Jul-26 12:00",
         1028
        ],
        [
         "Open",
         "Jul-26 12:00",
         991
        ],
        [
         "Close",
         "Jul-26 13:00",
         960
        ],
        [
         "Open",
         "Jul-26 13:00",
         996
        ],
        [
         "Close",
         "Jul-26 14:00",
         1028
        ],
        [
         "Open",
         "Jul-26 14:00",
         1006
        ],
        [
         "Close",
         "Jul-26 15:00",
         994
        ],
        [
         "Open",
         "Jul-26 15:00",
         991
        ],
        [
         "Close",
         "Jul-26 16:00",
         988
        ],
        [
         "Open",
         "Jul-26 16:00",
         1020
        ],
        [
         "Close",
         "Jul-26 17:00",
         984
        ],
        [
         "Open",
         "Jul-26 17:00",
         992
        ],
        [
         "Close",
         "Jul-26 18:00",
         1036
        ],
        [
         "Open",
         "Jul-26 18:00",
         990
        ],
        [
         "Close",
         "Jul-26 19:00",
         1001
        ],
        [
         "Open",
         "Jul-26 19:00",
         1004
        ],
        [
         "Close",
         "Jul-26 20:00",
         967
        ],
        [
         "Open",
         "Jul-26 20:00",
         998
        ],
        [
         "Close",
         "Jul-26 21:00",
         1035
        ],
        [
         "Open",
         "Jul-26 21:00",
         1010
        ],
        [
         "Close",
         "Jul-26 22:00",
         995
        ],
        [
         "Open",
         "Jul-26 22:00",
         998
        ],
        [
         "Close",
         "Jul-26 23:00",
         1036
        ],
        [
         "Open",
         "Jul-26 23:00",
         997
        ],
        [
         "Close",
         "Jul-27 00:00",
         950
        ],
        [
         "Open",
         "Jul-27 00:00",
         1000
        ],
        [
         "Close",
         "Jul-27 01:00",
         1008
        ],
        [
         "Open",
         "Jul-27 01:00",
         998
        ],
        [
         "Close",
         "Jul-27 02:00",
         1013
        ],
        [
         "Open",
         "Jul-27 02:00",
         1004
        ],
        [
         "Close",
         "Jul-27 03:00",
         971
        ],
        [
         "Open",
         "Jul-27 03:00",
         992
        ],
        [
         "Close",
         "Jul-27 04:00",
         1025
        ],
        [
         "Open",
         "Jul-27 04:00",
         1014
        ],
        [
         "Close",
         "Jul-27 05:00",
         989
        ],
        [
         "Open",
         "Jul-27 05:00",
         995
        ],
        [
         "Close",
         "Jul-27 06:00",
         987
        ],
        [
         "Open",
         "Jul-27 06:00",
         986
        ],
        [
         "Close",
         "Jul-27 07:00",
         1026
        ],
        [
         "Open",
         "Jul-27 07:00",
         1016
        ],
        [
         "Close",
         "Jul-27 08:00",
         982
        ],
        [
         "Open",
         "Jul-27 08:00",
         998
        ],
        [
         "Close",
         "Jul-27 09:00",
         1024
        ],
        [
         "Open",
         "Jul-27 09:00",
         1002
        ],
        [
         "Close",
         "Jul-27 10:00",
         990
        ],
        [
         "Open",
         "Jul-27 10:00",
         992
        ],
        [
         "Close",
         "Jul-27 11:00",
         1001
        ],
        [
         "Open",
         "Jul-27 11:00",
         1006
        ],
        [
         "Close",
         "Jul-27 12:00",
         1006
        ],
        [
         "Open",
         "Jul-27 12:00",
         998
        ],
        [
         "Close",
         "Jul-27 13:00",
         305
        ],
        [
         "Open",
         "Jul-27 13:00",
         331
        ]
       ],
       "datasetInfos": [],
       "dbfsResultPath": null,
       "isJsonSchema": true,
       "metadata": {},
       "overflow": false,
       "plotOptions": {
        "customPlotOptions": {},
        "displayType": "table",
        "pivotAggregation": null,
        "pivotColumns": null,
        "xColumns": null,
        "yColumns": null
       },
       "removedWidgets": [],
       "schema": [
        {
         "metadata": "{}",
         "name": "action",
         "type": "\"string\""
        },
        {
         "metadata": "{}",
         "name": "time",
         "type": "\"string\""
        },
        {
         "metadata": "{}",
         "name": "count",
         "type": "\"long\""
        }
       ],
       "type": "table"
      }
     },
     "output_type": "display_data"
    }
   ],
   "source": [
    "%sql\n",
    "select action, date_format(window.end, \"MMM-dd HH:mm\") as time, count\n",
    "from counts\n",
    "order by time, action"
   ]
  },
  {
   "cell_type": "markdown",
   "metadata": {
    "application/vnd.databricks.v1+cell": {
     "cellMetadata": {},
     "inputWidgets": {},
     "nuid": "4642a107-c2ac-460f-9bea-1d0f6f4b240d",
     "showTitle": false,
     "tableResultSettingsMap": {},
     "title": ""
    }
   },
   "source": [
    "We see the timeline of windowed counts (similar to the static one earlier) building up. If we keep running this interactive query repeatedly, we will see the latest updated counts which the streaming query is updating in the background."
   ]
  },
  {
   "cell_type": "code",
   "execution_count": 0,
   "metadata": {
    "application/vnd.databricks.v1+cell": {
     "cellMetadata": {
      "byteLimit": 2048000,
      "rowLimit": 10000
     },
     "inputWidgets": {},
     "nuid": "49a730c8-66e0-41e3-a0e9-63dff4a52244",
     "showTitle": false,
     "tableResultSettingsMap": {},
     "title": ""
    }
   },
   "outputs": [],
   "source": [
    "sleep(5)  # wait a bit more for more data to be computed"
   ]
  },
  {
   "cell_type": "code",
   "execution_count": 0,
   "metadata": {
    "application/vnd.databricks.v1+cell": {
     "cellMetadata": {
      "byteLimit": 2048000,
      "implicitDf": true,
      "rowLimit": 10000
     },
     "inputWidgets": {},
     "nuid": "b72203c7-fffc-4595-8df5-adb442374e23",
     "showTitle": false,
     "tableResultSettingsMap": {},
     "title": ""
    }
   },
   "outputs": [
    {
     "output_type": "display_data",
     "data": {
      "text/html": [
       "<style scoped>\n",
       "  .table-result-container {\n",
       "    max-height: 300px;\n",
       "    overflow: auto;\n",
       "  }\n",
       "  table, th, td {\n",
       "    border: 1px solid black;\n",
       "    border-collapse: collapse;\n",
       "  }\n",
       "  th, td {\n",
       "    padding: 5px;\n",
       "  }\n",
       "  th {\n",
       "    text-align: left;\n",
       "  }\n",
       "</style><div class='table-result-container'><table class='table-result'><thead style='background-color: white'><tr><th>action</th><th>time</th><th>count</th></tr></thead><tbody><tr><td>Close</td><td>Jul-26 03:00</td><td>11</td></tr><tr><td>Open</td><td>Jul-26 03:00</td><td>179</td></tr><tr><td>Close</td><td>Jul-26 04:00</td><td>344</td></tr><tr><td>Open</td><td>Jul-26 04:00</td><td>1001</td></tr><tr><td>Close</td><td>Jul-26 05:00</td><td>815</td></tr><tr><td>Open</td><td>Jul-26 05:00</td><td>999</td></tr><tr><td>Close</td><td>Jul-26 06:00</td><td>1003</td></tr><tr><td>Open</td><td>Jul-26 06:00</td><td>1000</td></tr><tr><td>Close</td><td>Jul-26 07:00</td><td>1011</td></tr><tr><td>Open</td><td>Jul-26 07:00</td><td>993</td></tr><tr><td>Close</td><td>Jul-26 08:00</td><td>989</td></tr><tr><td>Open</td><td>Jul-26 08:00</td><td>1008</td></tr><tr><td>Close</td><td>Jul-26 09:00</td><td>985</td></tr><tr><td>Open</td><td>Jul-26 09:00</td><td>996</td></tr><tr><td>Close</td><td>Jul-26 10:00</td><td>983</td></tr><tr><td>Open</td><td>Jul-26 10:00</td><td>1000</td></tr><tr><td>Close</td><td>Jul-26 11:00</td><td>1022</td></tr><tr><td>Open</td><td>Jul-26 11:00</td><td>1007</td></tr><tr><td>Close</td><td>Jul-26 12:00</td><td>1028</td></tr><tr><td>Open</td><td>Jul-26 12:00</td><td>991</td></tr><tr><td>Close</td><td>Jul-26 13:00</td><td>960</td></tr><tr><td>Open</td><td>Jul-26 13:00</td><td>996</td></tr><tr><td>Close</td><td>Jul-26 14:00</td><td>1028</td></tr><tr><td>Open</td><td>Jul-26 14:00</td><td>1006</td></tr><tr><td>Close</td><td>Jul-26 15:00</td><td>994</td></tr><tr><td>Open</td><td>Jul-26 15:00</td><td>991</td></tr><tr><td>Close</td><td>Jul-26 16:00</td><td>988</td></tr><tr><td>Open</td><td>Jul-26 16:00</td><td>1020</td></tr><tr><td>Close</td><td>Jul-26 17:00</td><td>984</td></tr><tr><td>Open</td><td>Jul-26 17:00</td><td>992</td></tr><tr><td>Close</td><td>Jul-26 18:00</td><td>1036</td></tr><tr><td>Open</td><td>Jul-26 18:00</td><td>990</td></tr><tr><td>Close</td><td>Jul-26 19:00</td><td>1001</td></tr><tr><td>Open</td><td>Jul-26 19:00</td><td>1004</td></tr><tr><td>Close</td><td>Jul-26 20:00</td><td>967</td></tr><tr><td>Open</td><td>Jul-26 20:00</td><td>998</td></tr><tr><td>Close</td><td>Jul-26 21:00</td><td>1035</td></tr><tr><td>Open</td><td>Jul-26 21:00</td><td>1010</td></tr><tr><td>Close</td><td>Jul-26 22:00</td><td>995</td></tr><tr><td>Open</td><td>Jul-26 22:00</td><td>998</td></tr><tr><td>Close</td><td>Jul-26 23:00</td><td>1036</td></tr><tr><td>Open</td><td>Jul-26 23:00</td><td>997</td></tr><tr><td>Close</td><td>Jul-27 00:00</td><td>950</td></tr><tr><td>Open</td><td>Jul-27 00:00</td><td>1000</td></tr><tr><td>Close</td><td>Jul-27 01:00</td><td>1008</td></tr><tr><td>Open</td><td>Jul-27 01:00</td><td>998</td></tr><tr><td>Close</td><td>Jul-27 02:00</td><td>1013</td></tr><tr><td>Open</td><td>Jul-27 02:00</td><td>1004</td></tr><tr><td>Close</td><td>Jul-27 03:00</td><td>971</td></tr><tr><td>Open</td><td>Jul-27 03:00</td><td>992</td></tr><tr><td>Close</td><td>Jul-27 04:00</td><td>1025</td></tr><tr><td>Open</td><td>Jul-27 04:00</td><td>1014</td></tr><tr><td>Close</td><td>Jul-27 05:00</td><td>989</td></tr><tr><td>Open</td><td>Jul-27 05:00</td><td>995</td></tr><tr><td>Close</td><td>Jul-27 06:00</td><td>987</td></tr><tr><td>Open</td><td>Jul-27 06:00</td><td>986</td></tr><tr><td>Close</td><td>Jul-27 07:00</td><td>1026</td></tr><tr><td>Open</td><td>Jul-27 07:00</td><td>1016</td></tr><tr><td>Close</td><td>Jul-27 08:00</td><td>982</td></tr><tr><td>Open</td><td>Jul-27 08:00</td><td>998</td></tr><tr><td>Close</td><td>Jul-27 09:00</td><td>1024</td></tr><tr><td>Open</td><td>Jul-27 09:00</td><td>1002</td></tr><tr><td>Close</td><td>Jul-27 10:00</td><td>990</td></tr><tr><td>Open</td><td>Jul-27 10:00</td><td>992</td></tr><tr><td>Close</td><td>Jul-27 11:00</td><td>1001</td></tr><tr><td>Open</td><td>Jul-27 11:00</td><td>1006</td></tr><tr><td>Close</td><td>Jul-27 12:00</td><td>1006</td></tr><tr><td>Open</td><td>Jul-27 12:00</td><td>998</td></tr><tr><td>Close</td><td>Jul-27 13:00</td><td>1035</td></tr><tr><td>Open</td><td>Jul-27 13:00</td><td>994</td></tr><tr><td>Close</td><td>Jul-27 14:00</td><td>986</td></tr><tr><td>Open</td><td>Jul-27 14:00</td><td>1008</td></tr><tr><td>Close</td><td>Jul-27 15:00</td><td>304</td></tr><tr><td>Open</td><td>Jul-27 15:00</td><td>309</td></tr></tbody></table></div>"
      ]
     },
     "metadata": {
      "application/vnd.databricks.v1+output": {
       "addedWidgets": {},
       "aggData": [],
       "aggError": "",
       "aggOverflow": false,
       "aggSchema": [],
       "aggSeriesLimitReached": false,
       "aggType": "",
       "arguments": {},
       "columnCustomDisplayInfos": {},
       "data": [
        [
         "Close",
         "Jul-26 03:00",
         11
        ],
        [
         "Open",
         "Jul-26 03:00",
         179
        ],
        [
         "Close",
         "Jul-26 04:00",
         344
        ],
        [
         "Open",
         "Jul-26 04:00",
         1001
        ],
        [
         "Close",
         "Jul-26 05:00",
         815
        ],
        [
         "Open",
         "Jul-26 05:00",
         999
        ],
        [
         "Close",
         "Jul-26 06:00",
         1003
        ],
        [
         "Open",
         "Jul-26 06:00",
         1000
        ],
        [
         "Close",
         "Jul-26 07:00",
         1011
        ],
        [
         "Open",
         "Jul-26 07:00",
         993
        ],
        [
         "Close",
         "Jul-26 08:00",
         989
        ],
        [
         "Open",
         "Jul-26 08:00",
         1008
        ],
        [
         "Close",
         "Jul-26 09:00",
         985
        ],
        [
         "Open",
         "Jul-26 09:00",
         996
        ],
        [
         "Close",
         "Jul-26 10:00",
         983
        ],
        [
         "Open",
         "Jul-26 10:00",
         1000
        ],
        [
         "Close",
         "Jul-26 11:00",
         1022
        ],
        [
         "Open",
         "Jul-26 11:00",
         1007
        ],
        [
         "Close",
         "Jul-26 12:00",
         1028
        ],
        [
         "Open",
         "Jul-26 12:00",
         991
        ],
        [
         "Close",
         "Jul-26 13:00",
         960
        ],
        [
         "Open",
         "Jul-26 13:00",
         996
        ],
        [
         "Close",
         "Jul-26 14:00",
         1028
        ],
        [
         "Open",
         "Jul-26 14:00",
         1006
        ],
        [
         "Close",
         "Jul-26 15:00",
         994
        ],
        [
         "Open",
         "Jul-26 15:00",
         991
        ],
        [
         "Close",
         "Jul-26 16:00",
         988
        ],
        [
         "Open",
         "Jul-26 16:00",
         1020
        ],
        [
         "Close",
         "Jul-26 17:00",
         984
        ],
        [
         "Open",
         "Jul-26 17:00",
         992
        ],
        [
         "Close",
         "Jul-26 18:00",
         1036
        ],
        [
         "Open",
         "Jul-26 18:00",
         990
        ],
        [
         "Close",
         "Jul-26 19:00",
         1001
        ],
        [
         "Open",
         "Jul-26 19:00",
         1004
        ],
        [
         "Close",
         "Jul-26 20:00",
         967
        ],
        [
         "Open",
         "Jul-26 20:00",
         998
        ],
        [
         "Close",
         "Jul-26 21:00",
         1035
        ],
        [
         "Open",
         "Jul-26 21:00",
         1010
        ],
        [
         "Close",
         "Jul-26 22:00",
         995
        ],
        [
         "Open",
         "Jul-26 22:00",
         998
        ],
        [
         "Close",
         "Jul-26 23:00",
         1036
        ],
        [
         "Open",
         "Jul-26 23:00",
         997
        ],
        [
         "Close",
         "Jul-27 00:00",
         950
        ],
        [
         "Open",
         "Jul-27 00:00",
         1000
        ],
        [
         "Close",
         "Jul-27 01:00",
         1008
        ],
        [
         "Open",
         "Jul-27 01:00",
         998
        ],
        [
         "Close",
         "Jul-27 02:00",
         1013
        ],
        [
         "Open",
         "Jul-27 02:00",
         1004
        ],
        [
         "Close",
         "Jul-27 03:00",
         971
        ],
        [
         "Open",
         "Jul-27 03:00",
         992
        ],
        [
         "Close",
         "Jul-27 04:00",
         1025
        ],
        [
         "Open",
         "Jul-27 04:00",
         1014
        ],
        [
         "Close",
         "Jul-27 05:00",
         989
        ],
        [
         "Open",
         "Jul-27 05:00",
         995
        ],
        [
         "Close",
         "Jul-27 06:00",
         987
        ],
        [
         "Open",
         "Jul-27 06:00",
         986
        ],
        [
         "Close",
         "Jul-27 07:00",
         1026
        ],
        [
         "Open",
         "Jul-27 07:00",
         1016
        ],
        [
         "Close",
         "Jul-27 08:00",
         982
        ],
        [
         "Open",
         "Jul-27 08:00",
         998
        ],
        [
         "Close",
         "Jul-27 09:00",
         1024
        ],
        [
         "Open",
         "Jul-27 09:00",
         1002
        ],
        [
         "Close",
         "Jul-27 10:00",
         990
        ],
        [
         "Open",
         "Jul-27 10:00",
         992
        ],
        [
         "Close",
         "Jul-27 11:00",
         1001
        ],
        [
         "Open",
         "Jul-27 11:00",
         1006
        ],
        [
         "Close",
         "Jul-27 12:00",
         1006
        ],
        [
         "Open",
         "Jul-27 12:00",
         998
        ],
        [
         "Close",
         "Jul-27 13:00",
         1035
        ],
        [
         "Open",
         "Jul-27 13:00",
         994
        ],
        [
         "Close",
         "Jul-27 14:00",
         986
        ],
        [
         "Open",
         "Jul-27 14:00",
         1008
        ],
        [
         "Close",
         "Jul-27 15:00",
         304
        ],
        [
         "Open",
         "Jul-27 15:00",
         309
        ]
       ],
       "datasetInfos": [],
       "dbfsResultPath": null,
       "isJsonSchema": true,
       "metadata": {},
       "overflow": false,
       "plotOptions": {
        "customPlotOptions": {},
        "displayType": "table",
        "pivotAggregation": null,
        "pivotColumns": null,
        "xColumns": null,
        "yColumns": null
       },
       "removedWidgets": [],
       "schema": [
        {
         "metadata": "{}",
         "name": "action",
         "type": "\"string\""
        },
        {
         "metadata": "{}",
         "name": "time",
         "type": "\"string\""
        },
        {
         "metadata": "{}",
         "name": "count",
         "type": "\"long\""
        }
       ],
       "type": "table"
      }
     },
     "output_type": "display_data"
    }
   ],
   "source": [
    "%sql select action, date_format(window.end, \"MMM-dd HH:mm\") as time, count from counts order by time, action"
   ]
  },
  {
   "cell_type": "code",
   "execution_count": 0,
   "metadata": {
    "application/vnd.databricks.v1+cell": {
     "cellMetadata": {
      "byteLimit": 2048000,
      "rowLimit": 10000
     },
     "inputWidgets": {},
     "nuid": "f88e440f-6de5-421a-9b37-dbbf455324ac",
     "showTitle": false,
     "tableResultSettingsMap": {},
     "title": ""
    }
   },
   "outputs": [],
   "source": [
    "sleep(5)  # wait a bit more for more data to be computed"
   ]
  },
  {
   "cell_type": "code",
   "execution_count": 0,
   "metadata": {
    "application/vnd.databricks.v1+cell": {
     "cellMetadata": {
      "byteLimit": 2048000,
      "implicitDf": true,
      "rowLimit": 10000
     },
     "inputWidgets": {},
     "nuid": "e4a4b8d5-4779-431a-a12c-4f59d683f3f2",
     "showTitle": false,
     "tableResultSettingsMap": {},
     "title": ""
    }
   },
   "outputs": [
    {
     "output_type": "display_data",
     "data": {
      "text/html": [
       "<style scoped>\n",
       "  .table-result-container {\n",
       "    max-height: 300px;\n",
       "    overflow: auto;\n",
       "  }\n",
       "  table, th, td {\n",
       "    border: 1px solid black;\n",
       "    border-collapse: collapse;\n",
       "  }\n",
       "  th, td {\n",
       "    padding: 5px;\n",
       "  }\n",
       "  th {\n",
       "    text-align: left;\n",
       "  }\n",
       "</style><div class='table-result-container'><table class='table-result'><thead style='background-color: white'><tr><th>action</th><th>time</th><th>count</th></tr></thead><tbody><tr><td>Close</td><td>Jul-26 03:00</td><td>11</td></tr><tr><td>Open</td><td>Jul-26 03:00</td><td>179</td></tr><tr><td>Close</td><td>Jul-26 04:00</td><td>344</td></tr><tr><td>Open</td><td>Jul-26 04:00</td><td>1001</td></tr><tr><td>Close</td><td>Jul-26 05:00</td><td>815</td></tr><tr><td>Open</td><td>Jul-26 05:00</td><td>999</td></tr><tr><td>Close</td><td>Jul-26 06:00</td><td>1003</td></tr><tr><td>Open</td><td>Jul-26 06:00</td><td>1000</td></tr><tr><td>Close</td><td>Jul-26 07:00</td><td>1011</td></tr><tr><td>Open</td><td>Jul-26 07:00</td><td>993</td></tr><tr><td>Close</td><td>Jul-26 08:00</td><td>989</td></tr><tr><td>Open</td><td>Jul-26 08:00</td><td>1008</td></tr><tr><td>Close</td><td>Jul-26 09:00</td><td>985</td></tr><tr><td>Open</td><td>Jul-26 09:00</td><td>996</td></tr><tr><td>Close</td><td>Jul-26 10:00</td><td>983</td></tr><tr><td>Open</td><td>Jul-26 10:00</td><td>1000</td></tr><tr><td>Close</td><td>Jul-26 11:00</td><td>1022</td></tr><tr><td>Open</td><td>Jul-26 11:00</td><td>1007</td></tr><tr><td>Close</td><td>Jul-26 12:00</td><td>1028</td></tr><tr><td>Open</td><td>Jul-26 12:00</td><td>991</td></tr><tr><td>Close</td><td>Jul-26 13:00</td><td>960</td></tr><tr><td>Open</td><td>Jul-26 13:00</td><td>996</td></tr><tr><td>Close</td><td>Jul-26 14:00</td><td>1028</td></tr><tr><td>Open</td><td>Jul-26 14:00</td><td>1006</td></tr><tr><td>Close</td><td>Jul-26 15:00</td><td>994</td></tr><tr><td>Open</td><td>Jul-26 15:00</td><td>991</td></tr><tr><td>Close</td><td>Jul-26 16:00</td><td>988</td></tr><tr><td>Open</td><td>Jul-26 16:00</td><td>1020</td></tr><tr><td>Close</td><td>Jul-26 17:00</td><td>984</td></tr><tr><td>Open</td><td>Jul-26 17:00</td><td>992</td></tr><tr><td>Close</td><td>Jul-26 18:00</td><td>1036</td></tr><tr><td>Open</td><td>Jul-26 18:00</td><td>990</td></tr><tr><td>Close</td><td>Jul-26 19:00</td><td>1001</td></tr><tr><td>Open</td><td>Jul-26 19:00</td><td>1004</td></tr><tr><td>Close</td><td>Jul-26 20:00</td><td>967</td></tr><tr><td>Open</td><td>Jul-26 20:00</td><td>998</td></tr><tr><td>Close</td><td>Jul-26 21:00</td><td>1035</td></tr><tr><td>Open</td><td>Jul-26 21:00</td><td>1010</td></tr><tr><td>Close</td><td>Jul-26 22:00</td><td>995</td></tr><tr><td>Open</td><td>Jul-26 22:00</td><td>998</td></tr><tr><td>Close</td><td>Jul-26 23:00</td><td>1036</td></tr><tr><td>Open</td><td>Jul-26 23:00</td><td>997</td></tr><tr><td>Close</td><td>Jul-27 00:00</td><td>950</td></tr><tr><td>Open</td><td>Jul-27 00:00</td><td>1000</td></tr><tr><td>Close</td><td>Jul-27 01:00</td><td>1008</td></tr><tr><td>Open</td><td>Jul-27 01:00</td><td>998</td></tr><tr><td>Close</td><td>Jul-27 02:00</td><td>1013</td></tr><tr><td>Open</td><td>Jul-27 02:00</td><td>1004</td></tr><tr><td>Close</td><td>Jul-27 03:00</td><td>971</td></tr><tr><td>Open</td><td>Jul-27 03:00</td><td>992</td></tr><tr><td>Close</td><td>Jul-27 04:00</td><td>1025</td></tr><tr><td>Open</td><td>Jul-27 04:00</td><td>1014</td></tr><tr><td>Close</td><td>Jul-27 05:00</td><td>989</td></tr><tr><td>Open</td><td>Jul-27 05:00</td><td>995</td></tr><tr><td>Close</td><td>Jul-27 06:00</td><td>987</td></tr><tr><td>Open</td><td>Jul-27 06:00</td><td>986</td></tr><tr><td>Close</td><td>Jul-27 07:00</td><td>1026</td></tr><tr><td>Open</td><td>Jul-27 07:00</td><td>1016</td></tr><tr><td>Close</td><td>Jul-27 08:00</td><td>982</td></tr><tr><td>Open</td><td>Jul-27 08:00</td><td>998</td></tr><tr><td>Close</td><td>Jul-27 09:00</td><td>1024</td></tr><tr><td>Open</td><td>Jul-27 09:00</td><td>1002</td></tr><tr><td>Close</td><td>Jul-27 10:00</td><td>990</td></tr><tr><td>Open</td><td>Jul-27 10:00</td><td>992</td></tr><tr><td>Close</td><td>Jul-27 11:00</td><td>1001</td></tr><tr><td>Open</td><td>Jul-27 11:00</td><td>1006</td></tr><tr><td>Close</td><td>Jul-27 12:00</td><td>1006</td></tr><tr><td>Open</td><td>Jul-27 12:00</td><td>998</td></tr><tr><td>Close</td><td>Jul-27 13:00</td><td>1035</td></tr><tr><td>Open</td><td>Jul-27 13:00</td><td>994</td></tr><tr><td>Close</td><td>Jul-27 14:00</td><td>986</td></tr><tr><td>Open</td><td>Jul-27 14:00</td><td>1008</td></tr><tr><td>Close</td><td>Jul-27 15:00</td><td>948</td></tr><tr><td>Open</td><td>Jul-27 15:00</td><td>984</td></tr><tr><td>Close</td><td>Jul-27 16:00</td><td>331</td></tr><tr><td>Open</td><td>Jul-27 16:00</td><td>350</td></tr></tbody></table></div>"
      ]
     },
     "metadata": {
      "application/vnd.databricks.v1+output": {
       "addedWidgets": {},
       "aggData": [],
       "aggError": "",
       "aggOverflow": false,
       "aggSchema": [],
       "aggSeriesLimitReached": false,
       "aggType": "",
       "arguments": {},
       "columnCustomDisplayInfos": {},
       "data": [
        [
         "Close",
         "Jul-26 03:00",
         11
        ],
        [
         "Open",
         "Jul-26 03:00",
         179
        ],
        [
         "Close",
         "Jul-26 04:00",
         344
        ],
        [
         "Open",
         "Jul-26 04:00",
         1001
        ],
        [
         "Close",
         "Jul-26 05:00",
         815
        ],
        [
         "Open",
         "Jul-26 05:00",
         999
        ],
        [
         "Close",
         "Jul-26 06:00",
         1003
        ],
        [
         "Open",
         "Jul-26 06:00",
         1000
        ],
        [
         "Close",
         "Jul-26 07:00",
         1011
        ],
        [
         "Open",
         "Jul-26 07:00",
         993
        ],
        [
         "Close",
         "Jul-26 08:00",
         989
        ],
        [
         "Open",
         "Jul-26 08:00",
         1008
        ],
        [
         "Close",
         "Jul-26 09:00",
         985
        ],
        [
         "Open",
         "Jul-26 09:00",
         996
        ],
        [
         "Close",
         "Jul-26 10:00",
         983
        ],
        [
         "Open",
         "Jul-26 10:00",
         1000
        ],
        [
         "Close",
         "Jul-26 11:00",
         1022
        ],
        [
         "Open",
         "Jul-26 11:00",
         1007
        ],
        [
         "Close",
         "Jul-26 12:00",
         1028
        ],
        [
         "Open",
         "Jul-26 12:00",
         991
        ],
        [
         "Close",
         "Jul-26 13:00",
         960
        ],
        [
         "Open",
         "Jul-26 13:00",
         996
        ],
        [
         "Close",
         "Jul-26 14:00",
         1028
        ],
        [
         "Open",
         "Jul-26 14:00",
         1006
        ],
        [
         "Close",
         "Jul-26 15:00",
         994
        ],
        [
         "Open",
         "Jul-26 15:00",
         991
        ],
        [
         "Close",
         "Jul-26 16:00",
         988
        ],
        [
         "Open",
         "Jul-26 16:00",
         1020
        ],
        [
         "Close",
         "Jul-26 17:00",
         984
        ],
        [
         "Open",
         "Jul-26 17:00",
         992
        ],
        [
         "Close",
         "Jul-26 18:00",
         1036
        ],
        [
         "Open",
         "Jul-26 18:00",
         990
        ],
        [
         "Close",
         "Jul-26 19:00",
         1001
        ],
        [
         "Open",
         "Jul-26 19:00",
         1004
        ],
        [
         "Close",
         "Jul-26 20:00",
         967
        ],
        [
         "Open",
         "Jul-26 20:00",
         998
        ],
        [
         "Close",
         "Jul-26 21:00",
         1035
        ],
        [
         "Open",
         "Jul-26 21:00",
         1010
        ],
        [
         "Close",
         "Jul-26 22:00",
         995
        ],
        [
         "Open",
         "Jul-26 22:00",
         998
        ],
        [
         "Close",
         "Jul-26 23:00",
         1036
        ],
        [
         "Open",
         "Jul-26 23:00",
         997
        ],
        [
         "Close",
         "Jul-27 00:00",
         950
        ],
        [
         "Open",
         "Jul-27 00:00",
         1000
        ],
        [
         "Close",
         "Jul-27 01:00",
         1008
        ],
        [
         "Open",
         "Jul-27 01:00",
         998
        ],
        [
         "Close",
         "Jul-27 02:00",
         1013
        ],
        [
         "Open",
         "Jul-27 02:00",
         1004
        ],
        [
         "Close",
         "Jul-27 03:00",
         971
        ],
        [
         "Open",
         "Jul-27 03:00",
         992
        ],
        [
         "Close",
         "Jul-27 04:00",
         1025
        ],
        [
         "Open",
         "Jul-27 04:00",
         1014
        ],
        [
         "Close",
         "Jul-27 05:00",
         989
        ],
        [
         "Open",
         "Jul-27 05:00",
         995
        ],
        [
         "Close",
         "Jul-27 06:00",
         987
        ],
        [
         "Open",
         "Jul-27 06:00",
         986
        ],
        [
         "Close",
         "Jul-27 07:00",
         1026
        ],
        [
         "Open",
         "Jul-27 07:00",
         1016
        ],
        [
         "Close",
         "Jul-27 08:00",
         982
        ],
        [
         "Open",
         "Jul-27 08:00",
         998
        ],
        [
         "Close",
         "Jul-27 09:00",
         1024
        ],
        [
         "Open",
         "Jul-27 09:00",
         1002
        ],
        [
         "Close",
         "Jul-27 10:00",
         990
        ],
        [
         "Open",
         "Jul-27 10:00",
         992
        ],
        [
         "Close",
         "Jul-27 11:00",
         1001
        ],
        [
         "Open",
         "Jul-27 11:00",
         1006
        ],
        [
         "Close",
         "Jul-27 12:00",
         1006
        ],
        [
         "Open",
         "Jul-27 12:00",
         998
        ],
        [
         "Close",
         "Jul-27 13:00",
         1035
        ],
        [
         "Open",
         "Jul-27 13:00",
         994
        ],
        [
         "Close",
         "Jul-27 14:00",
         986
        ],
        [
         "Open",
         "Jul-27 14:00",
         1008
        ],
        [
         "Close",
         "Jul-27 15:00",
         948
        ],
        [
         "Open",
         "Jul-27 15:00",
         984
        ],
        [
         "Close",
         "Jul-27 16:00",
         331
        ],
        [
         "Open",
         "Jul-27 16:00",
         350
        ]
       ],
       "datasetInfos": [],
       "dbfsResultPath": null,
       "isJsonSchema": true,
       "metadata": {},
       "overflow": false,
       "plotOptions": {
        "customPlotOptions": {},
        "displayType": "table",
        "pivotAggregation": null,
        "pivotColumns": null,
        "xColumns": null,
        "yColumns": null
       },
       "removedWidgets": [],
       "schema": [
        {
         "metadata": "{}",
         "name": "action",
         "type": "\"string\""
        },
        {
         "metadata": "{}",
         "name": "time",
         "type": "\"string\""
        },
        {
         "metadata": "{}",
         "name": "count",
         "type": "\"long\""
        }
       ],
       "type": "table"
      }
     },
     "output_type": "display_data"
    }
   ],
   "source": [
    "%sql select action, date_format(window.end, \"MMM-dd HH:mm\") as time, count from counts order by time, action"
   ]
  },
  {
   "cell_type": "markdown",
   "metadata": {
    "application/vnd.databricks.v1+cell": {
     "cellMetadata": {},
     "inputWidgets": {},
     "nuid": "e5caecec-2eb9-4d1f-8694-89760b28abbf",
     "showTitle": false,
     "tableResultSettingsMap": {},
     "title": ""
    }
   },
   "source": [
    "Also, let's see the total number of \"opens\" and \"closes\"."
   ]
  },
  {
   "cell_type": "code",
   "execution_count": 0,
   "metadata": {
    "application/vnd.databricks.v1+cell": {
     "cellMetadata": {
      "byteLimit": 2048000,
      "implicitDf": true,
      "rowLimit": 10000
     },
     "inputWidgets": {},
     "nuid": "4eb9131c-58b5-4d84-90f7-0dd5fc06f079",
     "showTitle": false,
     "tableResultSettingsMap": {},
     "title": ""
    }
   },
   "outputs": [
    {
     "output_type": "display_data",
     "data": {
      "text/html": [
       "<style scoped>\n",
       "  .table-result-container {\n",
       "    max-height: 300px;\n",
       "    overflow: auto;\n",
       "  }\n",
       "  table, th, td {\n",
       "    border: 1px solid black;\n",
       "    border-collapse: collapse;\n",
       "  }\n",
       "  th, td {\n",
       "    padding: 5px;\n",
       "  }\n",
       "  th {\n",
       "    text-align: left;\n",
       "  }\n",
       "</style><div class='table-result-container'><table class='table-result'><thead style='background-color: white'><tr><th>action</th><th>total_count</th></tr></thead><tbody><tr><td>Close</td><td>37491</td></tr><tr><td>Open</td><td>38509</td></tr></tbody></table></div>"
      ]
     },
     "metadata": {
      "application/vnd.databricks.v1+output": {
       "addedWidgets": {},
       "aggData": [],
       "aggError": "",
       "aggOverflow": false,
       "aggSchema": [],
       "aggSeriesLimitReached": false,
       "aggType": "",
       "arguments": {},
       "columnCustomDisplayInfos": {},
       "data": [
        [
         "Close",
         37491
        ],
        [
         "Open",
         38509
        ]
       ],
       "datasetInfos": [],
       "dbfsResultPath": null,
       "isJsonSchema": true,
       "metadata": {},
       "overflow": false,
       "plotOptions": {
        "customPlotOptions": {},
        "displayType": "table",
        "pivotAggregation": null,
        "pivotColumns": null,
        "xColumns": null,
        "yColumns": null
       },
       "removedWidgets": [],
       "schema": [
        {
         "metadata": "{}",
         "name": "action",
         "type": "\"string\""
        },
        {
         "metadata": "{}",
         "name": "total_count",
         "type": "\"long\""
        }
       ],
       "type": "table"
      }
     },
     "output_type": "display_data"
    }
   ],
   "source": [
    "%sql \n",
    "select action, sum(count) as total_count \n",
    "from counts \n",
    "group by action \n",
    "order by action"
   ]
  },
  {
   "cell_type": "markdown",
   "metadata": {
    "application/vnd.databricks.v1+cell": {
     "cellMetadata": {},
     "inputWidgets": {},
     "nuid": "68cde8b1-799f-4244-bd32-148ec58260c9",
     "showTitle": false,
     "tableResultSettingsMap": {},
     "title": ""
    }
   },
   "source": [
    "If you keep running the above query repeatedly, you will always find that the number of \"opens\" is more than the number of \"closes\", as expected in a data stream where a \"close\" always appear after corresponding \"open\". This shows that Structured Streaming ensures **prefix integrity**. Read the blog posts linked below if you want to know more.\n",
    "\n",
    "Note that there are only a few files, so consuming all of them there will be no updates to the counts. Rerun the query if you want to interact with the streaming query again.\n",
    "\n",
    "Finally, you can stop the query running in the background, either by clicking on the 'Cancel' link in the cell of the query, or by executing `query.stop()`. Either way, when the query is stopped, the status of the corresponding cell above will automatically update to `TERMINATED`."
   ]
  },
  {
   "cell_type": "code",
   "execution_count": 0,
   "metadata": {
    "application/vnd.databricks.v1+cell": {
     "cellMetadata": {
      "byteLimit": 2048000,
      "rowLimit": 10000
     },
     "inputWidgets": {},
     "nuid": "93da8fe2-9fb1-4be9-a3bd-6105984be014",
     "showTitle": false,
     "tableResultSettingsMap": {},
     "title": ""
    }
   },
   "outputs": [],
   "source": [
    "query.stop()"
   ]
  },
  {
   "cell_type": "markdown",
   "metadata": {
    "application/vnd.databricks.v1+cell": {
     "cellMetadata": {},
     "inputWidgets": {},
     "nuid": "2c38be75-fb96-4526-9255-095788842a5a",
     "showTitle": false,
     "tableResultSettingsMap": {},
     "title": ""
    }
   },
   "source": [
    "### IoT data"
   ]
  },
  {
   "cell_type": "markdown",
   "metadata": {
    "application/vnd.databricks.v1+cell": {
     "cellMetadata": {},
     "inputWidgets": {},
     "nuid": "291cc3d1-21eb-4b61-ad3d-20be53fe1802",
     "showTitle": false,
     "tableResultSettingsMap": {},
     "title": ""
    }
   },
   "source": [
    "Develop a streaming example on `IoT device`dataset:\n",
    "\n",
    "- inspect the dataset\n",
    "- ask yourself couple of questions about the data and try to answer them (eg. how many steps users do, how many calories do they burn...)\n",
    "- you read the data in streaming fashion (file by file) and keep the data for only one company? Here are some hints:\n",
    "  - you can find the schema in the readme file \n",
    "  - as above, use this option: .option(\"maxFilesPerTrigger\", 1)\n",
    "  - use user_id or device_id for grouping\n",
    "  - use timestamp for window definition\n",
    "  - you can try streaming joins with the user data (/databricks-datasets/iot-stream/data-user/userData.csv). Here is the doc: https://spark.apache.org/docs/latest/structured-streaming-programming-guide.html#join-operations"
   ]
  },
  {
   "cell_type": "code",
   "execution_count": 0,
   "metadata": {
    "application/vnd.databricks.v1+cell": {
     "cellMetadata": {
      "byteLimit": 2048000,
      "rowLimit": 10000
     },
     "inputWidgets": {},
     "nuid": "763b2491-f818-4e95-8118-e790a9f4832a",
     "showTitle": false,
     "tableResultSettingsMap": {},
     "title": ""
    }
   },
   "outputs": [
    {
     "output_type": "display_data",
     "data": {
      "text/html": [
       "<style scoped>\n",
       "  .table-result-container {\n",
       "    max-height: 300px;\n",
       "    overflow: auto;\n",
       "  }\n",
       "  table, th, td {\n",
       "    border: 1px solid black;\n",
       "    border-collapse: collapse;\n",
       "  }\n",
       "  th, td {\n",
       "    padding: 5px;\n",
       "  }\n",
       "  th {\n",
       "    text-align: left;\n",
       "  }\n",
       "</style><div class='table-result-container'><table class='table-result'><thead style='background-color: white'><tr><th>path</th><th>name</th><th>size</th><th>modificationTime</th></tr></thead><tbody><tr><td>dbfs:/databricks-datasets/iot-stream/README.md</td><td>README.md</td><td>1596</td><td>1532465738000</td></tr><tr><td>dbfs:/databricks-datasets/iot-stream/data-device/</td><td>data-device/</td><td>0</td><td>0</td></tr><tr><td>dbfs:/databricks-datasets/iot-stream/data-user/</td><td>data-user/</td><td>0</td><td>0</td></tr></tbody></table></div>"
      ]
     },
     "metadata": {
      "application/vnd.databricks.v1+output": {
       "addedWidgets": {},
       "aggData": [],
       "aggError": "",
       "aggOverflow": false,
       "aggSchema": [],
       "aggSeriesLimitReached": false,
       "aggType": "",
       "arguments": {},
       "columnCustomDisplayInfos": {},
       "data": [
        [
         "dbfs:/databricks-datasets/iot-stream/README.md",
         "README.md",
         1596,
         1532465738000
        ],
        [
         "dbfs:/databricks-datasets/iot-stream/data-device/",
         "data-device/",
         0,
         0
        ],
        [
         "dbfs:/databricks-datasets/iot-stream/data-user/",
         "data-user/",
         0,
         0
        ]
       ],
       "datasetInfos": [],
       "dbfsResultPath": null,
       "isJsonSchema": true,
       "metadata": {},
       "overflow": false,
       "plotOptions": {
        "customPlotOptions": {},
        "displayType": "table",
        "pivotAggregation": null,
        "pivotColumns": null,
        "xColumns": null,
        "yColumns": null
       },
       "removedWidgets": [],
       "schema": [
        {
         "metadata": "{}",
         "name": "path",
         "type": "\"string\""
        },
        {
         "metadata": "{}",
         "name": "name",
         "type": "\"string\""
        },
        {
         "metadata": "{}",
         "name": "size",
         "type": "\"long\""
        },
        {
         "metadata": "{}",
         "name": "modificationTime",
         "type": "\"long\""
        }
       ],
       "type": "table"
      }
     },
     "output_type": "display_data"
    }
   ],
   "source": [
    "# Iot stream dataset\n",
    "display(dbutils.fs.ls('/databricks-datasets/iot-stream/'))"
   ]
  },
  {
   "cell_type": "code",
   "execution_count": 0,
   "metadata": {
    "application/vnd.databricks.v1+cell": {
     "cellMetadata": {
      "byteLimit": 2048000,
      "rowLimit": 10000
     },
     "inputWidgets": {},
     "nuid": "a3667598-0d42-4098-b3d9-5927764b4471",
     "showTitle": false,
     "tableResultSettingsMap": {},
     "title": ""
    }
   },
   "outputs": [],
   "source": [
    "spark = SparkSession.builder.appName(\"PreviewReadmeFile\").getOrCreate()"
   ]
  },
  {
   "cell_type": "code",
   "execution_count": 0,
   "metadata": {
    "application/vnd.databricks.v1+cell": {
     "cellMetadata": {
      "byteLimit": 2048000,
      "rowLimit": 10000
     },
     "inputWidgets": {},
     "nuid": "217ea967-ba6a-4450-ac00-fec59220701d",
     "showTitle": false,
     "tableResultSettingsMap": {},
     "title": ""
    }
   },
   "outputs": [],
   "source": [
    "# Read the README file\n",
    "data_path = \"dbfs:/databricks-datasets/iot-stream/\""
   ]
  },
  {
   "cell_type": "code",
   "execution_count": 0,
   "metadata": {
    "application/vnd.databricks.v1+cell": {
     "cellMetadata": {
      "byteLimit": 2048000,
      "rowLimit": 10000
     },
     "inputWidgets": {},
     "nuid": "a0860a18-e973-4009-b03e-91fc5372e03a",
     "showTitle": false,
     "tableResultSettingsMap": {},
     "title": ""
    }
   },
   "outputs": [],
   "source": [
    "# Define the schema (copy from the README) data-device\n",
    "readme_schema = StructType([\n",
    "    StructField(\"line\", StringType(), True)\n",
    "])"
   ]
  },
  {
   "cell_type": "code",
   "execution_count": 0,
   "metadata": {
    "application/vnd.databricks.v1+cell": {
     "cellMetadata": {
      "byteLimit": 2048000,
      "rowLimit": 10000
     },
     "inputWidgets": {},
     "nuid": "02b4294b-fcf2-4604-a9eb-4257077f8d11",
     "showTitle": false,
     "tableResultSettingsMap": {},
     "title": ""
    }
   },
   "outputs": [
    {
     "output_type": "stream",
     "name": "stdout",
     "output_type": "stream",
     "text": [
      "+---------------------------------------------------------------------------------------------------------------------------------------------------------------------------+\n|line                                                                                                                                                                       |\n+---------------------------------------------------------------------------------------------------------------------------------------------------------------------------+\n|==========================================                                                                                                                                 |\n|IOT Device Data                                                                                                                                                            |\n|==========================================                                                                                                                                 |\n|                                                                                                                                                                           |\n|                                                                                                                                                                           |\n|This dataset was created by Databricks.                                                                                                                                    |\n|It contains fake generated data in json and csv formats.                                                                                                                   |\n|e.g.                                                                                                                                                                       |\n|`{\"user_id\": 12, \"calories_burnt\": 489.79998779296875, \"num_steps\": 9796, \"miles_walked\": 4.8979997634887695, \"time_stamp\": \"2018-07-24 03:54:00.893775\", \"device_id\": 10}`|\n|                                                                                                                                                                           |\n|=========================================                                                                                                                                  |\n|Data Set Information                                                                                                                                                       |\n|=========================================                                                                                                                                  |\n|                                                                                                                                                                           |\n|Schema for data-device:                                                                                                                                                    |\n|```                                                                                                                                                                        |\n|[StructField(id,LongType,false),                                                                                                                                           |\n| StructField(user_id,LongType,true),                                                                                                                                       |\n| StructField(device_id,LongType,true),                                                                                                                                     |\n| StructField(num_steps,LongType,true),                                                                                                                                     |\n+---------------------------------------------------------------------------------------------------------------------------------------------------------------------------+\nonly showing top 20 rows\n\n"
     ]
    }
   ],
   "source": [
    "# Open one file to see how the data looks like (as a static dataframe)\n",
    "static_df = spark.read.schema(readme_schema).text(data_path)\n",
    "static_df.show(truncate=False)"
   ]
  },
  {
   "cell_type": "code",
   "execution_count": 0,
   "metadata": {
    "application/vnd.databricks.v1+cell": {
     "cellMetadata": {
      "byteLimit": 2048000,
      "rowLimit": 10000
     },
     "inputWidgets": {},
     "nuid": "31a7cd45-65dd-4768-b06d-bf4cf2dcce97",
     "showTitle": false,
     "tableResultSettingsMap": {},
     "title": ""
    }
   },
   "outputs": [],
   "source": [
    "# Define your streaming dataframe\n",
    "streaming_df = spark.readStream.schema(readme_schema).text(data_path)"
   ]
  },
  {
   "cell_type": "markdown",
   "metadata": {
    "application/vnd.databricks.v1+cell": {
     "cellMetadata": {},
     "inputWidgets": {},
     "nuid": "f11967f1-22e2-4f67-8d6d-84474e6ac798",
     "showTitle": false,
     "tableResultSettingsMap": {},
     "title": ""
    }
   },
   "source": [
    "# Transformation\n"
   ]
  },
  {
   "cell_type": "code",
   "execution_count": 0,
   "metadata": {
    "application/vnd.databricks.v1+cell": {
     "cellMetadata": {
      "byteLimit": 2048000,
      "rowLimit": 10000
     },
     "inputWidgets": {},
     "nuid": "0e69e69e-705a-499a-9089-69ec537293e0",
     "showTitle": false,
     "tableResultSettingsMap": {},
     "title": ""
    }
   },
   "outputs": [
    {
     "output_type": "stream",
     "name": "stdout",
     "output_type": "stream",
     "text": [
      "+---------------------------------------------------------------------------------------------------------------------------------------------------------------------------+\n|line                                                                                                                                                                       |\n+---------------------------------------------------------------------------------------------------------------------------------------------------------------------------+\n|==========================================                                                                                                                                 |\n|IOT Device Data                                                                                                                                                            |\n|==========================================                                                                                                                                 |\n|                                                                                                                                                                           |\n|                                                                                                                                                                           |\n|This dataset was created by Databricks.                                                                                                                                    |\n|It contains fake generated data in json and csv formats.                                                                                                                   |\n|e.g.                                                                                                                                                                       |\n|`{\"user_id\": 12, \"calories_burnt\": 489.79998779296875, \"num_steps\": 9796, \"miles_walked\": 4.8979997634887695, \"time_stamp\": \"2018-07-24 03:54:00.893775\", \"device_id\": 10}`|\n|                                                                                                                                                                           |\n|=========================================                                                                                                                                  |\n|Data Set Information                                                                                                                                                       |\n|=========================================                                                                                                                                  |\n|                                                                                                                                                                           |\n|Schema for data-device:                                                                                                                                                    |\n|```                                                                                                                                                                        |\n|[StructField(id,LongType,false),                                                                                                                                           |\n| StructField(user_id,LongType,true),                                                                                                                                       |\n| StructField(device_id,LongType,true),                                                                                                                                     |\n| StructField(num_steps,LongType,true),                                                                                                                                     |\n+---------------------------------------------------------------------------------------------------------------------------------------------------------------------------+\nonly showing top 20 rows\n\n"
     ]
    }
   ],
   "source": [
    "# preview the data\n",
    "static_df.show(truncate=False)"
   ]
  },
  {
   "cell_type": "code",
   "execution_count": 0,
   "metadata": {
    "application/vnd.databricks.v1+cell": {
     "cellMetadata": {
      "byteLimit": 2048000,
      "rowLimit": 10000
     },
     "inputWidgets": {},
     "nuid": "a127b548-4431-4825-8798-59b6ca8aa6ef",
     "showTitle": false,
     "tableResultSettingsMap": {},
     "title": ""
    }
   },
   "outputs": [
    {
     "output_type": "stream",
     "name": "stdout",
     "output_type": "stream",
     "text": [
      "Total lines in Readme file: 46\n"
     ]
    }
   ],
   "source": [
    "# counting lines\n",
    "total_lines = static_df.count()\n",
    "print(f\"Total lines in Readme file: {total_lines}\")"
   ]
  },
  {
   "cell_type": "code",
   "execution_count": 0,
   "metadata": {
    "application/vnd.databricks.v1+cell": {
     "cellMetadata": {
      "byteLimit": 2048000,
      "rowLimit": 10000
     },
     "inputWidgets": {},
     "nuid": "074a53a6-2582-4539-b481-7b7dfc1f5f16",
     "showTitle": false,
     "tableResultSettingsMap": {},
     "title": ""
    }
   },
   "outputs": [],
   "source": [
    "streaming_df = spark.readStream.schema(readme_schema).text(data_path)"
   ]
  },
  {
   "cell_type": "code",
   "execution_count": 0,
   "metadata": {
    "application/vnd.databricks.v1+cell": {
     "cellMetadata": {
      "byteLimit": 2048000,
      "rowLimit": 10000
     },
     "inputWidgets": {},
     "nuid": "8a764fd0-9c8a-4b3c-afe3-32916c943c20",
     "showTitle": false,
     "tableResultSettingsMap": {},
     "title": ""
    }
   },
   "outputs": [],
   "source": [
    "# Splting lines in to words\n",
    "words_df = streaming_df.select(explode(split(col(\"line\"), \" \")).alias(\"word\"))"
   ]
  },
  {
   "cell_type": "code",
   "execution_count": 0,
   "metadata": {
    "application/vnd.databricks.v1+cell": {
     "cellMetadata": {
      "byteLimit": 2048000,
      "rowLimit": 10000
     },
     "inputWidgets": {},
     "nuid": "a3284aa2-244f-4e1a-95e0-e9316e7328f9",
     "showTitle": false,
     "tableResultSettingsMap": {},
     "title": ""
    }
   },
   "outputs": [],
   "source": [
    "#Group by word and count occurence\n",
    "word_counts = words_df.groupBy(\"word\").count()"
   ]
  },
  {
   "cell_type": "code",
   "execution_count": 0,
   "metadata": {
    "application/vnd.databricks.v1+cell": {
     "cellMetadata": {
      "byteLimit": 2048000,
      "implicitDf": true,
      "rowLimit": 10000
     },
     "inputWidgets": {},
     "nuid": "7a264336-1032-4489-8bca-5d0bd652ddf9",
     "showTitle": false,
     "tableResultSettingsMap": {},
     "title": ""
    }
   },
   "outputs": [],
   "source": [
    "query = word_counts.writeStream.outputMode(\"complete\").format(\"console\").start()"
   ]
  }
 ],
 "metadata": {
  "application/vnd.databricks.v1+notebook": {
   "computePreferences": null,
   "dashboards": [],
   "environmentMetadata": null,
   "inputWidgetPreferences": null,
   "language": "python",
   "notebookMetadata": {
    "mostRecentlyExecutedCommandWithImplicitDF": {
     "commandId": -1,
     "dataframes": [
      "_sqldf"
     ]
    },
    "pythonIndentUnit": 2
   },
   "notebookName": "Lab3_StructuredStreaming",
   "widgets": {}
  }
 },
 "nbformat": 4,
 "nbformat_minor": 0
}
